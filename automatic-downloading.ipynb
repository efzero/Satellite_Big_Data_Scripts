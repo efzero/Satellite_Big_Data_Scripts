{
 "cells": [
  {
   "cell_type": "code",
   "execution_count": 42,
   "metadata": {},
   "outputs": [],
   "source": [
    "with open('info.txt','r') as file:\n",
    "    names_list = [line.strip() for line in file if line.strip()]\n",
    "products = [names_list[i] for i in range(len(names_list)) if i%2 == 0]\n",
    "product_names = [names_list[i] for i in range(len(names_list)) if i%2 == 1]"
   ]
  },
  {
   "cell_type": "code",
   "execution_count": 140,
   "metadata": {
    "collapsed": true
   },
   "outputs": [],
   "source": [
    "products[-22] = 'https://earthexplorer.usgs.gov/export/retrieve/?exportId=215409&exportKey=325552baf2fe2de283e3a5e934efb158'\n",
    "products[-23] = 'https://earthexplorer.usgs.gov/export/retrieve/?exportId=215408&exportKey=2fc61b37f01cfe2076164733a9e8da1b'"
   ]
  },
  {
   "cell_type": "code",
   "execution_count": 141,
   "metadata": {},
   "outputs": [],
   "source": [
    "import re\n",
    "import os\n",
    "import urllib\n",
    "import urllib3\n",
    "import requests\n",
    "from bs4 import BeautifulSoup\n",
    "import zipfile\n",
    "url2 = products[0]\n",
    "s = requests.Session()\n"
   ]
  },
  {
   "cell_type": "code",
   "execution_count": 144,
   "metadata": {},
   "outputs": [],
   "source": [
    "for i in range(len(products)):\n",
    "    url = products[i]\n",
    "    response = s.get(url)\n",
    "    soup = BeautifulSoup(response.content, 'html.parser')\n",
    "    buttons = soup.findAll(\"input\")\n",
    "    Link = buttons[0]['onclick']\n",
    "    Download = re.findall(\"(?<=').*(?=')\", Link)[0]\n",
    "    urllib.request.urlretrieve(Download, 'hello.zip')\n",
    "    zipdata = zipfile.ZipFile('hello.zip', 'r')\n",
    "    zipdata.extractall()\n",
    "    l = zipdata.namelist()\n",
    "    os.rename(l[0], str(i)+'.csv')"
   ]
  },
  {
   "cell_type": "code",
   "execution_count": 52,
   "metadata": {},
   "outputs": [],
   "source": [
    "file_list = [str(i)+'.csv' for i in range(len(products))]"
   ]
  },
  {
   "cell_type": "code",
   "execution_count": 53,
   "metadata": {
    "collapsed": true
   },
   "outputs": [],
   "source": [
    "import pandas as pd"
   ]
  },
  {
   "cell_type": "code",
   "execution_count": 145,
   "metadata": {},
   "outputs": [],
   "source": [
    "\n",
    "datas = []\n",
    "\n",
    "for i in file_list:\n",
    "    df = pd.read_csv(i, encoding = \"ISO-8859-1\")\n",
    "    datas.append(df)"
   ]
  },
  {
   "cell_type": "code",
   "execution_count": 205,
   "metadata": {},
   "outputs": [],
   "source": [
    "sceneList = []\n",
    "\n",
    "for i in range(len(datas)):\n",
    "    for j in datas[i]['Landsat Product Identifier']:\n",
    "        sceneList.append(j)\n"
   ]
  },
  {
   "cell_type": "code",
   "execution_count": 206,
   "metadata": {},
   "outputs": [
    {
     "name": "stdout",
     "output_type": "stream",
     "text": [
      "6418 6413\n"
     ]
    }
   ],
   "source": [
    "print(len(sceneList), len(set(sceneList)))"
   ]
  },
  {
   "cell_type": "code",
   "execution_count": 215,
   "metadata": {},
   "outputs": [],
   "source": [
    "with open(\"Output.txt\", \"w\") as text_file:\n",
    "    for i in range(5000):\n",
    "        text_file.write(sceneList[i] + '\\n')\n",
    "with open(\"Output2.txt\", \"w\") as text:\n",
    "    for i in range(5000,len(sceneList)):\n",
    "        text.write(sceneList[i] + '\\n')"
   ]
  },
  {
   "cell_type": "code",
   "execution_count": 207,
   "metadata": {},
   "outputs": [],
   "source": [
    "invalid = [\"LE07_L1TP_024031_20160607_20160901_01_T1\", \n",
    "           \"LC08_L1GT_024033_20160224_20170224_01_T2\", \n",
    "           \"LE07_L1TP_024033_20160607_20160901_01_T1\", \n",
    "           \"LE07_L1GT_024030_20160607_20160901_01_T2\", \n",
    "           \"LC08_L1GT_024031_20160224_20170224_01_T2\", \n",
    "           \"LC08_L1GT_024034_20160224_20170224_01_T2\", \n",
    "           \"LC08_L1GT_024030_20160224_20170224_01_T2\", \n",
    "           \"LC08_L1GT_024032_20160224_20170224_01_T2\", \n",
    "           \"LE07_L1TP_024034_20160607_20160902_01_T1\"]\n",
    "\n",
    "for i in invalid:\n",
    "    sceneList.remove(i)"
   ]
  },
  {
   "cell_type": "code",
   "execution_count": 208,
   "metadata": {},
   "outputs": [],
   "source": [
    "invalid2 = ['LO08_L1TP_024032_20130406_20170310_01_T1', \n",
    "            'LO08_L1TP_024033_20130406_20170310_01_T1',\n",
    "            'LO08_L1TP_024032_20130406_20170310_01_T1', \n",
    "            'LO08_L1TP_024033_20130406_20170310_01_T1']\n",
    "\n",
    "for i in invalid2:\n",
    "    sceneList.remove(i)"
   ]
  },
  {
   "cell_type": "code",
   "execution_count": 209,
   "metadata": {
    "collapsed": true
   },
   "outputs": [],
   "source": [
    "sceneList.remove(\"LE07_L1TP_024032_20160607_20160901_01_T1\")"
   ]
  },
  {
   "cell_type": "code",
   "execution_count": 210,
   "metadata": {},
   "outputs": [],
   "source": [
    "newinvalid1 = ['LO08_L1TP_024030_20130406_20170310_01_T1',\n",
    "               'LO08_L1TP_024031_20130406_20170310_01_T1',\n",
    "               'LO08_L1TP_024034_20130406_20170310_01_T1',\n",
    "               'LO08_L1TP_024030_20130406_20170310_01_T1', \n",
    "               'LO08_L1TP_024031_20130406_20170310_01_T1']"
   ]
  },
  {
   "cell_type": "code",
   "execution_count": 211,
   "metadata": {},
   "outputs": [],
   "source": [
    "for i in newinvalid1:\n",
    "    sceneList.remove(i)"
   ]
  },
  {
   "cell_type": "code",
   "execution_count": 212,
   "metadata": {},
   "outputs": [
    {
     "name": "stdout",
     "output_type": "stream",
     "text": [
      "6399 6398\n"
     ]
    }
   ],
   "source": [
    "print(len(sceneList), len(set(sceneList)))"
   ]
  },
  {
   "cell_type": "code",
   "execution_count": 214,
   "metadata": {},
   "outputs": [
    {
     "name": "stdout",
     "output_type": "stream",
     "text": [
      "6398 6398\n"
     ]
    }
   ],
   "source": [
    "scene_dict = {}\n",
    "for i in sceneList:\n",
    "    if i not in scene_dict:\n",
    "        scene_dict[i] = 1\n",
    "    else:\n",
    "        sceneList.remove(i)\n",
    "print(len(sceneList), len(set(sceneList)))"
   ]
  },
  {
   "cell_type": "code",
   "execution_count": 195,
   "metadata": {},
   "outputs": [
    {
     "name": "stdout",
     "output_type": "stream",
     "text": [
      "24 30\n",
      "LC08_L1GT_024030_20161224_20170218_01_T2\n",
      "24 30\n",
      "LE07_L1GT_024030_20161216_20170208_01_T2\n",
      "24 30\n",
      "LT05_L1GS_024030_20111109_20160830_01_T2\n",
      "24 31\n",
      "LC08_L1GT_024031_20161224_20170218_01_T2\n",
      "24 31\n",
      "LE07_L1GT_024031_20161216_20170208_01_T2\n",
      "24 31\n",
      "LT05_L1GS_024031_20111109_20160830_01_T2\n",
      "24 32\n",
      "LC08_L1GT_024032_20161224_20170218_01_T2\n",
      "24 32\n",
      "LE07_L1GT_024032_20161216_20170208_01_T2\n",
      "24 32\n",
      "LT05_L1GS_024032_20111109_20160830_01_T2\n",
      "24 33\n",
      "LC08_L1GT_024033_20161224_20170218_01_T2\n",
      "24 33\n",
      "LE07_L1GT_024033_20161216_20170208_01_T2\n",
      "24 33\n",
      "LT05_L1GS_024033_20111109_20160830_01_T2\n",
      "24 34\n",
      "LC08_L1GT_024034_20161224_20170218_01_T2\n",
      "24 34\n",
      "LE07_L1GT_024034_20161216_20170208_01_T2\n",
      "24 34\n",
      "LT05_L1GS_024034_20111109_20160830_01_T2\n",
      "25 30\n",
      "LC08_L1TP_025030_20161231_20170218_01_T1\n",
      "25 30\n",
      "LE07_L1GT_025030_20161223_20170214_01_T2\n",
      "25 30\n",
      "LT05_L1TP_025030_20111116_20160830_01_T1\n",
      "25 31\n",
      "LC08_L1TP_025031_20161231_20170218_01_T1\n",
      "25 31\n",
      "LE07_L1GT_025031_20161223_20170214_01_T2\n",
      "25 31\n",
      "LT05_L1TP_025031_20111116_20160830_01_T1\n",
      "25 32\n",
      "LC08_L1TP_025032_20161231_20170218_01_T1\n",
      "25 32\n",
      "LE07_L1GT_025032_20161223_20170214_01_T2\n",
      "25 32\n",
      "LT05_L1TP_025032_20111116_20160830_01_T1\n",
      "25 33\n",
      "LC08_L1TP_025033_20161231_20170218_01_T1\n",
      "25 33\n",
      "LE07_L1GT_025033_20161223_20170214_01_T2\n",
      "25 33\n",
      "LT05_L1TP_025033_20111116_20160830_01_T1\n"
     ]
    }
   ],
   "source": [
    "for i in range(len(datas)):\n",
    "    print(datas[i].iloc[0]['WRS Path'], datas[i].iloc[0]['WRS Row'])\n",
    "    print(datas[i].iloc[0]['Landsat Product Identifier'])\n"
   ]
  },
  {
   "cell_type": "code",
   "execution_count": 192,
   "metadata": {},
   "outputs": [
    {
     "data": {
      "text/plain": [
       "Landsat Product Identifier                LE07_L1GT_024030_20161130_20170122_01_T2\n",
       "Landsat Scene Identifier                                     LE70240302016335EDC00\n",
       "Acquisition Date                                                        2016/11/30\n",
       "Scan Line Corrector                                                            OFF\n",
       "Collection Category                                                             T2\n",
       "Collection Number                                                                1\n",
       "Sensor Mode                                                                 BUMPER\n",
       "WRS Path                                                                        24\n",
       "WRS Row                                                                         30\n",
       "Date L-1 Generated                                                      2017/01/22\n",
       "Start Time                                               2016:335:16:43:10.0117499\n",
       "Stop Time                                                2016:335:16:43:36.7656250\n",
       "Station Identifier                    EDC Sioux Falls  South Dakota  USA (aka LGS)\n",
       "Day/Night Indicator                                                            Day\n",
       "Land Cloud Cover                                                               100\n",
       "Scene Cloud Cover                                                              100\n",
       "Ground Control Points Model                                                    NaN\n",
       "Ground Control Points Version                                                  NaN\n",
       "Geometric RMSE Model                                                           NaN\n",
       "Geometric RMSE Model X                                                         NaN\n",
       "Geometric RMSE Model Y                                                         NaN\n",
       "Image Quality VCID 1                                                             9\n",
       "Image Quality VCID 2                                                             9\n",
       "Gain Band 1                                                                      H\n",
       "Gain Band 2                                                                      H\n",
       "Gain Band 3                                                                      H\n",
       "Gain Band 4                                                                      H\n",
       "Gain Band 5                                                                      H\n",
       "Gain Band 6 VCID 1                                                               L\n",
       "Gain Band 6 VCID 2                                                               H\n",
       "                                                       ...                        \n",
       "Ellipsoid                                                                    WGS84\n",
       "Grid Cell Size Panchromatic                                                     15\n",
       "Grid Cell Size Reflective                                                       30\n",
       "Grid Cell Size Thermal                                                          30\n",
       "Scan Gap Interpolation                                                           2\n",
       "Orientation                                                               NORTH_UP\n",
       "Resampling Option                                                CUBIC_CONVOLUTION\n",
       "Center Latitude                                                      43°10'56.64\"N\n",
       "Center Longitude                                                     89°24'46.37\"W\n",
       "NW Corner Lat                                                        44°08'34.44\"N\n",
       "NW Corner Long                                                       90°18'42.88\"W\n",
       "NE Corner Lat                                                        43°48'09.54\"N\n",
       "NE Corner Long                                                       87°58'11.78\"W\n",
       "SE Corner Lat                                                        42°12'44.50\"N\n",
       "SE Corner Long                                                       88°32'39.52\"W\n",
       "SW Corner Lat                                                        42°32'37.75\"N\n",
       "SW Corner Long                                                       90°49'38.39\"W\n",
       "Center Latitude dec                                                        43.1824\n",
       "Center Longitude dec                                                      -89.4129\n",
       "NW Corner Lat dec                                                          44.1429\n",
       "NW Corner Long dec                                                        -90.3119\n",
       "NE Corner Lat dec                                                          43.8026\n",
       "NE Corner Long dec                                                        -87.9699\n",
       "SE Corner Lat dec                                                          42.2124\n",
       "SE Corner Long dec                                                        -88.5443\n",
       "SW Corner Lat dec                                                          42.5438\n",
       "SW Corner Long dec                                                        -90.8273\n",
       "Display ID                                LE07_L1GT_024030_20161130_20170122_01_T2\n",
       "Ordering ID                               LE07_L1GT_024030_20161130_20170122_01_T2\n",
       "Browse Link                      https://earthexplorer.usgs.gov/browse-link/122...\n",
       "Name: 1, Length: 98, dtype: object"
      ]
     },
     "execution_count": 192,
     "metadata": {},
     "output_type": "execute_result"
    }
   ],
   "source": [
    "datas[1].iloc[1]['']"
   ]
  },
  {
   "cell_type": "code",
   "execution_count": null,
   "metadata": {
    "collapsed": true
   },
   "outputs": [],
   "source": []
  }
 ],
 "metadata": {
  "kernelspec": {
   "display_name": "Python 3",
   "language": "python",
   "name": "python3"
  },
  "language_info": {
   "codemirror_mode": {
    "name": "ipython",
    "version": 3
   },
   "file_extension": ".py",
   "mimetype": "text/x-python",
   "name": "python",
   "nbconvert_exporter": "python",
   "pygments_lexer": "ipython3",
   "version": "3.5.2"
  }
 },
 "nbformat": 4,
 "nbformat_minor": 2
}
