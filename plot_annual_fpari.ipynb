{
 "cells": [
  {
   "cell_type": "code",
   "execution_count": 296,
   "metadata": {
    "collapsed": false
   },
   "outputs": [],
   "source": [
    "from fpar_workflow import *\n",
    "import statsmodels.api as sm\n",
    "import statsmodels.stats.api as sms"
   ]
  },
  {
   "cell_type": "code",
   "execution_count": 236,
   "metadata": {
    "collapsed": true
   },
   "outputs": [],
   "source": [
    "from sklearn.decomposition import PCA"
   ]
  },
  {
   "cell_type": "code",
   "execution_count": 257,
   "metadata": {
    "collapsed": false
   },
   "outputs": [
    {
     "data": {
      "text/plain": [
       "array([[  4.01515429e-01,   2.92958218e-01,   3.62597255e-01,\n",
       "          5.44431247e-15],\n",
       "       [  4.19026062e-01,   2.16592270e-01,   2.30405792e-02,\n",
       "          1.20001916e-15],\n",
       "       [  3.06336596e-01,   1.68920306e-01,   1.62997093e-01,\n",
       "          4.71919945e-17],\n",
       "       ..., \n",
       "       [  3.07608029e-01,  -1.13777492e-01,   6.05554908e-02,\n",
       "          6.12955128e-16],\n",
       "       [  1.05789967e-02,  -1.87161042e-01,  -1.54277993e-02,\n",
       "          6.73293263e-16],\n",
       "       [  1.45582501e-01,  -1.28654642e-01,   1.76029396e-02,\n",
       "          6.35065462e-16]])"
      ]
     },
     "execution_count": 257,
     "metadata": {},
     "output_type": "execute_result"
    }
   ],
   "source": [
    "pca = PCA()\n",
    "X_reduced = pca.fit_transform(fp_workflow.cdl_matrix)\n",
    "X_reduced"
   ]
  },
  {
   "cell_type": "code",
   "execution_count": 353,
   "metadata": {
    "collapsed": false
   },
   "outputs": [],
   "source": [
    "fp_workflow = Fpar_flow()\n",
    "p4 = (41.53067026099156,-90.31086962890625)\n",
    "p3 = (41.53067026099156, -90.29682275390625)\n",
    "p2 = (41.55638178482896,-90.29682275390625)\n",
    "p1 = (41.55638178482896, -90.3186962890625)"
   ]
  },
  {
   "cell_type": "code",
   "execution_count": 354,
   "metadata": {
    "collapsed": true
   },
   "outputs": [],
   "source": [
    "fpar_path = 'FPAR_A2016185.hdf'\n",
    "cdl_path = 'cdl_chicago.npy'"
   ]
  },
  {
   "cell_type": "code",
   "execution_count": 355,
   "metadata": {
    "collapsed": false
   },
   "outputs": [],
   "source": [
    "fp_workflow.cdl_matrix"
   ]
  },
  {
   "cell_type": "code",
   "execution_count": 356,
   "metadata": {
    "collapsed": false
   },
   "outputs": [
    {
     "name": "stdout",
     "output_type": "stream",
     "text": [
      "(1552, 6275) (1552, 6279)\n",
      "(1557, 6279) (1557, 6277)\n",
      "fuckit\n",
      "(array([  85.7710763 ,   81.01829318,  106.00607548,   66.74423031]), array([ 778.96294232]), 4, array([ 2.42635342,  1.18245225,  0.56001946,  0.34958254]))\n"
     ]
    },
    {
     "name": "stderr",
     "output_type": "stream",
     "text": [
      "C:\\Users\\Bowen\\Desktop\\work\\Satellite_Big_Data_Scripts\\fpar_workflow.py:56: FutureWarning: comparison to `None` will result in an elementwise object comparison in the future.\n",
      "  assert self.cdl_matrix != None and self.fpar_vals != None\n"
     ]
    }
   ],
   "source": [
    "fp_workflow.init_workflow(fpar_path, cdl_path, p1, p2, p3, p4)"
   ]
  },
  {
   "cell_type": "code",
   "execution_count": 261,
   "metadata": {
    "collapsed": false
   },
   "outputs": [
    {
     "name": "stdout",
     "output_type": "stream",
     "text": [
      "(1549, 6275) (1549, 6572)\n",
      "(1563, 6572) (1563, 6277)\n",
      "fuckit\n",
      "(array([ 67.14582447,  68.10530203,  72.832421  ,  68.15809251]), array([ 192351.69219643]), 4, array([ 41.02761123,  21.67232743,  13.16324277,   5.07118152]))\n"
     ]
    },
    {
     "name": "stderr",
     "output_type": "stream",
     "text": [
      "C:\\Users\\Bowen\\Desktop\\work\\Satellite_Big_Data_Scripts\\fpar_workflow.py:56: FutureWarning: comparison to `None` will result in an elementwise object comparison in the future.\n",
      "  assert self.cdl_matrix != None and self.fpar_vals != None\n"
     ]
    }
   ],
   "source": [
    "fp_workflow.continue_workflow(fpar_path, p1, p2, p3, p4)"
   ]
  },
  {
   "cell_type": "code",
   "execution_count": 357,
   "metadata": {
    "collapsed": false
   },
   "outputs": [
    {
     "name": "stderr",
     "output_type": "stream",
     "text": [
      "c:\\users\\bowen\\anaconda3\\lib\\site-packages\\scipy\\stats\\stats.py:1390: UserWarning: kurtosistest only valid for n>=20 ... continuing anyway, n=15\n",
      "  \"anyway, n=%i\" % int(n))\n"
     ]
    },
    {
     "data": {
      "text/html": [
       "<table class=\"simpletable\">\n",
       "<caption>OLS Regression Results</caption>\n",
       "<tr>\n",
       "  <th>Dep. Variable:</th>            <td>y</td>        <th>  R-squared:         </th> <td>   0.188</td>\n",
       "</tr>\n",
       "<tr>\n",
       "  <th>Model:</th>                   <td>OLS</td>       <th>  Adj. R-squared:    </th> <td>  -0.033</td>\n",
       "</tr>\n",
       "<tr>\n",
       "  <th>Method:</th>             <td>Least Squares</td>  <th>  F-statistic:       </th> <td>  0.8503</td>\n",
       "</tr>\n",
       "<tr>\n",
       "  <th>Date:</th>             <td>Mon, 19 Mar 2018</td> <th>  Prob (F-statistic):</th>  <td> 0.495</td> \n",
       "</tr>\n",
       "<tr>\n",
       "  <th>Time:</th>                 <td>17:43:53</td>     <th>  Log-Likelihood:    </th> <td> -50.908</td>\n",
       "</tr>\n",
       "<tr>\n",
       "  <th>No. Observations:</th>      <td>    15</td>      <th>  AIC:               </th> <td>   109.8</td>\n",
       "</tr>\n",
       "<tr>\n",
       "  <th>Df Residuals:</th>          <td>    11</td>      <th>  BIC:               </th> <td>   112.6</td>\n",
       "</tr>\n",
       "<tr>\n",
       "  <th>Df Model:</th>              <td>     3</td>      <th>                     </th>     <td> </td>   \n",
       "</tr>\n",
       "<tr>\n",
       "  <th>Covariance Type:</th>      <td>nonrobust</td>    <th>                     </th>     <td> </td>   \n",
       "</tr>\n",
       "</table>\n",
       "<table class=\"simpletable\">\n",
       "<tr>\n",
       "   <td></td>     <th>coef</th>     <th>std err</th>      <th>t</th>      <th>P>|t|</th>  <th>[0.025</th>    <th>0.975]</th>  \n",
       "</tr>\n",
       "<tr>\n",
       "  <th>x1</th> <td>   85.7711</td> <td>    4.411</td> <td>   19.444</td> <td> 0.000</td> <td>   76.062</td> <td>   95.480</td>\n",
       "</tr>\n",
       "<tr>\n",
       "  <th>x2</th> <td>   81.0183</td> <td>   14.778</td> <td>    5.483</td> <td> 0.000</td> <td>   48.493</td> <td>  113.543</td>\n",
       "</tr>\n",
       "<tr>\n",
       "  <th>x3</th> <td>  106.0061</td> <td>   22.704</td> <td>    4.669</td> <td> 0.001</td> <td>   56.035</td> <td>  155.977</td>\n",
       "</tr>\n",
       "<tr>\n",
       "  <th>x4</th> <td>   66.7442</td> <td>   10.707</td> <td>    6.234</td> <td> 0.000</td> <td>   43.179</td> <td>   90.310</td>\n",
       "</tr>\n",
       "</table>\n",
       "<table class=\"simpletable\">\n",
       "<tr>\n",
       "  <th>Omnibus:</th>       <td> 0.192</td> <th>  Durbin-Watson:     </th> <td>   2.373</td>\n",
       "</tr>\n",
       "<tr>\n",
       "  <th>Prob(Omnibus):</th> <td> 0.908</td> <th>  Jarque-Bera (JB):  </th> <td>   0.350</td>\n",
       "</tr>\n",
       "<tr>\n",
       "  <th>Skew:</th>          <td>-0.202</td> <th>  Prob(JB):          </th> <td>   0.839</td>\n",
       "</tr>\n",
       "<tr>\n",
       "  <th>Kurtosis:</th>      <td> 2.370</td> <th>  Cond. No.          </th> <td>    6.94</td>\n",
       "</tr>\n",
       "</table>"
      ],
      "text/plain": [
       "<class 'statsmodels.iolib.summary.Summary'>\n",
       "\"\"\"\n",
       "                            OLS Regression Results                            \n",
       "==============================================================================\n",
       "Dep. Variable:                      y   R-squared:                       0.188\n",
       "Model:                            OLS   Adj. R-squared:                 -0.033\n",
       "Method:                 Least Squares   F-statistic:                    0.8503\n",
       "Date:                Mon, 19 Mar 2018   Prob (F-statistic):              0.495\n",
       "Time:                        17:43:53   Log-Likelihood:                -50.908\n",
       "No. Observations:                  15   AIC:                             109.8\n",
       "Df Residuals:                      11   BIC:                             112.6\n",
       "Df Model:                           3                                         \n",
       "Covariance Type:            nonrobust                                         \n",
       "==============================================================================\n",
       "                 coef    std err          t      P>|t|      [0.025      0.975]\n",
       "------------------------------------------------------------------------------\n",
       "x1            85.7711      4.411     19.444      0.000      76.062      95.480\n",
       "x2            81.0183     14.778      5.483      0.000      48.493     113.543\n",
       "x3           106.0061     22.704      4.669      0.001      56.035     155.977\n",
       "x4            66.7442     10.707      6.234      0.000      43.179      90.310\n",
       "==============================================================================\n",
       "Omnibus:                        0.192   Durbin-Watson:                   2.373\n",
       "Prob(Omnibus):                  0.908   Jarque-Bera (JB):                0.350\n",
       "Skew:                          -0.202   Prob(JB):                        0.839\n",
       "Kurtosis:                       2.370   Cond. No.                         6.94\n",
       "==============================================================================\n",
       "\n",
       "Warnings:\n",
       "[1] Standard Errors assume that the covariance matrix of the errors is correctly specified.\n",
       "\"\"\""
      ]
     },
     "execution_count": 357,
     "metadata": {},
     "output_type": "execute_result"
    },
    {
     "data": {
      "image/png": "[encoded data removed]",
      "text/plain": [
       "<matplotlib.figure.Figure at 0x2e8ba08710>"
      ]
     },
     "metadata": {},
     "output_type": "display_data"
    }
   ],
   "source": [
    "y_hat = fp_workflow.cdl_matrix@fp_workflow.reg_coeffs\n",
    "\n",
    "y = fp_workflow.fpar_vals\n",
    "x = fp_workflow.cdl_matrix\n",
    "\n",
    "\n",
    "\n",
    "plt.xlim(70, 100)\n",
    "plt.ylim(70, 100)\n",
    "plt.scatter(y_hat, y)\n",
    "plt.xlabel('predicted')\n",
    "# xlim((70,100))\n",
    "# ylim((70, 100))\n",
    "plt.ylabel('actual')\n",
    "\n",
    "\n",
    "# yx = np.append(x, np.array(y).reshape(-1,1), axis = 1)\n",
    "# yx[:,:-1]\n",
    "\n",
    "# sampleyx = yx[np.random.choice(yx.shape[0], 1000, replace=False)]\n",
    "# SST = np.sum((y - np.mean(y))**2)\n",
    "# SSE = np.sum((y - y_hat)**2)\n",
    "# SSR = np.sum((y_hat - np.mean(y))**2)\n",
    "# R_square = 1 - SSE/SST\n",
    "# print(R_square)\n",
    "\n",
    "X_reduced = sm.add_constant(X_reduced)\n",
    "model = sm.OLS(y, x).fit()\n",
    "model.summary()\n",
    "# np.linalg.cond(model.model.exog)"
   ]
  },
  {
   "cell_type": "code",
   "execution_count": 323,
   "metadata": {
    "collapsed": false
   },
   "outputs": [
    {
     "data": {
      "text/html": [
       "<table class=\"simpletable\">\n",
       "<caption>OLS Regression Results</caption>\n",
       "<tr>\n",
       "  <th>Dep. Variable:</th>            <td>y</td>        <th>  R-squared:         </th> <td>   0.280</td> \n",
       "</tr>\n",
       "<tr>\n",
       "  <th>Model:</th>                   <td>OLS</td>       <th>  Adj. R-squared:    </th> <td>   0.280</td> \n",
       "</tr>\n",
       "<tr>\n",
       "  <th>Method:</th>             <td>Least Squares</td>  <th>  F-statistic:       </th> <td>   318.4</td> \n",
       "</tr>\n",
       "<tr>\n",
       "  <th>Date:</th>             <td>Mon, 19 Mar 2018</td> <th>  Prob (F-statistic):</th> <td>1.47e-174</td>\n",
       "</tr>\n",
       "<tr>\n",
       "  <th>Time:</th>                 <td>17:19:09</td>     <th>  Log-Likelihood:    </th> <td>  435.20</td> \n",
       "</tr>\n",
       "<tr>\n",
       "  <th>No. Observations:</th>      <td>  2454</td>      <th>  AIC:               </th> <td>  -864.4</td> \n",
       "</tr>\n",
       "<tr>\n",
       "  <th>Df Residuals:</th>          <td>  2451</td>      <th>  BIC:               </th> <td>  -847.0</td> \n",
       "</tr>\n",
       "<tr>\n",
       "  <th>Df Model:</th>              <td>     3</td>      <th>                     </th>     <td> </td>    \n",
       "</tr>\n",
       "<tr>\n",
       "  <th>Covariance Type:</th>      <td>nonrobust</td>    <th>                     </th>     <td> </td>    \n",
       "</tr>\n",
       "</table>\n",
       "<table class=\"simpletable\">\n",
       "<tr>\n",
       "   <td></td>     <th>coef</th>     <th>std err</th>      <th>t</th>      <th>P>|t|</th>  <th>[0.025</th>    <th>0.975]</th>  \n",
       "</tr>\n",
       "<tr>\n",
       "  <th>x1</th> <td>    0.0708</td> <td>    0.008</td> <td>    9.383</td> <td> 0.000</td> <td>    0.056</td> <td>    0.086</td>\n",
       "</tr>\n",
       "<tr>\n",
       "  <th>x2</th> <td>    0.0598</td> <td>    0.012</td> <td>    5.181</td> <td> 0.000</td> <td>    0.037</td> <td>    0.082</td>\n",
       "</tr>\n",
       "<tr>\n",
       "  <th>x3</th> <td>    1.0093</td> <td>    0.045</td> <td>   22.636</td> <td> 0.000</td> <td>    0.922</td> <td>    1.097</td>\n",
       "</tr>\n",
       "</table>\n",
       "<table class=\"simpletable\">\n",
       "<tr>\n",
       "  <th>Omnibus:</th>       <td>1162.609</td> <th>  Durbin-Watson:     </th> <td>   1.167</td>\n",
       "</tr>\n",
       "<tr>\n",
       "  <th>Prob(Omnibus):</th>  <td> 0.000</td>  <th>  Jarque-Bera (JB):  </th> <td>6112.496</td>\n",
       "</tr>\n",
       "<tr>\n",
       "  <th>Skew:</th>           <td> 2.259</td>  <th>  Prob(JB):          </th> <td>    0.00</td>\n",
       "</tr>\n",
       "<tr>\n",
       "  <th>Kurtosis:</th>       <td> 9.275</td>  <th>  Cond. No.          </th> <td>    6.96</td>\n",
       "</tr>\n",
       "</table>"
      ],
      "text/plain": [
       "<class 'statsmodels.iolib.summary.Summary'>\n",
       "\"\"\"\n",
       "                            OLS Regression Results                            \n",
       "==============================================================================\n",
       "Dep. Variable:                      y   R-squared:                       0.280\n",
       "Model:                            OLS   Adj. R-squared:                  0.280\n",
       "Method:                 Least Squares   F-statistic:                     318.4\n",
       "Date:                Mon, 19 Mar 2018   Prob (F-statistic):          1.47e-174\n",
       "Time:                        17:19:09   Log-Likelihood:                 435.20\n",
       "No. Observations:                2454   AIC:                            -864.4\n",
       "Df Residuals:                    2451   BIC:                            -847.0\n",
       "Df Model:                           3                                         \n",
       "Covariance Type:            nonrobust                                         \n",
       "==============================================================================\n",
       "                 coef    std err          t      P>|t|      [0.025      0.975]\n",
       "------------------------------------------------------------------------------\n",
       "x1             0.0708      0.008      9.383      0.000       0.056       0.086\n",
       "x2             0.0598      0.012      5.181      0.000       0.037       0.082\n",
       "x3             1.0093      0.045     22.636      0.000       0.922       1.097\n",
       "==============================================================================\n",
       "Omnibus:                     1162.609   Durbin-Watson:                   1.167\n",
       "Prob(Omnibus):                  0.000   Jarque-Bera (JB):             6112.496\n",
       "Skew:                           2.259   Prob(JB):                         0.00\n",
       "Kurtosis:                       9.275   Cond. No.                         6.96\n",
       "==============================================================================\n",
       "\n",
       "Warnings:\n",
       "[1] Standard Errors assume that the covariance matrix of the errors is correctly specified.\n",
       "\"\"\""
      ]
     },
     "execution_count": 323,
     "metadata": {},
     "output_type": "execute_result"
    }
   ],
   "source": [
    "x3 = fp_workflow.cdl_matrix[:,3]\n",
    "x12 = fp_workflow.cdl_matrix[:,[0,1,2]]\n",
    "# x12 = sm.add_constant(x12)\n",
    "collinearity = sm.OLS(x3, x12).fit()\n",
    "collinearity.summary()\n",
    "# x12\n",
    "# x12\n",
    "# np.sum(x12, axis = 1) + x3"
   ]
  },
  {
   "cell_type": "code",
   "execution_count": 130,
   "metadata": {
    "collapsed": false
   },
   "outputs": [
    {
     "ename": "AttributeError",
     "evalue": "module 'sklearn' has no attribute 'Linear_model'",
     "output_type": "error",
     "traceback": [
      "\u001b[0;31m---------------------------------------------------------------------------\u001b[0m",
      "\u001b[0;31mAttributeError\u001b[0m                            Traceback (most recent call last)",
      "\u001b[0;32m<ipython-input-130-27e925464154>\u001b[0m in \u001b[0;36m<module>\u001b[0;34m()\u001b[0m\n\u001b[1;32m      1\u001b[0m \u001b[1;31m# from sklearn.linear_model import Ridge\u001b[0m\u001b[1;33m\u001b[0m\u001b[1;33m\u001b[0m\u001b[0m\n\u001b[1;32m      2\u001b[0m \u001b[1;32mimport\u001b[0m \u001b[0msklearn\u001b[0m\u001b[1;33m\u001b[0m\u001b[0m\n\u001b[0;32m----> 3\u001b[0;31m \u001b[0msklearn\u001b[0m\u001b[1;33m.\u001b[0m\u001b[0mLinear_model\u001b[0m\u001b[1;33m\u001b[0m\u001b[0m\n\u001b[0m",
      "\u001b[0;31mAttributeError\u001b[0m: module 'sklearn' has no attribute 'Linear_model'"
     ]
    }
   ],
   "source": [
    "# from sklearn.linear_model import Ridge\n",
    "import sklearn\n",
    "sklearn.Linear_model"
   ]
  },
  {
   "cell_type": "code",
   "execution_count": 359,
   "metadata": {
    "collapsed": false
   },
   "outputs": [
    {
     "data": {
      "text/plain": [
       "<matplotlib.legend.Legend at 0x2e8b891b70>"
      ]
     },
     "execution_count": 359,
     "metadata": {},
     "output_type": "execute_result"
    },
    {
     "data": {
      "image/png": "[encoded data removed]",
      "text/plain": [
       "<matplotlib.figure.Figure at 0x2e8ba2ee80>"
      ]
     },
     "metadata": {},
     "output_type": "display_data"
    }
   ],
   "source": [
    "import matplotlib.pyplot as plt\n",
    "%matplotlib inline\n",
    "coeffs = np.array(coeffs)\n",
    "x = [185+ i for i in range(0, 81, 8)]\n",
    "plt.plot(x, coeffs[:,0], label = 'corn')\n",
    "plt.plot(x, coeffs[:,1], label = 'soybean')\n",
    "# plt.plot(x, coeffs[:,2], label = 'grass')\n",
    "# plt.plot(x, coeffs[:,3], label = 'biase')\n",
    "plt.legend()"
   ]
  },
  {
   "cell_type": "code",
   "execution_count": 235,
   "metadata": {
    "collapsed": false
   },
   "outputs": [
    {
     "name": "stdout",
     "output_type": "stream",
     "text": [
      "0.149317318397 0.00636143446433 0.290937495891\n"
     ]
    },
    {
     "data": {
      "image/png": "[encoded data removed]",
      "text/plain": [
       "<matplotlib.figure.Figure at 0x2e8437ae48>"
      ]
     },
     "metadata": {},
     "output_type": "display_data"
    }
   ],
   "source": [
    "plt.figure()\n",
    "plt.plot(x, rsquares, label = 'r-squared')\n",
    "plt.legend()\n",
    "print(np.mean(rsquares), np.min(rsquares), np.max(rsquares))\n"
   ]
  },
  {
   "cell_type": "code",
   "execution_count": 358,
   "metadata": {
    "collapsed": false
   },
   "outputs": [
    {
     "name": "stdout",
     "output_type": "stream",
     "text": [
      "(1552, 6275) (1552, 6279)\n",
      "(1557, 6279) (1557, 6277)\n",
      "fuckit\n",
      "(array([  85.7710763 ,   81.01829318,  106.00607548,   66.74423031]), array([ 778.96294232]), 4, array([ 2.42635342,  1.18245225,  0.56001946,  0.34958254]))\n"
     ]
    },
    {
     "name": "stderr",
     "output_type": "stream",
     "text": [
      "C:\\Users\\Bowen\\Desktop\\work\\Satellite_Big_Data_Scripts\\fpar_workflow.py:56: FutureWarning: comparison to `None` will result in an elementwise object comparison in the future.\n",
      "  assert self.cdl_matrix != None and self.fpar_vals != None\n"
     ]
    },
    {
     "name": "stdout",
     "output_type": "stream",
     "text": [
      "(1552, 6275) (1552, 6279)\n",
      "(1557, 6279) (1557, 6277)\n",
      "fuckit\n",
      "(array([  89.30411247,   78.60330194,  102.1231668 ,   67.30180423]), array([ 464.24816004]), 4, array([ 2.49568581,  1.21623186,  0.57010408,  0.3740793 ]))\n",
      "(1552, 6275) (1552, 6279)\n",
      "(1557, 6279) (1557, 6277)\n",
      "fuckit\n",
      "(array([ 82.04338882,  88.34563677,  79.58461923,  64.04032245]), array([ 117.52432286]), 4, array([ 2.44911802,  1.17760732,  0.56252109,  0.34517441]))\n",
      "(1552, 6275) (1552, 6279)\n",
      "(1557, 6279) (1557, 6277)\n",
      "fuckit\n",
      "(array([ 81.39812755,  88.68257435,  91.14383367,  79.73398508]), array([ 285.18097055]), 4, array([ 2.38368166,  1.17558974,  0.47648288,  0.32765116]))\n",
      "(1552, 6275) (1552, 6279)\n",
      "(1557, 6279) (1557, 6277)\n",
      "fuckit\n",
      "(array([ 87.4160618 ,  84.32978023,  66.50022316,  94.96046738]), array([ 216.38210453]), 4, array([ 2.22373496,  1.11556043,  0.54919563,  0.31141946]))\n",
      "(1552, 6275) (1552, 6279)\n",
      "(1557, 6279) (1557, 6277)\n",
      "fuckit\n",
      "(array([  75.13822755,  105.20854746,   67.49428348,   66.27659868]), array([ 26.42136334]), 4, array([ 1.37097414,  0.5979097 ,  0.34419697,  0.10497449]))\n",
      "(1552, 6275) (1552, 6279)\n",
      "(1557, 6279) (1557, 6277)\n",
      "fuckit\n",
      "(array([  74.75156237,   92.84124116,  100.61650772,   68.78181677]), array([ 230.1134436]), 4, array([ 2.47152008,  1.20119972,  0.49300734,  0.33782028]))\n",
      "(1552, 6275) (1552, 6279)\n",
      "(1557, 6279) (1557, 6277)\n",
      "fuckit\n",
      "(array([  70.03038166,   76.53531188,  110.109586  ,   63.14785939]), array([ 271.24696318]), 4, array([ 2.38571905,  0.84358412,  0.54767593,  0.37140298]))\n",
      "(1552, 6275) (1552, 6279)\n",
      "(1557, 6279) (1557, 6277)\n",
      "fuckit\n",
      "(array([ 65.16445911,  66.4858793 ,  83.78082729,  73.89957271]), array([ 333.64466275]), 4, array([ 2.49568581,  1.21623186,  0.57010408,  0.3740793 ]))\n",
      "(1552, 6275) (1552, 6279)\n",
      "(1557, 6279) (1557, 6277)\n",
      "fuckit\n",
      "(array([ 41.32408858,  45.43486829,  91.12279646,  54.6079745 ]), array([ 391.17662534]), 4, array([ 2.35244402,  1.18212039,  0.56685163,  0.37264412]))\n",
      "(1552, 6275) (1552, 6279)\n",
      "(1557, 6279) (1557, 6277)\n",
      "fuckit\n",
      "(array([ 36.89568119,  18.37306427,  81.68819869,  60.04670861]), array([ 556.63210742]), 4, array([ 2.49568581,  1.21623186,  0.57010408,  0.3740793 ]))\n"
     ]
    }
   ],
   "source": [
    "coeffs = []\n",
    "rsquares = []\n",
    "for i in range(185, 266, 8):\n",
    "    prefix ='FPAR_A2016'\n",
    "    suffix = '.hdf'\n",
    "    query = prefix + str(i) + suffix\n",
    "    fp_workflow.continue_workflow(query, p1, p2, p3, p4)\n",
    "    coeffs.append(fp_workflow.reg_coeffs)\n",
    "    y = fp_workflow.fpar_vals\n",
    "    x = fp_workflow.cdl_matrix\n",
    "    yx = np.append(x, np.array(y).reshape(-1,1), axis = 1)\n",
    "    \n",
    "    np.random.shuffle(yx)\n",
    "    sampleyx = yx\n",
    "#     sampleyx = yx[np.random.choice(yx.shape[0], 100, replace=False)]\n",
    "    y_ = sampleyx[:,-1]\n",
    "    x_ = sampleyx[:,:-1]\n",
    "    r_squared = sm.OLS(y_, x_).fit().rsquared\n",
    "    rsquares.append(r_squared)"
   ]
  },
  {
   "cell_type": "code",
   "execution_count": 29,
   "metadata": {
    "collapsed": false
   },
   "outputs": [
    {
     "data": {
      "text/plain": [
       "(array([   44.,    31.,    29.,    71.,    72.,   104.,   177.,   370.,\n",
       "         1247.,  4049.]),\n",
       " array([ 0. ,  0.1,  0.2,  0.3,  0.4,  0.5,  0.6,  0.7,  0.8,  0.9,  1. ]),\n",
       " <a list of 10 Patch objects>)"
      ]
     },
     "execution_count": 29,
     "metadata": {},
     "output_type": "execute_result"
    }
   ],
   "source": [
    "#matplotlib inline\n",
    "plt.hist(np.sum(fp_workflow.cdl_matrix[:,0:2], axis = 1))"
   ]
  },
  {
   "cell_type": "code",
   "execution_count": 7,
   "metadata": {
    "collapsed": false
   },
   "outputs": [
    {
     "name": "stdout",
     "output_type": "stream",
     "text": [
      "(1652, 6695) (1652, 6709)\n",
      "(1662, 6709) (1662, 6695)\n",
      "fuckit\n",
      "(array([  83.90493839,   76.36140545,    0.        ,  101.31082992]), array([], dtype=float64), 3, array([ 5.92926643,  3.54830834,  0.39245072,  0.        ]))\n"
     ]
    },
    {
     "name": "stderr",
     "output_type": "stream",
     "text": [
      "C:\\Users\\Bowen\\Desktop\\work\\Satellite_Big_Data_Scripts\\fpar_workflow.py:55: FutureWarning: comparison to `None` will result in an elementwise object comparison in the future.\n",
      "  assert self.cdl_matrix != None and self.fpar_vals != None\n"
     ]
    }
   ],
   "source": [
    "fp_workflow.continue_workflow('FPAR_A2016185.hdf')"
   ]
  },
  {
   "cell_type": "code",
   "execution_count": 21,
   "metadata": {
    "collapsed": false
   },
   "outputs": [
    {
     "data": {
      "text/plain": [
       "<matplotlib.collections.PathCollection at 0x76e6b18470>"
      ]
     },
     "execution_count": 21,
     "metadata": {},
     "output_type": "execute_result"
    },
    {
     "data": {
      "image/png": "[encoded data removed]",
      "text/plain": [
       "<matplotlib.figure.Figure at 0x76d350ebe0>"
      ]
     },
     "metadata": {},
     "output_type": "display_data"
    }
   ],
   "source": [
    "%matplotlib inline\n",
    "plt.scatter(fp_workflow.cdl_matrix[:,3], fp_workflow.fpar_vals)"
   ]
  },
  {
   "cell_type": "code",
   "execution_count": 15,
   "metadata": {
    "collapsed": false
   },
   "outputs": [
    {
     "data": {
      "text/plain": [
       "2.0037305148434825e-12"
      ]
     },
     "execution_count": 15,
     "metadata": {},
     "output_type": "execute_result"
    }
   ],
   "source": [
    "np.sum(fp_workflow.cdl_matrix@fp_workflow.reg_coeffs - fp_workflow.fpar_vals)"
   ]
  },
  {
   "cell_type": "code",
   "execution_count": 16,
   "metadata": {
    "collapsed": false
   },
   "outputs": [
    {
     "data": {
      "text/plain": [
       "72"
      ]
     },
     "execution_count": 16,
     "metadata": {},
     "output_type": "execute_result"
    }
   ],
   "source": [
    "len(fp_workflow.fpar_vals)"
   ]
  },
  {
   "cell_type": "code",
   "execution_count": 6,
   "metadata": {
    "collapsed": false
   },
   "outputs": [],
   "source": [
    "import statsmodels.api as sm"
   ]
  },
  {
   "cell_type": "code",
   "execution_count": 11,
   "metadata": {
    "collapsed": false
   },
   "outputs": [
    {
     "data": {
      "text/plain": [
       "Ridge(alpha=1.0, copy_X=True, fit_intercept=False, max_iter=None,\n",
       "   normalize=False, random_state=None, solver='auto', tol=0.001)"
      ]
     },
     "execution_count": 11,
     "metadata": {},
     "output_type": "execute_result"
    }
   ],
   "source": [
    "from sklearn.linear_model import Ridge\n",
    "clf = Ridge(alpha = 1.0, fit_intercept = False)\n",
    "clf.fit(x,y)"
   ]
  },
  {
   "cell_type": "code",
   "execution_count": 15,
   "metadata": {
    "collapsed": false
   },
   "outputs": [
    {
     "name": "stdout",
     "output_type": "stream",
     "text": [
      "[ 85.10776907  80.00577495  69.80132729  67.5235043 ] [ 85.0903471   79.98963568  71.59279432  67.71203231]\n"
     ]
    }
   ],
   "source": [
    "print(clf.coef_, fp_workflow.reg_coeffs)\n",
    "\n",
    "\n"
   ]
  },
  {
   "cell_type": "code",
   "execution_count": 309,
   "metadata": {
    "collapsed": false
   },
   "outputs": [
    {
     "data": {
      "text/plain": [
       "Text(0.5,1,'')"
      ]
     },
     "execution_count": 309,
     "metadata": {},
     "output_type": "execute_result"
    },
    {
     "data": {
      "image/png": "[encoded data removed]",
      "text/plain": [
       "<matplotlib.figure.Figure at 0x2e84f7d2e8>"
      ]
     },
     "metadata": {},
     "output_type": "display_data"
    },
    {
     "data": {
      "image/png": "[encoded data removed]",
      "text/plain": [
       "<matplotlib.figure.Figure at 0x2e844e0400>"
      ]
     },
     "metadata": {},
     "output_type": "display_data"
    },
    {
     "data": {
      "image/png": "[encoded data removed]",
      "text/plain": [
       "<matplotlib.figure.Figure at 0x2e8449bb00>"
      ]
     },
     "metadata": {},
     "output_type": "display_data"
    },
    {
     "data": {
      "image/png": "[encoded data removed]",
      "text/plain": [
       "<matplotlib.figure.Figure at 0x2e82ca5c50>"
      ]
     },
     "metadata": {},
     "output_type": "display_data"
    }
   ],
   "source": [
    "%matplotlib inline\n",
    "x = fp_workflow.cdl_matrix\n",
    "y = fp_workflow.fpar_vals\n",
    "plt.scatter(x[:,0], y)\n",
    "plt.title('corn')\n",
    "plt.figure()\n",
    "plt.scatter(x[:,1], y)\n",
    "plt.title('soybeans')\n",
    "plt.figure()\n",
    "plt.scatter(x[:,2], y)\n",
    "plt.title('grass')\n",
    "\n",
    "plt.figure()\n",
    "plt.scatter(x[:,3], y)\n",
    "plt.title('')"
   ]
  },
  {
   "cell_type": "code",
   "execution_count": 32,
   "metadata": {
    "collapsed": false
   },
   "outputs": [
    {
     "data": {
      "text/plain": [
       "(array([ 992.,  554.,  606.,  676.,  644.,  607.,  576.,  518.,  486.,  535.]),\n",
       " array([ 0. ,  0.1,  0.2,  0.3,  0.4,  0.5,  0.6,  0.7,  0.8,  0.9,  1. ]),\n",
       " <a list of 10 Patch objects>)"
      ]
     },
     "execution_count": 32,
     "metadata": {},
     "output_type": "execute_result"
    }
   ],
   "source": [
    "qcs = []\n",
    "for i in fp_workflow.fp_ptrs:\n",
    "    qcs.append(fp_workflow.fpar_.qc[i[0], i[1]])\n",
    "    \n",
    "# good_qc(qcs)\n",
    "plt.hist(fp_workflow.cdl_matrix[:,0])"
   ]
  },
  {
   "cell_type": "code",
   "execution_count": 31,
   "metadata": {
    "collapsed": false
   },
   "outputs": [
    {
     "data": {
      "text/plain": [
       "(array([   44.,    31.,    29.,    71.,    72.,   104.,   177.,   370.,\n",
       "         1247.,  4049.]),\n",
       " array([ 0. ,  0.1,  0.2,  0.3,  0.4,  0.5,  0.6,  0.7,  0.8,  0.9,  1. ]),\n",
       " <a list of 10 Patch objects>)"
      ]
     },
     "execution_count": 31,
     "metadata": {},
     "output_type": "execute_result"
    }
   ],
   "source": [
    "# plt.scatter(np.arange(47), y)\n",
    "plt.hist(np.sum(fp_workflow.cdl_matrix[:,0:2], axis = 1))"
   ]
  },
  {
   "cell_type": "code",
   "execution_count": 118,
   "metadata": {
    "collapsed": false
   },
   "outputs": [
    {
     "data": {
      "text/plain": [
       "array([  0.00000000e+00,   0.00000000e+00,   1.11022302e-16, ...,\n",
       "         0.00000000e+00,   0.00000000e+00,   0.00000000e+00])"
      ]
     },
     "execution_count": 118,
     "metadata": {},
     "output_type": "execute_result"
    }
   ],
   "source": [
    "fp_workflow.cdl_matrix[:,3] - 1 +  fp_workflow.cdl_matrix[:,2] + fp_workflow.cdl_matrix[:,1] + fp_workflow.cdl_matrix[:,0]"
   ]
  },
  {
   "cell_type": "code",
   "execution_count": 151,
   "metadata": {
    "collapsed": false
   },
   "outputs": [
    {
     "data": {
      "text/plain": [
       "[185, 193, 201, 209, 217, 225, 233, 241, 249, 257, 265]"
      ]
     },
     "execution_count": 151,
     "metadata": {},
     "output_type": "execute_result"
    }
   ],
   "source": [
    "x"
   ]
  },
  {
   "cell_type": "code",
   "execution_count": 154,
   "metadata": {
    "collapsed": false
   },
   "outputs": [
    {
     "data": {
      "text/plain": [
       "array([[ 0.40522876,  0.44117647,  0.04901961,  0.10457516],\n",
       "       [ 0.00617284,  0.        ,  0.        ,  0.99382716],\n",
       "       [ 0.33986928,  0.66013072,  0.        ,  0.        ]])"
      ]
     },
     "execution_count": 154,
     "metadata": {},
     "output_type": "execute_result"
    }
   ],
   "source": [
    "fp_workflow.cdl_matrix[np.random.choice(fp_workflow.cdl_matrix.shape[0], 3, replace=False)]"
   ]
  },
  {
   "cell_type": "code",
   "execution_count": 160,
   "metadata": {
    "collapsed": false
   },
   "outputs": [
    {
     "data": {
      "text/plain": [
       "array([[1],\n",
       "       [1],\n",
       "       [1]])"
      ]
     },
     "execution_count": 160,
     "metadata": {},
     "output_type": "execute_result"
    }
   ],
   "source": [
    "a = np.array([1,1,1])\n",
    "a.reshape(-1, 1)"
   ]
  },
  {
   "cell_type": "code",
   "execution_count": 279,
   "metadata": {
    "collapsed": false
   },
   "outputs": [
    {
     "name": "stdout",
     "output_type": "stream",
     "text": [
      "17\n",
      "26\n",
      "28\n",
      "40\n",
      "42\n",
      "57\n",
      "165\n",
      "414\n",
      "426\n",
      "461\n",
      "537\n",
      "599\n",
      "742\n",
      "968\n",
      "1032\n",
      "1044\n",
      "1051\n",
      "1055\n",
      "1056\n",
      "1057\n",
      "1065\n",
      "1105\n",
      "1107\n",
      "1121\n",
      "1135\n",
      "1136\n",
      "1150\n",
      "1163\n",
      "1180\n",
      "1185\n",
      "1194\n",
      "1222\n",
      "1262\n",
      "1314\n",
      "1329\n",
      "1356\n",
      "1365\n",
      "1397\n",
      "1409\n",
      "1451\n",
      "1465\n",
      "1498\n",
      "1513\n",
      "1532\n",
      "1548\n",
      "1565\n",
      "1581\n",
      "1590\n",
      "1658\n",
      "1761\n",
      "1851\n",
      "1863\n",
      "1978\n",
      "1991\n",
      "1992\n",
      "2007\n",
      "2087\n",
      "2522\n",
      "2720\n",
      "2771\n",
      "2784\n",
      "2857\n",
      "2858\n",
      "2860\n",
      "2883\n",
      "2894\n",
      "2918\n",
      "3020\n",
      "3023\n",
      "3139\n",
      "3253\n",
      "3268\n",
      "3278\n",
      "3292\n",
      "3346\n",
      "3364\n",
      "3390\n",
      "3426\n",
      "3461\n",
      "3497\n",
      "3637\n",
      "3681\n",
      "3741\n",
      "3742\n",
      "3743\n",
      "3750\n",
      "3751\n",
      "3754\n",
      "3764\n",
      "3892\n",
      "3906\n"
     ]
    }
   ],
   "source": [
    "bad = []\n",
    "for i in range(len(y)):\n",
    "    if x[i][0] >= 0.9 and y[i] <= 60:\n",
    "        print(i)\n",
    "        bad.append(i)"
   ]
  },
  {
   "cell_type": "code",
   "execution_count": 285,
   "metadata": {
    "collapsed": false
   },
   "outputs": [],
   "source": [
    "bad_points = [fp_workflow.fp_ptrs[i] for i in bad]\n",
    "# qcs = [fp_workflow.fpar_.qc[]]\n",
    "qcs = []\n",
    "for i in bad_points:\n",
    "    qcs.append(fp_workflow.fpar_.qc[i[0], i[1]])\n",
    "    "
   ]
  },
  {
   "cell_type": "code",
   "execution_count": 286,
   "metadata": {
    "collapsed": false
   },
   "outputs": [
    {
     "data": {
      "text/plain": [
       "1.0"
      ]
     },
     "execution_count": 286,
     "metadata": {},
     "output_type": "execute_result"
    }
   ],
   "source": [
    "good_qc(qcs)"
   ]
  },
  {
   "cell_type": "code",
   "execution_count": 287,
   "metadata": {
    "collapsed": false
   },
   "outputs": [
    {
     "data": {
      "text/plain": [
       "(0, 10145)"
      ]
     },
     "execution_count": 287,
     "metadata": {},
     "output_type": "execute_result"
    }
   ],
   "source": [
    "proc = fpar_utils()\n",
    "proc.coords_to_ind(50, -69.2724108461701)"
   ]
  },
  {
   "cell_type": "code",
   "execution_count": 282,
   "metadata": {
    "collapsed": false
   },
   "outputs": [
    {
     "data": {
      "text/plain": [
       "[(-90.313070850359935, 41.52256760817977),\n",
       " (-90.3076311761086, 41.544318559782923),\n",
       " (-90.3076311761086, 41.533443083981346),\n",
       " (-90.302191501857251, 41.544318559782923),\n",
       " (-90.302191501857251, 41.533443083981346),\n",
       " (-90.296751827605902, 41.533443083981346),\n",
       " (-90.247794759343833, 41.544318559782923),\n",
       " (-90.144440948568331, 41.576944987187659),\n",
       " (-90.139001274316996, 41.576944987187659),\n",
       " (-90.128121925814312, 41.511692132378187),\n",
       " (-90.095483880306261, 41.549756297683714),\n",
       " (-90.073725183300894, 41.528005346080555),\n",
       " (-90.019328440787476, 41.511692132378187),\n",
       " (-89.93229365276602, 41.528005346080555),\n",
       " (-89.905095281509304, 41.538880821882131),\n",
       " (-89.899655607257955, 41.538880821882131),\n",
       " (-89.89421593300662, 41.571507249286867),\n",
       " (-89.89421593300662, 41.549756297683714),\n",
       " (-89.89421593300662, 41.544318559782923),\n",
       " (-89.89421593300662, 41.538880821882131),\n",
       " (-89.888776258755286, 41.571507249286867),\n",
       " (-89.872457236001253, 41.582382725088443),\n",
       " (-89.872457236001253, 41.571507249286867),\n",
       " (-89.867017561749918, 41.576944987187659),\n",
       " (-89.861577887498569, 41.582382725088443),\n",
       " (-89.861577887498569, 41.576944987187659),\n",
       " (-89.85613821324722, 41.576944987187659),\n",
       " (-89.85613821324722, 41.506254394477402),\n",
       " (-89.845258864744551, 41.576944987187659),\n",
       " (-89.845258864744551, 41.549756297683714),\n",
       " (-89.839819190493202, 41.576944987187659),\n",
       " (-89.828939841990518, 41.582382725088443),\n",
       " (-89.812620819236486, 41.582382725088443),\n",
       " (-89.796301796482481, 41.533443083981346),\n",
       " (-89.790862122231118, 41.533443083981346),\n",
       " (-89.779982773728449, 41.549756297683714),\n",
       " (-89.779982773728449, 41.50081665657661),\n",
       " (-89.763663750974416, 41.566069511386075),\n",
       " (-89.758224076723081, 41.576944987187659),\n",
       " (-89.741905053969049, 41.582382725088443),\n",
       " (-89.736465379717714, 41.582382725088443),\n",
       " (-89.72558603121503, 41.506254394477402),\n",
       " (-89.720146356963681, 41.506254394477402),\n",
       " (-89.709267008460998, 41.576944987187659),\n",
       " (-89.703827334209649, 41.576944987187659),\n",
       " (-89.698387659958314, 41.571507249286867),\n",
       " (-89.692947985706979, 41.571507249286867),\n",
       " (-89.692947985706979, 41.52256760817977),\n",
       " (-89.665749614450277, 41.560631773485291),\n",
       " (-89.627671894690877, 41.52256760817977),\n",
       " (-89.584154500680143, 41.576944987187659),\n",
       " (-89.578714826428808, 41.582382725088443),\n",
       " (-89.529757758166724, 41.582382725088443),\n",
       " (-89.529757758166724, 41.506254394477402),\n",
       " (-89.529757758166724, 41.50081665657661),\n",
       " (-89.524318083915375, 41.506254394477402),\n",
       " (-89.491680038407338, 41.50081665657661),\n",
       " (-89.317610462364399, 41.50081665657661),\n",
       " (-89.225136000091581, 41.528005346080555),\n",
       " (-89.197937628834879, 41.576944987187659),\n",
       " (-89.197937628834879, 41.506254394477402),\n",
       " (-89.165299583326828, 41.571507249286867),\n",
       " (-89.165299583326828, 41.566069511386075),\n",
       " (-89.165299583326828, 41.555194035584499),\n",
       " (-89.154420234824144, 41.566069511386075),\n",
       " (-89.154420234824144, 41.506254394477402),\n",
       " (-89.14354088632146, 41.511692132378187),\n",
       " (-89.094583818059391, 41.549756297683714),\n",
       " (-89.094583818059391, 41.533443083981346),\n",
       " (-89.045626749797307, 41.576944987187659),\n",
       " (-89.002109355786587, 41.566069511386075),\n",
       " (-88.996669681535238, 41.560631773485291),\n",
       " (-88.991230007283889, 41.560631773485291),\n",
       " (-88.985790333032554, 41.560631773485291),\n",
       " (-88.964031636027187, 41.506254394477402),\n",
       " (-88.953152287524489, 41.511692132378187),\n",
       " (-88.942272939021819, 41.506254394477402),\n",
       " (-88.925953916267787, 41.528005346080555),\n",
       " (-88.909634893513754, 41.560631773485291),\n",
       " (-88.893315870759736, 41.560631773485291),\n",
       " (-88.833479453994983, 41.582382725088443),\n",
       " (-88.822600105492285, 41.506254394477402),\n",
       " (-88.795401734235583, 41.571507249286867),\n",
       " (-88.795401734235583, 41.566069511386075),\n",
       " (-88.795401734235583, 41.560631773485291),\n",
       " (-88.789962059984248, 41.571507249286867),\n",
       " (-88.789962059984248, 41.566069511386075),\n",
       " (-88.789962059984248, 41.549756297683714),\n",
       " (-88.784522385732913, 41.566069511386075),\n",
       " (-88.735565317470829, 41.517129870278978),\n",
       " (-88.73012564321948, 41.52256760817977)]"
      ]
     },
     "execution_count": 282,
     "metadata": {},
     "output_type": "execute_result"
    }
   ],
   "source": [
    "ret"
   ]
  },
  {
   "cell_type": "code",
   "execution_count": 289,
   "metadata": {
    "collapsed": false
   },
   "outputs": [
    {
     "data": {
      "text/plain": [
       "[array([1559, 6277]),\n",
       " array([1555, 6278]),\n",
       " array([1557, 6278]),\n",
       " array([1555, 6279]),\n",
       " array([1557, 6279]),\n",
       " array([1557, 6280]),\n",
       " array([1555, 6289]),\n",
       " array([1549, 6308]),\n",
       " array([1549, 6309]),\n",
       " array([1561, 6311]),\n",
       " array([1554, 6317]),\n",
       " array([1558, 6321]),\n",
       " array([1561, 6331]),\n",
       " array([1558, 6347]),\n",
       " array([1556, 6352]),\n",
       " array([1556, 6353]),\n",
       " array([1550, 6354]),\n",
       " array([1554, 6354]),\n",
       " array([1555, 6354]),\n",
       " array([1556, 6354]),\n",
       " array([1550, 6355]),\n",
       " array([1548, 6358]),\n",
       " array([1550, 6358]),\n",
       " array([1549, 6359]),\n",
       " array([1548, 6360]),\n",
       " array([1549, 6360]),\n",
       " array([1549, 6361]),\n",
       " array([1562, 6361]),\n",
       " array([1549, 6363]),\n",
       " array([1554, 6363]),\n",
       " array([1549, 6364]),\n",
       " array([1548, 6366]),\n",
       " array([1548, 6369]),\n",
       " array([1557, 6372]),\n",
       " array([1557, 6373]),\n",
       " array([1554, 6375]),\n",
       " array([1563, 6375]),\n",
       " array([1551, 6378]),\n",
       " array([1549, 6379]),\n",
       " array([1548, 6382]),\n",
       " array([1548, 6383]),\n",
       " array([1562, 6385]),\n",
       " array([1562, 6386]),\n",
       " array([1549, 6388]),\n",
       " array([1549, 6389]),\n",
       " array([1550, 6390]),\n",
       " array([1550, 6391]),\n",
       " array([1559, 6391]),\n",
       " array([1552, 6396]),\n",
       " array([1559, 6403]),\n",
       " array([1549, 6411]),\n",
       " array([1548, 6412]),\n",
       " array([1548, 6421]),\n",
       " array([1562, 6421]),\n",
       " array([1563, 6421]),\n",
       " array([1562, 6422]),\n",
       " array([1563, 6428]),\n",
       " array([1563, 6460]),\n",
       " array([1558, 6477]),\n",
       " array([1549, 6482]),\n",
       " array([1562, 6482]),\n",
       " array([1550, 6488]),\n",
       " array([1551, 6488]),\n",
       " array([1553, 6488]),\n",
       " array([1551, 6490]),\n",
       " array([1562, 6490]),\n",
       " array([1561, 6492]),\n",
       " array([1554, 6501]),\n",
       " array([1557, 6501]),\n",
       " array([1549, 6510]),\n",
       " array([1551, 6518]),\n",
       " array([1552, 6519]),\n",
       " array([1552, 6520]),\n",
       " array([1552, 6521]),\n",
       " array([1562, 6525]),\n",
       " array([1561, 6527]),\n",
       " array([1562, 6529]),\n",
       " array([1558, 6532]),\n",
       " array([1552, 6535]),\n",
       " array([1552, 6538]),\n",
       " array([1548, 6549]),\n",
       " array([1562, 6551]),\n",
       " array([1550, 6556]),\n",
       " array([1551, 6556]),\n",
       " array([1552, 6556]),\n",
       " array([1550, 6557]),\n",
       " array([1551, 6557]),\n",
       " array([1554, 6557]),\n",
       " array([1551, 6558]),\n",
       " array([1560, 6567]),\n",
       " array([1559, 6568])]"
      ]
     },
     "execution_count": 289,
     "metadata": {},
     "output_type": "execute_result"
    }
   ],
   "source": [
    "bad_points"
   ]
  },
  {
   "cell_type": "code",
   "execution_count": 294,
   "metadata": {
    "collapsed": false
   },
   "outputs": [
    {
     "data": {
      "text/plain": [
       "[-88.78452238573291, -88.77908271148156, 41.56063177348529, 41.566069511386075]"
      ]
     },
     "execution_count": 294,
     "metadata": {},
     "output_type": "execute_result"
    }
   ],
   "source": [
    "# get_cdl_box_data(self, min_lon, max_lon, min_lat, max_lat)\n",
    "fp_workflow.fpar_.get_fpar_bound(1551, 6558)"
   ]
  },
  {
   "cell_type": "code",
   "execution_count": 295,
   "metadata": {
    "collapsed": false
   },
   "outputs": [
    {
     "data": {
      "text/plain": [
       "array([[1, 1, 1, 1, 1, 1, 1, 1, 1, 1, 1, 1, 1, 1, 5, 5, 5],\n",
       "       [1, 1, 1, 1, 1, 1, 1, 1, 1, 1, 1, 1, 1, 1, 5, 5, 5],\n",
       "       [1, 1, 1, 1, 1, 1, 1, 1, 1, 1, 1, 1, 1, 1, 1, 1, 1],\n",
       "       [1, 1, 1, 1, 1, 1, 1, 1, 1, 1, 1, 1, 1, 1, 1, 1, 1],\n",
       "       [1, 1, 1, 1, 1, 1, 1, 1, 1, 1, 1, 1, 1, 1, 1, 1, 1],\n",
       "       [1, 1, 1, 1, 1, 1, 1, 1, 1, 1, 1, 1, 1, 1, 1, 1, 1],\n",
       "       [1, 1, 1, 1, 1, 1, 1, 1, 1, 1, 1, 1, 1, 1, 1, 1, 1],\n",
       "       [1, 1, 1, 1, 1, 1, 1, 1, 1, 1, 1, 1, 1, 1, 1, 1, 1],\n",
       "       [1, 1, 1, 1, 1, 1, 1, 1, 1, 1, 1, 1, 1, 1, 1, 1, 1],\n",
       "       [1, 1, 1, 1, 1, 1, 1, 1, 1, 1, 1, 1, 1, 1, 1, 1, 1],\n",
       "       [1, 1, 1, 1, 1, 1, 1, 1, 1, 1, 1, 1, 1, 1, 1, 1, 1],\n",
       "       [1, 1, 1, 1, 1, 1, 1, 1, 1, 1, 1, 1, 1, 1, 1, 1, 1],\n",
       "       [1, 1, 1, 1, 1, 1, 1, 1, 1, 1, 1, 1, 1, 1, 1, 1, 1],\n",
       "       [1, 1, 1, 1, 1, 1, 1, 1, 1, 1, 1, 1, 1, 1, 1, 1, 1],\n",
       "       [1, 1, 1, 1, 1, 1, 1, 1, 1, 1, 1, 1, 1, 1, 1, 1, 1],\n",
       "       [1, 1, 1, 1, 1, 1, 1, 1, 1, 1, 1, 1, 1, 1, 1, 1, 1],\n",
       "       [1, 1, 1, 1, 1, 1, 1, 1, 1, 1, 1, 1, 1, 1, 1, 1, 1],\n",
       "       [1, 1, 1, 1, 1, 1, 1, 1, 1, 1, 1, 1, 1, 1, 1, 1, 1]], dtype=uint8)"
      ]
     },
     "execution_count": 295,
     "metadata": {},
     "output_type": "execute_result"
    }
   ],
   "source": [
    "fp_workflow.cdl_.get_cdl_box_data(-88.78452238573291, -88.77908271148156, 41.56063177348529,41.566069511386075)"
   ]
  },
  {
   "cell_type": "code",
   "execution_count": 293,
   "metadata": {
    "collapsed": false
   },
   "outputs": [
    {
     "data": {
      "text/plain": [
       "array([ 0.98039216,  0.01960784,  0.        ,  0.        ])"
      ]
     },
     "execution_count": 293,
     "metadata": {},
     "output_type": "execute_result"
    }
   ],
   "source": [
    "fp_workflow.cdl_matrix[3764]"
   ]
  },
  {
   "cell_type": "code",
   "execution_count": null,
   "metadata": {
    "collapsed": true
   },
   "outputs": [],
   "source": []
  }
 ],
 "metadata": {
  "kernelspec": {
   "display_name": "Python 3",
   "language": "python",
   "name": "python3"
  },
  "language_info": {
   "codemirror_mode": {
    "name": "ipython",
    "version": 3
   },
   "file_extension": ".py",
   "mimetype": "text/x-python",
   "name": "python",
   "nbconvert_exporter": "python",
   "pygments_lexer": "ipython3",
   "version": "3.6.4"
  }
 },
 "nbformat": 4,
 "nbformat_minor": 2
}
