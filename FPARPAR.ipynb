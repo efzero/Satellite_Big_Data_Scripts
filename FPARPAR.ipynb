{
 "cells": [
  {
   "cell_type": "code",
   "execution_count": 1,
   "metadata": {
    "collapsed": false
   },
   "outputs": [],
   "source": [
    "from pyhdf.SD import SD, SDC\n",
    "import numpy as np\n",
    "import matplotlib.pyplot as plt\n",
    "import netCDF4 as nc"
   ]
  },
  {
   "cell_type": "code",
   "execution_count": 2,
   "metadata": {
    "collapsed": false
   },
   "outputs": [],
   "source": [
    "import os\n",
    "os.getcwd()\n",
    "path1 = 'E:\\\\SIF data\\\\FPAR_2016'\n",
    "path2 = 'E:\\\\SIF data\\\\GOME_2016\\\\GOME_2016\\\\'\n",
    "os.chdir('E:\\\\SIF data\\\\FPAR_2016')\n",
    "# os.chdir('E:\\\\SIF data\\\\GOME_2016\\\\GOME_2016\\\\')"
   ]
  },
  {
   "cell_type": "code",
   "execution_count": null,
   "metadata": {
    "collapsed": false
   },
   "outputs": [],
   "source": [
    "import my_functions\n",
    "my_functions.coords_to_ind(-90,30)"
   ]
  },
  {
   "cell_type": "code",
   "execution_count": null,
   "metadata": {
    "collapsed": true
   },
   "outputs": [],
   "source": [
    "ILLINOIS = (36.7281, -91.8524, 42.493703, -87.020001)\n",
    "ILLINOIS = (30, -120, 49, -80)\n",
    "arr_ = []\n",
    "\n",
    "\n",
    "def find_max_qc(ILLINOIS):\n",
    "    \n",
    "    qc_data = None\n",
    "    fpar_data = None\n",
    "    prefix ='FPAR_A2016'\n",
    "    suffix = '.hdf'\n",
    "    max_ = -np.inf\n",
    "    acc = []\n",
    "    for i in range(1,361,8):\n",
    "        a = str(int(i))\n",
    "        if i < 10:\n",
    "            a = '00'+ a\n",
    "        elif i < 100:\n",
    "            a = '0' + a\n",
    "\n",
    "        query = prefix + a + suffix\n",
    "        try:\n",
    "            data = SD(query, SDC.READ)\n",
    "            print('read')\n",
    "            cur_fpar = data.select('Fpar_500m')[:]\n",
    "            cur_qc = data.select('FparExtra_QC')[:]\n",
    "            left, down = my_functions.coords_to_ind(ILLINOIS[1], ILLINOIS[0])\n",
    "            right, up = my_functions.coords_to_ind(ILLINOIS[3], ILLINOIS[2])\n",
    "            print(right, left)\n",
    "            print(down, up)\n",
    "            qcs = cur_qc[up:down, left:right].flatten()\n",
    "            ratio = my_functions.good_qc(qcs)\n",
    "            acc.append([ratio, query])\n",
    "#             print(ratio)\n",
    "#             if ratio > max_:\n",
    "#                 fpar_data = cur_fpar\n",
    "#                 qc_data = cur_qc\n",
    "#                 max_ = ratio\n",
    "\n",
    "        except:\n",
    "            continue\n",
    "        \n",
    "    return fpar_data, qc_data, acc\n",
    "        \n",
    "        \n",
    "\n",
    "def run_fpar_workflow(ILLINOIS, fpar_data, qc_data):\n",
    "    arr_ = []\n",
    "    \n",
    "    for i in np.arange(ILLINOIS[0], ILLINOIS[2], 0.1):\n",
    "        for j in np.arange(ILLINOIS[1], ILLINOIS[3], 0.1):\n",
    "            cur_lat, cur_lon = i,j\n",
    "            \n",
    "            lon_ind, lat_ind = my_functions.coords_to_ind(cur_lon, cur_lat)\n",
    "            fp, qc = fpar_data[lat_ind, lon_ind], qc_data[lat_ind, lon_ind]\n",
    "            if my_functions.get_cloud(qc)[0] == '0' and my_functions.get_cloud(qc)[1] == '0':\n",
    "                arr_.append([cur_lat, cur_lon, fp])\n",
    "\n",
    "    return arr_\n",
    "\n",
    "def find_fpar_date(fpar):\n",
    "    prefix ='FPAR_A2016'\n",
    "    suffix = '.hdf'\n",
    "    suspects = []\n",
    "    for i in range(1,361,8):\n",
    "        a = str(int(i))\n",
    "        if i < 10:\n",
    "            a = '00'+ a\n",
    "        elif i < 100:\n",
    "            a = '0' + a\n",
    "\n",
    "        query = prefix + a + suffix\n",
    "        try:\n",
    "            data = SD(query, SDC.READ)\n",
    "            print('read')\n",
    "            cur_fpar = data.select('Fpar_500m')[:]\n",
    "            cur_qc = data.select('FparExtra_QC')[:]\n",
    "            if np.mean(cur_fpar) == np.mean(fpar):\n",
    "                print(query)\n",
    "                suspects.append(query)\n",
    "        except:\n",
    "            continue\n",
    "        \n",
    "    return suspects\n",
    "    \n",
    "\n"
   ]
  },
  {
   "cell_type": "code",
   "execution_count": null,
   "metadata": {
    "collapsed": false
   },
   "outputs": [],
   "source": [
    "fp_dat, qc_dat,acc = find_max_qc(ILLINOIS)"
   ]
  },
  {
   "cell_type": "code",
   "execution_count": null,
   "metadata": {
    "collapsed": false
   },
   "outputs": [],
   "source": [
    "cleaned_acc = sorted(acc, key = lambda x: x[0], reverse = True)"
   ]
  },
  {
   "cell_type": "code",
   "execution_count": null,
   "metadata": {
    "collapsed": false
   },
   "outputs": [],
   "source": [
    "cleaned_acc"
   ]
  },
  {
   "cell_type": "code",
   "execution_count": null,
   "metadata": {
    "collapsed": false
   },
   "outputs": [],
   "source": [
    "filtered_fpar = run_fpar_workflow(ILLINOIS, a,b)\n",
    "print(filtered_fpar)"
   ]
  },
  {
   "cell_type": "code",
   "execution_count": null,
   "metadata": {
    "collapsed": false
   },
   "outputs": [],
   "source": [
    "dat = SD('FPAR_A2016225.hdf', SDC.READ)\n",
    "\n",
    "fpp2 = dat.select('Fpar_500m')[:]\n",
    "qc2 = dat.select('FparExtra_QC')[:]\n",
    "print(fpp2.shape)\n",
    "arr2 = run_fpar_workflow(ILLINOIS, fpp2, qc2)\n",
    "\n"
   ]
  },
  {
   "cell_type": "code",
   "execution_count": null,
   "metadata": {
    "collapsed": false
   },
   "outputs": [],
   "source": [
    "filtered_data = np.array(arr2)"
   ]
  },
  {
   "cell_type": "code",
   "execution_count": null,
   "metadata": {
    "collapsed": false
   },
   "outputs": [],
   "source": [
    "suspects = find_fpar_date(a)\n",
    "print(suspects)"
   ]
  },
  {
   "cell_type": "code",
   "execution_count": null,
   "metadata": {
    "collapsed": false
   },
   "outputs": [],
   "source": [
    "filtered_data = np.array(filtered_fpar)"
   ]
  },
  {
   "cell_type": "code",
   "execution_count": null,
   "metadata": {
    "collapsed": false
   },
   "outputs": [],
   "source": [
    "filtered_data[:,2]"
   ]
  },
  {
   "cell_type": "code",
   "execution_count": null,
   "metadata": {
    "collapsed": true
   },
   "outputs": [],
   "source": [
    "from dbfread import DBF"
   ]
  },
  {
   "cell_type": "code",
   "execution_count": null,
   "metadata": {
    "collapsed": false
   },
   "outputs": [],
   "source": [
    "import sifutil\n",
    "ILLINOIS = (36.7281, -91.8524, 42.493703, -87.020001)"
   ]
  },
  {
   "cell_type": "markdown",
   "metadata": {},
   "source": [
    "<p><b>Functions for processing fpar data, like get cloud, convert the qc index</b></p>"
   ]
  },
  {
   "cell_type": "code",
   "execution_count": null,
   "metadata": {
    "collapsed": false
   },
   "outputs": [],
   "source": [
    "import numpy.linalg as la\n",
    "\n",
    "def convert_binary(num):\n",
    "    str_ = \"{0:b}\".format(num)\n",
    "    if len(str_) < 8:\n",
    "        str_ = '0'*(8-len(str_)) + str_\n",
    "        \n",
    "    return str_\n",
    "        \n",
    "def get_cloud(num):\n",
    "    str_ = convert_binary(num)\n",
    "    return str_[1], str_[2]\n",
    "\n",
    "\n",
    "def interpolation(x,y):\n",
    "    x = np.array(x)\n",
    "    matrix = np.array([x**i for i in range(len(x))]).transpose()\n",
    "    print(matrix)\n",
    "    coeffs = la.solve(matrix,y)\n",
    "    return coeffs\n",
    "\n",
    "def get_smooth_line(x,y):\n",
    "    coeffs = interpolation(x,y)\n",
    "    x_values = np.linspace(min(x), max(x), 100)\n",
    "    y_values = []\n",
    "    for i in x_values:\n",
    "        value = 0\n",
    "        for j in range(len(coeffs)):\n",
    "            value += coeffs[j]*i**j\n",
    "            \n",
    "        y_values.append(value)\n",
    "    return [list(x_values), y_values]"
   ]
  },
  {
   "cell_type": "code",
   "execution_count": null,
   "metadata": {
    "collapsed": true
   },
   "outputs": [],
   "source": [
    "time_series = []\n",
    "qc = []\n",
    "x_values = []"
   ]
  },
  {
   "cell_type": "markdown",
   "metadata": {},
   "source": [
    "<b>function for getting the whole fpar series for a year of a certain location (lat,lon)</b>"
   ]
  },
  {
   "cell_type": "code",
   "execution_count": null,
   "metadata": {
    "collapsed": false,
    "scrolled": false
   },
   "outputs": [],
   "source": [
    "\n",
    "def get_fpar_series(lat, lon):\n",
    "\n",
    "    time_series = []\n",
    "    qc = []\n",
    "    x_values = []\n",
    "    prefix ='FPAR_A2016'\n",
    "    suffix = '.hdf'\n",
    "\n",
    "    print(prefix+suffix)\n",
    "\n",
    "    for i in range(1,9,8):\n",
    "        a = str(int(i))\n",
    "        if i < 10:\n",
    "            a = '00'+ a\n",
    "        elif i < 100:\n",
    "            a = '0' + a\n",
    "\n",
    "        query = prefix + a + suffix\n",
    "        try:\n",
    "            data = SD(query, SDC.READ)\n",
    "            FPAR_data = data.select('Fpar_500m')[:]\n",
    "            QC_data = data.select('FparExtra_QC')[:]\n",
    "\n",
    "    #         print(QC_data.shape)\n",
    "            Q = QC_data[lat,lon]\n",
    "            time_series.append(FPAR_data[lat,lon])\n",
    "            x_values.append(i)\n",
    "            qc.append(Q)\n",
    "            print(time_series)\n",
    "            print(x_values)\n",
    "            print(qc)\n",
    "        except:\n",
    "            continue\n",
    "\n",
    "    return time_series, x_values, qc\n",
    "    \n",
    "    \n",
    "\n",
    "# data = SD('FPAR_A2016361.hdf', SDC.READ)"
   ]
  },
  {
   "cell_type": "markdown",
   "metadata": {},
   "source": [
    "<b>function for filtering the fpars with cloud, given qc arrays, x values and fpar series</b>"
   ]
  },
  {
   "cell_type": "code",
   "execution_count": null,
   "metadata": {
    "collapsed": false
   },
   "outputs": [],
   "source": [
    "\n",
    "def clean_data(time_series, x_values, qc):\n",
    "    good_fpars = []\n",
    "    good_dates = []\n",
    "    for i in range(len(time_series)):\n",
    "        if get_cloud(qc[i])[0] == '0' and get_cloud(qc[i])[1] == '0':\n",
    "            good_fpars.append(time_series[i])\n",
    "            good_dates.append(x_values[i])\n",
    "            \n",
    "    return good_dates, good_fpars\n",
    "\n",
    "def good_qc(qc):\n",
    "    cnt = 0\n",
    "    for i in range(len(qc)):\n",
    "        if get_cloud(qc[i])[0] == '0' and get_cloud(qc[i])[1] == '0':\n",
    "            cnt += 1\n",
    "            \n",
    "    return cnt/len(qc)\n",
    "#     return cnt/len(qc)\n",
    "            \n"
   ]
  },
  {
   "cell_type": "code",
   "execution_count": null,
   "metadata": {
    "collapsed": false
   },
   "outputs": [],
   "source": [
    "%matplotlib inline\n",
    "plt.plot(times)"
   ]
  },
  {
   "cell_type": "code",
   "execution_count": null,
   "metadata": {
    "collapsed": false
   },
   "outputs": [],
   "source": [
    "data = SD('FPAR_A2016225.hdf', SDC.READ).select('Fpar_500m')[:]"
   ]
  },
  {
   "cell_type": "code",
   "execution_count": null,
   "metadata": {
    "collapsed": false
   },
   "outputs": [],
   "source": [
    "import cv2\n",
    "cv2.imwrite('225_august_fpar.jpg', data, 1)"
   ]
  },
  {
   "cell_type": "code",
   "execution_count": null,
   "metadata": {
    "collapsed": false
   },
   "outputs": [],
   "source": [
    "# from pyhdf.SD import SD, SDC\n",
    "# import sifutil"
   ]
  },
  {
   "cell_type": "code",
   "execution_count": null,
   "metadata": {
    "collapsed": false
   },
   "outputs": [],
   "source": [
    "coords_to_ind(135, 40)"
   ]
  },
  {
   "cell_type": "code",
   "execution_count": null,
   "metadata": {
    "collapsed": false
   },
   "outputs": [],
   "source": [
    "import math\n",
    "lat_eq = 360 / 40075\n",
    "lon_eq = math.cos(self.lat_0) * 360 / 40057.\n",
    "lon_a = self.lon_0 - ((self.side_len/2) * lon_eq)\n",
    "lat_a = self.lat_0 - ((self.side_len/2) * lat_eq)\n",
    "unit = self.side_len / 2"
   ]
  },
  {
   "cell_type": "code",
   "execution_count": null,
   "metadata": {
    "collapsed": false
   },
   "outputs": [],
   "source": [
    "from io import StringIO\n",
    "import re\n",
    "# import requests\n",
    "# from bs4 import BeautifulSoup\n",
    "# import pandas as pd\n",
    "# import warnings\n",
    "# BASE_CDL_URL = 'https://nassgeodata.gmu.edu/axis2/services/CDLService/GetCDLStat'\n",
    "# CHAMPAIGN = 17019\n",
    "\n",
    "\n",
    "# def from_csv(filepath):\n",
    "#     df = pd.read_csv(filepath)\n",
    "#     return df\n",
    "\n",
    "\n",
    "# def get_by_fips(year, fips):\n",
    "#     '''Grab CDL data for a county by FIPS code'''\n",
    "#     url = BASE_CDL_URL + '?year=' + str(year) + '&fips=' + str(fips) + \"&format=csv\"\n",
    "#     res = requests.get(url, verify = False)\n",
    "#     returnurl = BeautifulSoup(res.text, 'lxml').find('returnurl').text\n",
    "#     #print(returnurl)\n",
    "#     rawdata = requests.get(returnurl, verify = False).text\n",
    "#     raw_iter = StringIO(rawdata)\n",
    "#     df = pd.read_csv(raw_iter, sep=\" *, * \", engine='python')\\\n",
    "#            .apply(pd.to_numeric, errors='ignore')\\\n",
    "#            .set_index(\"Category\")\n",
    "#     return df\n",
    "\n",
    "\n",
    "\n",
    "\n",
    "# def get_by_box(year, llcrnrlon, llcrnrlat, urcrnrlon, urcrnrlat):\n",
    "#     '''Grab CDL data by bounding box'''\n",
    "#     x1, y1 = sifutil.convertProjection(llcrnrlon, llcrnrlat, sifutil.WGS84, sifutil.CONUS_ALBERS)\n",
    "#     x2, y2 = sifutil.convertProjection(urcrnrlon, urcrnrlat, sifutil.WGS84, sifutil.CONUS_ALBERS)\n",
    "#     url = BASE_CDL_URL + '?year=' + str(year) + '&bbox=' + str(min(x1,x2)) + \",\" +\\\n",
    "#           str(min(y1, y2)) + \",\" + str(max(x1, x2)) + \",\" + str(max(y1, y2)) + \"&format=csv\"\n",
    "#     print(url)\n",
    "\n",
    "#     with warnings.catch_warnings():\n",
    "#         warnings.simplefilter(\"ignore\")\n",
    "#         res = requests.get(url, verify = False)\n",
    "#         returnurl = BeautifulSoup(res.text, 'lxml').find('returnurl').text\n",
    "#     #print(returnurl)\n",
    "#     with warnings.catch_warnings():\n",
    "#         rawdata = requests.get(returnurl, verify = False).text\n",
    "#     raw_iter = StringIO(rawdata)\n",
    "#     df = pd.read_csv(raw_iter, sep=\" *, * \")\\\n",
    "#            .apply(pd.to_numeric, errors='ignore')\\\n",
    "#            .set_index(\"Category\")\n",
    "#     return df"
   ]
  },
  {
   "cell_type": "code",
   "execution_count": null,
   "metadata": {
    "collapsed": true
   },
   "outputs": [],
   "source": [
    "def getNC_GOME(filepath):\n",
    "    data =  nc.Dataset(filepath, mode='r')\n",
    "    lons = data['longitude'][:]\n",
    "    lats = data['latitude'][:]\n",
    "    sif = data['SIF_740'][:]\n",
    "    data.close()\n",
    "    return (lons, lats, sif)"
   ]
  },
  {
   "cell_type": "code",
   "execution_count": null,
   "metadata": {
    "collapsed": true
   },
   "outputs": [],
   "source": [
    "from mpl_toolkits.basemap import Basemap\n",
    "\n"
   ]
  },
  {
   "cell_type": "code",
   "execution_count": null,
   "metadata": {
    "collapsed": true
   },
   "outputs": [],
   "source": [
    "ILLINOIS = (36.7281, -91.8524, 42.493703, -87.020001)\n",
    "bounding_box = (40.16, -89, 41, -87.5)\n",
    "I_STATES_COORDS = (37, -96.65, 43.5, -84.81)\n",
    "import matplotlib.pyplot as plt\n",
    "import numpy as np"
   ]
  },
  {
   "cell_type": "code",
   "execution_count": null,
   "metadata": {
    "collapsed": true
   },
   "outputs": [],
   "source": [
    "def plot_illinois(ILLINOIS):\n",
    "    fig, ax1 = plt.subplots()\n",
    "    m = Basemap(projection='merc', llcrnrlat=ILLINOIS[0], llcrnrlon=ILLINOIS[1],\\\n",
    "                urcrnrlat=ILLINOIS[2], urcrnrlon=ILLINOIS[3], resolution='c', ax=ax1)\n",
    "    m.drawstates()\n",
    "    m.drawcoastlines()\n",
    "\n",
    "    m.fillcontinents(color='beige', lake_color='aqua')\n",
    "    m.drawparallels(np.arange(36, 43, 1), labels=[0,1,1,0])\n",
    "    m.drawmeridians(np.arange(-92, -87, 1), labels=[1,0,0,1])\n",
    "    ax1.set_title('poop')\n",
    "\n",
    "    return ax1\n"
   ]
  },
  {
   "cell_type": "code",
   "execution_count": null,
   "metadata": {
    "collapsed": false
   },
   "outputs": [],
   "source": [
    "%matplotlib inline\n",
    "plot_illinois(ILLINOIS)"
   ]
  },
  {
   "cell_type": "markdown",
   "metadata": {},
   "source": [
    "<b>A whole process to obtain the GNOME data</b>"
   ]
  },
  {
   "cell_type": "code",
   "execution_count": null,
   "metadata": {
    "collapsed": false
   },
   "outputs": [],
   "source": [
    "import os\n",
    "os.chdir('E:\\\\SIF data\\\\GOME_2016\\\\GOME_2016\\\\')"
   ]
  },
  {
   "cell_type": "code",
   "execution_count": null,
   "metadata": {
    "collapsed": false
   },
   "outputs": [],
   "source": [
    "import netCDF4 as nc\n",
    "gome_0711 = getNC_GOME('08\\\\ret_f_nr5_nsvd12_v26_waves734_nolog.20160801_v27_all.nc')"
   ]
  },
  {
   "cell_type": "code",
   "execution_count": null,
   "metadata": {
    "collapsed": false
   },
   "outputs": [],
   "source": [
    "print(ILLINOIS)"
   ]
  },
  {
   "cell_type": "code",
   "execution_count": null,
   "metadata": {
    "collapsed": false
   },
   "outputs": [],
   "source": [
    "def inIllinois(ILLINOIS):\n",
    "    if "
   ]
  },
  {
   "cell_type": "code",
   "execution_count": null,
   "metadata": {
    "collapsed": false
   },
   "outputs": [],
   "source": [
    "cur_data = NetCDFFile('08\\\\ret_f_nr5_nsvd12_v26_waves734_nolog.20160801_v27_all.nc')"
   ]
  },
  {
   "cell_type": "code",
   "execution_count": null,
   "metadata": {
    "collapsed": false
   },
   "outputs": [],
   "source": [
    "# cur_data.variables['Latitude_corners'][:]\n",
    "# plt.hist(cur_data.variables['Quality_flag'][:])\n",
    "import math\n",
    "\n",
    "lat_corners = cur_data.variables['Latitude_corners'][:]\n",
    "lon_corners = cur_data.variables['Longitude_corners'][:]\n",
    "arg_min = None\n",
    "\n",
    "for i in range(len(lat_corners)):\n",
    "    if math.fabs(lat_corners[i][0]-40) <= 2 and math.fabs(lon_corners[i][0] + 88) <= 2:\n",
    "        arg_min = i\n",
    "        \n",
    "\n",
    "print(lat_corners[arg_min], lon_corners[arg_min])\n",
    "print(len(lat_corners), len(lon_corners))"
   ]
  },
  {
   "cell_type": "code",
   "execution_count": null,
   "metadata": {
    "collapsed": false
   },
   "outputs": [],
   "source": [
    "averaged_sif = cur_data.variables['Daily_averaged_SIF'][:]\n",
    "lons = cur_data.variables['longitude'][:]\n",
    "lats = cur_data.variables['latitude'][:]\n",
    "clouds = cur_data.variables['cloud_fraction'][:]\n",
    "qa = cur_data.variables['Quality_flag'][:]\n",
    "print(len(lons))"
   ]
  },
  {
   "cell_type": "code",
   "execution_count": null,
   "metadata": {
    "collapsed": false
   },
   "outputs": [],
   "source": [
    "print(lat_corners[arg_min], lon_corners[arg_min])\n",
    "\n",
    "import matplotlib.pyplot as plt\n",
    "%matplotlib inline\n",
    "\n",
    "plt.scatter(lat_corners[arg_min], lon_corners[arg_min])"
   ]
  },
  {
   "cell_type": "code",
   "execution_count": null,
   "metadata": {
    "collapsed": false
   },
   "outputs": [],
   "source": [
    "arr = get_Illinois(lats, lons, averaged_sif, ILLINOIS, clouds, qa)\n",
    "lat, lon = arr[:,0], arr[:,1]\n",
    "sifs = arr[:,2]\n",
    "print(arr.shape)"
   ]
  },
  {
   "cell_type": "code",
   "execution_count": null,
   "metadata": {
    "collapsed": false,
    "scrolled": false
   },
   "outputs": [],
   "source": [
    "from numpy import array\n",
    "\n",
    "plt.figure(figsize = (20,10))\n",
    "m = Basemap(projection='merc', llcrnrlat=0, llcrnrlon=49,\\\n",
    "                urcrnrlat=-, urcrnrlon=ILLINOIS[3], resolution='i')\n",
    "m.drawstates()\n",
    "m.drawcoastlines()\n",
    "# m.fillcontinents(color='beige', lake_color='aqua')\n",
    "m.drawparallels(np.arange(36, 43, 1), labels=[0,1,1,0])\n",
    "m.drawmeridians(np.arange(-92, -87, 1), labels=[0,1,1,0])\n",
    "\n",
    "\n",
    "l = [-87]\n",
    "la = [40]\n",
    "s = [1]\n",
    "x,y = m(lon,lat)\n",
    "m.hexbin(x,y,C = sifs, gridsize = 100)\n",
    "\n",
    "\n",
    "m.colorbar(location='bottom')\n",
    "plt.show()\n",
    "\n",
    "\n",
    "# from mpl_toolkits.basemap import Basemap\n",
    "# import matplotlib.pyplot as plt\n",
    "# import matplotlib.colors as colors\n",
    "# from numpy import array\n",
    "# from numpy import max\n",
    "\n",
    "# # map = Basemap(llcrnrlon=110,llcrnrlat=0,urcrnrlon=140.,urcrnrlat=40.,\n",
    "# #              resolution='i', projection='merc')\n",
    "# map = Basemap(projection='merc', llcrnrlat=ILLINOIS[0], llcrnrlon=ILLINOIS[1],\\\n",
    "#                 urcrnrlat=ILLINOIS[2], urcrnrlon=ILLINOIS[3], resolution='i')\n",
    "\n",
    "\n",
    "# lats = [5,6,7,39,9,10,11,12,13,14,31.17]\n",
    "# lons = [121,121,121,-88,121,121,121,121,121,121,121.5]\n",
    "# c = [1,1.25,1.5,1.75,2,2.25,2.50,2.75,3,3,2.5]\n",
    "\n",
    "\n",
    "# la = [39, 40, 41]\n",
    "# lo = [-88, -87, -88]\n",
    "# c = [2,3,3]\n",
    "# x, y = map(lo, la)\n",
    "\n",
    "\n",
    "# map.drawcoastlines()\n",
    "# map.drawstates()\n",
    "\n",
    "# map.hexbin(array(x), array(y), C =c, gridsize = 8)\n",
    "\n",
    "# map.colorbar(location='bottom')"
   ]
  },
  {
   "cell_type": "code",
   "execution_count": null,
   "metadata": {
    "collapsed": false
   },
   "outputs": [],
   "source": [
    "\n",
    "ILLINOIS = (36.7281, -91.8524, 42.493703, -87.020001)\n"
   ]
  },
  {
   "cell_type": "code",
   "execution_count": null,
   "metadata": {
    "collapsed": false
   },
   "outputs": [],
   "source": [
    "plt.plot(lats)\n",
    "plt.plot(lons)\n",
    "plt.plot(x)\n",
    "print(lats[118000], lons[118000])"
   ]
  },
  {
   "cell_type": "code",
   "execution_count": null,
   "metadata": {
    "collapsed": false
   },
   "outputs": [],
   "source": [
    "\n",
    "def get_Illinois(lats, lons, sifs, ILLINOIS, clouds, qa):\n",
    "    illinois_ = []\n",
    "    for i in range(len(lons)):\n",
    "        if lons[i] >= ILLINOIS[1] and qa[i] == 2 and lons[i] <= ILLINOIS[3] and lats[i] >= ILLINOIS[0] and lats[i] <= ILLINOIS[2] and clouds[i] <= 0.2:\n",
    "            illinois_.append([lats[i], lons[i], sifs[i]])\n",
    "            \n",
    "    return np.array(illinois_)\n"
   ]
  },
  {
   "cell_type": "code",
   "execution_count": null,
   "metadata": {
    "collapsed": false
   },
   "outputs": [],
   "source": [
    "# print(illinois_gome_lons)\n",
    "# print(illinois_gome_lats)\n",
    "\n",
    "arr = get_Illinois(lats, lons, averaged_sif, bounding_box,clouds)\n",
    "print(arr.shape)\n",
    "# print(arr[:,0])"
   ]
  },
  {
   "cell_type": "code",
   "execution_count": null,
   "metadata": {
    "collapsed": false
   },
   "outputs": [],
   "source": [
    "x,y = clean_data(fpar_series, x_values, qc)"
   ]
  },
  {
   "cell_type": "code",
   "execution_count": null,
   "metadata": {
    "collapsed": false
   },
   "outputs": [],
   "source": [
    "plt.plot(x,y)\n",
    "plt.figure()\n",
    "plt.plot(x_values, fpar_series)"
   ]
  },
  {
   "cell_type": "code",
   "execution_count": null,
   "metadata": {
    "collapsed": true
   },
   "outputs": [],
   "source": [
    "import matplotlib.pyplot as plt"
   ]
  },
  {
   "cell_type": "code",
   "execution_count": null,
   "metadata": {
    "collapsed": false
   },
   "outputs": [],
   "source": [
    "a_lot_of_sif = []\n",
    "x_ = []\n",
    "for i in range(1,12):\n",
    "    for j in range(1,31):\n",
    "#         print(i,j)\n",
    "        if i < 10:\n",
    "            zero = '0'\n",
    "        else:\n",
    "            zero = ''\n",
    "            \n",
    "        if j < 10:\n",
    "            zero2 = '0'\n",
    "        else:\n",
    "            zero2 = ''\n",
    "            \n",
    "        \n",
    "        date = '2016' + zero + str(i) + zero2 + str(j)\n",
    "        dir_ = zero + str(i) + '\\\\\\\\'\n",
    "        file = dir_ + 'ret_f_nr5_nsvd12_v26_waves734_nolog.' + date + '_v27_all.nc'\n",
    "        \n",
    "        try: \n",
    "            read_in = NetCDFFile(file)\n",
    "            data = getNC_GOME(file)\n",
    "            lons = data[0]\n",
    "            lats = data[1]\n",
    "            sifs = data[2]\n",
    "            clouds =  read_in['cloud_fraction'][:]\n",
    "            qa = read_in['Quality_flag'][:]\n",
    "            processed_data = get_Illinois(lats, lons, sifs, bounding_box, clouds, qa)\n",
    "            print('good')\n",
    "            if processed_data != []:\n",
    "                a_lot_of_sif.append(np.mean(processed_data[:,2]))\n",
    "                print(i,j)\n",
    "                x_.append((i-1)*30+j)\n",
    "        \n",
    "            \n",
    "        except:\n",
    "            continue\n",
    "#         gome_0711 = getNC_GOME('05\\\\ret_f_nr5_nsvd12_v26_waves734_nolog.20160501_v27_all.nc')"
   ]
  },
  {
   "cell_type": "code",
   "execution_count": null,
   "metadata": {
    "collapsed": false
   },
   "outputs": [],
   "source": [
    "print(len(a_lot_of_sif))"
   ]
  },
  {
   "cell_type": "code",
   "execution_count": null,
   "metadata": {
    "collapsed": false
   },
   "outputs": [],
   "source": [
    "import matplotlib.pyplot as plt\n",
    "%matplotlib inline\n",
    "plt.plot(x_, a_lot_of_sif)\n",
    "plt.title('filtered sif plot with at most 20% cloud coverage and the best qa')\n",
    "plt.xlabel('days')\n",
    "plt.ylabel('sif value')\n"
   ]
  },
  {
   "cell_type": "code",
   "execution_count": null,
   "metadata": {
    "collapsed": false
   },
   "outputs": [],
   "source": [
    "%matplotlib inline\n",
    "a = np.array([[1,1,2],[2,2,1],[3,1,1]])\n",
    "plt.imshow(a, label = ['a','b','c'])\n"
   ]
  },
  {
   "cell_type": "code",
   "execution_count": null,
   "metadata": {
    "collapsed": true
   },
   "outputs": [],
   "source": [
    "colors = [ im.cmap(im.norm(value)) for value in values]"
   ]
  },
  {
   "cell_type": "code",
   "execution_count": null,
   "metadata": {
    "collapsed": false
   },
   "outputs": [],
   "source": [
    "from mpl_toolkits.basemap import Basemap\n",
    "import matplotlib.pyplot as plt\n",
    "\n",
    "map = Basemap(projection='ortho', \n",
    "              lat_0=0, lon_0=0)\n",
    "\n",
    "map.drawmapboundary(fill_color='aqua')\n",
    "map.fillcontinents(color='coral',lake_color='aqua')\n",
    "map.drawcoastlines()\n",
    "\n",
    "lons = [0, 10, -30, -20]\n",
    "lats = [0, -10, 40, -20]\n",
    "\n",
    "x, y = map(lons, lats)\n",
    "\n",
    "map.scatter(x, y, marker='D',color='m')\n",
    "\n",
    "plt.show()\n"
   ]
  },
  {
   "cell_type": "code",
   "execution_count": null,
   "metadata": {
    "collapsed": false
   },
   "outputs": [],
   "source": [
    "import numpy as np\n",
    "from matplotlib import pyplot as plt\n",
    "from matplotlib import animation\n",
    "\n",
    "# First set up the figure, the axis, and the plot element we want to animate\n",
    "fig = plt.figure()\n",
    "ax = plt.axes(xlim=(0, 2), ylim=(-2, 2))\n",
    "line, = ax.plot([], [], lw=2)\n",
    "\n",
    "# initialization function: plot the background of each frame\n",
    "def init():\n",
    "    line.set_data([], [])\n",
    "    return line,\n",
    "\n",
    "# animation function.  This is called sequentially\n",
    "def animate(i):\n",
    "    x = np.linspace(0, 2, 1000)\n",
    "    y = np.sin(2 * np.pi * (x - 0.01 * i))\n",
    "    line.set_data(x, y)\n",
    "    return line,\n",
    "\n",
    "# call the animator.  blit=True means only re-draw the parts that have changed.\n",
    "anim = animation.FuncAnimation(fig, animate, init_func=init,\n",
    "                               frames=200, interval=20, blit=True)\n",
    "\n",
    "# save the animation as an mp4.  This requires ffmpeg or mencoder to be\n",
    "# installed.  The extra_args ensure that the x264 codec is used, so that\n",
    "# the video can be embedded in html5.  You may need to adjust this for\n",
    "# your system: for more information, see\n",
    "# http://matplotlib.sourceforge.net/api/animation_api.html\n",
    "anim.save('basic_animation.html', fps=30, extra_args=['-vcodec', 'libx264'])\n",
    "plt.show()"
   ]
  },
  {
   "cell_type": "code",
   "execution_count": null,
   "metadata": {
    "collapsed": false
   },
   "outputs": [],
   "source": [
    "os.getcwd()"
   ]
  },
  {
   "cell_type": "code",
   "execution_count": null,
   "metadata": {
    "collapsed": false
   },
   "outputs": [],
   "source": [
    "filtered_data[:,1][0:3]"
   ]
  },
  {
   "cell_type": "code",
   "execution_count": null,
   "metadata": {
    "collapsed": false
   },
   "outputs": [],
   "source": [
    "from mpl_toolkits.basemap import Basemap\n",
    "import matplotlib.pyplot as plt\n",
    "import matplotlib.colors as colors\n",
    "from numpy import array\n",
    "# from numpy import max\n",
    "\n",
    "plt.figure(figsize = (20,10))\n",
    "# map = Basemap(llcrnrlon=110,llcrnrlat=0,urcrnrlon=140.,urcrnrlat=40.,\n",
    "#              resolution='i', projection='merc')\n",
    "map = Basemap(projection='aea', llcrnrlat=10, llcrnrlon=-130,\\\n",
    "                urcrnrlat=49, urcrnrlon = -80, resolution='i')\n",
    "\n",
    "\n",
    "lats = [5,6,7,39,9,10,11,12,13,14,31.17]\n",
    "lons = [121,121,121,-88,121,121,121,121,121,121,121.5]\n",
    "c = [1,1.25,1.5,1.75,2,2.25,2.50,2.75,3,3,2.5]\n",
    "\n",
    "\n",
    "la = [39, 40, 41]\n",
    "lo = [-88, -87, -88]\n",
    "c = [2,3,3]\n",
    "x, y = map(lo, la)\n",
    "x1, y1 = map(filtered_data[:,1], filtered_data[:,0])\n",
    "\n",
    "\n",
    "\n",
    "map.drawcoastlines()\n",
    "map.drawstates()\n",
    "\n",
    "map.hexbin(array(x1), array(y1), C = filtered_data[:,2], gridsize = 150)\n",
    "\n",
    "map.colorbar(location='bottom')\n",
    "\n",
    "plt.show()"
   ]
  },
  {
   "cell_type": "code",
   "execution_count": null,
   "metadata": {
    "collapsed": false
   },
   "outputs": [],
   "source": [
    "from numpy.random import uniform\n",
    "import matplotlib.pyplot as plt\n",
    "import numpy as np\n",
    "from mpl_toolkits.basemap import Basemap\n",
    "\n",
    "# create north polar stereographic basemap\n",
    "m = Basemap(lon_0=270, boundinglat=20, projection='npstere',round=True)\n",
    "#m = Basemap(lon_0=-105,lat_0=40,projection='ortho')\n",
    "\n",
    "# number of points, bins to plot.\n",
    "npts = 10000\n",
    "bins = 40\n",
    "# generate random points on a sphere,\n",
    "# so that every small area on the sphere is expected\n",
    "# to have the same number of points.\n",
    "# http://mathworld.wolfram.com/SpherePointPicking.html\n",
    "u = uniform(0.,1.,size=npts)\n",
    "v = uniform(0.,1.,size=npts)\n",
    "lons = 360.*u\n",
    "lats = (180./np.pi)*np.arccos(2*v-1) - 90.\n",
    "# toss points outside of map region.\n",
    "lats = np.compress(lats > 20, lats)\n",
    "lons = np.compress(lats > 20, lons)\n",
    "# convert to map projection coordinates.\n",
    "x1, y1 = m(lons, lats)\n",
    "# remove points outside projection limb.\n",
    "x = np.compress(np.logical_or(x1 < 1.e20,y1 < 1.e20), x1)\n",
    "y = np.compress(np.logical_or(x1 < 1.e20,y1 < 1.e20), y1)\n",
    "# function to plot at those points.\n",
    "xscaled = 4.*(x-0.5*(m.xmax-m.xmin))/m.xmax\n",
    "yscaled = 4.*(y-0.5*(m.ymax-m.ymin))/m.ymax\n",
    "z = xscaled*np.exp(-xscaled**2-yscaled**2)\n",
    "\n",
    "# make plot using hexbin\n",
    "fig = plt.figure(figsize=(12,5))\n",
    "ax = fig.add_subplot(121)\n",
    "CS = m.hexbin(x,y,C=z,gridsize=bins,cmap=plt.cm.jet)\n",
    "# draw coastlines, lat/lon lines.\n",
    "m.drawcoastlines()\n",
    "m.drawparallels(np.arange(0,81,20))\n",
    "m.drawmeridians(np.arange(-180,181,60))\n",
    "m.colorbar() # draw colorbar\n",
    "plt.title('hexbin demo')\n",
    "\n",
    "# use histogram2d instead of hexbin.\n",
    "ax = fig.add_subplot(122)\n",
    "# remove points outside projection limb.\n",
    "bincount, xedges, yedges = np.histogram2d(x, y, bins=bins)\n",
    "mask = bincount == 0\n",
    "# reset zero values to one to avoid divide-by-zero\n",
    "bincount = np.where(bincount == 0, 1, bincount)\n",
    "H, xedges, yedges = np.histogram2d(x, y, bins=bins, weights=z)\n",
    "H = np.ma.masked_where(mask, H/bincount)\n",
    "# set color of masked values to axes background (hexbin does this by default)\n",
    "palette = plt.cm.jet\n",
    "palette.set_bad(ax.get_axis_bgcolor(), 1.0)\n",
    "CS = m.pcolormesh(xedges,yedges,H.T,shading='flat',cmap=palette)\n",
    "# draw coastlines, lat/lon lines.\n",
    "m.drawcoastlines()\n",
    "m.drawparallels(np.arange(0,81,20))\n",
    "m.drawmeridians(np.arange(-180,181,60))\n",
    "m.colorbar() # draw colorbar\n",
    "plt.title('histogram2d demo')\n",
    "plt.show()"
   ]
  },
  {
   "cell_type": "code",
   "execution_count": null,
   "metadata": {
    "collapsed": false
   },
   "outputs": [],
   "source": [
    "a = plt.hexbin(np.array([1,2,3]), np.array([2,3,4]), C = np.array([1,2,1]), gridsize = 5)"
   ]
  },
  {
   "cell_type": "code",
   "execution_count": null,
   "metadata": {
    "collapsed": false
   },
   "outputs": [],
   "source": [
    "import sifutil"
   ]
  },
  {
   "cell_type": "code",
   "execution_count": null,
   "metadata": {
    "collapsed": false
   },
   "outputs": [],
   "source": [
    "'''Module to download CDL data'''\n",
    "from io import StringIO\n",
    "import re\n",
    "import requests\n",
    "from bs4 import BeautifulSoup\n",
    "import pandas as pd\n",
    "import sifutil\n",
    "import warnings\n",
    "BASE_CDL_URL = 'https://nassgeodata.gmu.edu/axis2/services/CDLService/GetCDLStat'\n",
    "CHAMPAIGN = 17019\n",
    "import numpy as np\n",
    "import math\n",
    "\n",
    "def from_csv(filepath):\n",
    "    df = pd.read_csv(filepath)\n",
    "    return df\n",
    "\n",
    "\n",
    "def get_by_fips(year, fips):\n",
    "    '''Grab CDL data for a county by FIPS code'''\n",
    "    url = BASE_CDL_URL + '?year=' + str(year) + '&fips=' + str(fips) + \"&format=csv\"\n",
    "    res = requests.get(url, verify = False)\n",
    "    returnurl = BeautifulSoup(res.text, 'lxml').find('returnurl').text\n",
    "    #print(returnurl)\n",
    "    rawdata = requests.get(returnurl, verify = False).text\n",
    "    raw_iter = StringIO(rawdata)\n",
    "    df = pd.read_csv(raw_iter, sep=\" *, * \", engine='python')\\\n",
    "           .apply(pd.to_numeric, errors='ignore')\\\n",
    "           .set_index(\"Category\")\n",
    "    return df\n",
    "\n",
    "\n",
    "def get_by_box(year, llcrnrlon, llcrnrlat, urcrnrlon, urcrnrlat):\n",
    "    '''Grab CDL data by bounding box'''\n",
    "    x1, y1 = sifutil.convertProjection(llcrnrlon, llcrnrlat, sifutil.WGS84, sifutil.CONUS_ALBERS)\n",
    "    x2, y2 = sifutil.convertProjection(urcrnrlon, urcrnrlat, sifutil.WGS84, sifutil.CONUS_ALBERS)\n",
    "    url = BASE_CDL_URL + '?year=' + str(year) + '&bbox=' + str(min(x1,x2)) + \",\" +\\\n",
    "              str(min(y1, y2)) + \",\" + str(max([x1, x2])) + \",\" + str(max([y1, y2])) + \"&format=csv\"\n",
    "    print(url)\n",
    "\n",
    "    with warnings.catch_warnings():\n",
    "        warnings.simplefilter(\"ignore\")\n",
    "        res = requests.get(url, verify = False)\n",
    "        returnurl = BeautifulSoup(res.text, 'lxml').find('returnurl').text\n",
    "    #print(returnurl)\n",
    "    with warnings.catch_warnings():\n",
    "        rawdata = requests.get(returnurl, verify = False).text\n",
    "    raw_iter = StringIO(rawdata)\n",
    "    df = pd.read_csv(raw_iter, sep=\" *, * \")\\\n",
    "           .apply(pd.to_numeric, errors='ignore')\\\n",
    "           .set_index(\"Category\")\n",
    "    return df"
   ]
  },
  {
   "cell_type": "code",
   "execution_count": null,
   "metadata": {
    "collapsed": false
   },
   "outputs": [],
   "source": [
    "\n",
    "# year = 2016\n",
    "\n",
    "# url = BASE_CDL_URL + '?year=' + str(year) + '&bbox=' + str(min(x1,x2)) + \",\" +\\\n",
    "#           str(min(y1, y2)) + \",\" + str(max(x1, x2)) + \",\" + str(max(y1, y2)) + \"&format=csv\"\n",
    "    \n",
    "# print(url)"
   ]
  },
  {
   "cell_type": "code",
   "execution_count": 1,
   "metadata": {
    "collapsed": false
   },
   "outputs": [],
   "source": [
    "from scipy.optimize import lsq_linear\n",
    "fpars = []\n",
    "def get_fpars(query):\n",
    "    \n",
    "    from my_functions import coords_to_ind, get_cloud\n",
    "    base_lat = 38.4\n",
    "    base_lon = -89.59\n",
    "    \n",
    "    \n",
    "    \n",
    "    base_lat = 40.7\n",
    "    base_lon = -88.2\n",
    "    \n",
    "#     arg_max = None\n",
    "#     max_qc = None\n",
    "#     for i in range(105, 361,8):\n",
    "#         query = 'FPAR_A2016' + str(i) + '.hdf'\n",
    "#         raw_data = SD(query, SDC.READ)\n",
    "#         QC_reg_data = raw_data.select('FparExtra_QC')[:]\n",
    "#         FPAR_reg_data = raw_data.select('Fpar_500m')[:]\n",
    "#         row = 0\n",
    "#         left, right = base_lon, base_lon - 2\n",
    "#         bottom, up = base_lat, base_lat + 2\n",
    "#         l,b = coords_to_ind(left, bottom)[0], coords_to_ind(left, bottom)[1]\n",
    "#         r,u = coords_to_ind(right, up)[0], coords_to_ind(right, up)[1]\n",
    "\n",
    "#         Quality_flag = good_qc(QC_reg_data[u:b, r:l].flatten())\n",
    "#         if not arg_max:\n",
    "#             arg_max = query\n",
    "#             max_qc = Quality_flag\n",
    "#         elif Quality_flag > max_qc:\n",
    "#             arg_max = query\n",
    "#             max_qc = Quality_flag\n",
    "\n",
    "    #init\n",
    "    \n",
    "    \n",
    "    row = 0\n",
    "    rhs = np.zeros(16)\n",
    "#     mat = np.zeros((16,4))\n",
    "    raw_data = SD(query, SDC.READ)\n",
    "    QC_reg_data = raw_data.select('FparExtra_QC')[:]\n",
    "    FPAR_reg_data = raw_data.select('Fpar_500m')[:]\n",
    "    \n",
    "    for i in range(4):\n",
    "        cur_lon = base_lon\n",
    "        for j in range(4):\n",
    "\n",
    "            start_lon, start_lat = coords_to_ind(cur_lon, base_lat)[0], coords_to_ind(cur_lon, base_lat)[1]\n",
    "    \n",
    "            qc = QC_reg_data[start_lat, start_lon]\n",
    "        \n",
    "            \n",
    "            if get_cloud(qc)[0] == '0' and get_cloud(qc)[1] == '0':\n",
    "\n",
    "                end_lon, end_lat = coords_to_ind(cur_lon-0.01, base_lat+0.01)[0], coords_to_ind(cur_lon-0.01, base_lat+0.01)[1]\n",
    "\n",
    "#                 print(start_lat, end_lat)\n",
    "#                 print(start_lon, end_lon)\n",
    "                rhs[row] = FPAR_reg_data[(start_lat+end_lat)//2, (start_lon + end_lon)//2]\n",
    "                cur_lon -= 0.01\n",
    "            row += 1\n",
    "        base_lat += 0.01\n",
    "        \n",
    "        \n",
    "#     result = lsq_linear(mat, rhs, bounds = (0, 100))\n",
    "    return rhs\n",
    "    "
   ]
  },
  {
   "cell_type": "code",
   "execution_count": 149,
   "metadata": {
    "collapsed": false
   },
   "outputs": [
    {
     "name": "stdout",
     "output_type": "stream",
     "text": [
      "[ 86.   0.   0.   0.   0.   0.   0.   0.  78.  78.  72.  72.  87.  89.  75.\n",
      "  80.  81.   0.   0.   0.   0.   0.   0.   0.  93.  76.   0.   0.   0.   0.\n",
      "   0.   0.  76.  89.  78.  88.  79.  83.  69.  73.   0.   0.   0.   0.   0.\n",
      "   0.   0.   0.  74.  74.  77.  75.  78.  78.  86.  77.  87.  87.  91.  75.\n",
      "  73.  77.  79.  72.]\n"
     ]
    }
   ],
   "source": [
    "#testing\n",
    "rhs = get_fpars('FPAR_A2016233.hdf')\n",
    "print(rhs)"
   ]
  },
  {
   "cell_type": "code",
   "execution_count": null,
   "metadata": {
    "collapsed": false
   },
   "outputs": [],
   "source": [
    "# fparreg_workflow()\n",
    "fparreg_workflow()"
   ]
  },
  {
   "cell_type": "code",
   "execution_count": 178,
   "metadata": {
    "collapsed": true
   },
   "outputs": [],
   "source": [
    "def fparreg_workflow():\n",
    "    big_mat = get_proportion_matrix()\n",
    "#     rhs = get_fpars('FPAR_A2016361.hdf')\n",
    "    print(big_mat)\n",
    "    save_matrix(big_mat)\n",
    "    mat = load_matrix('dajuzhen2.npy')\n",
    "    print(mat)\n",
    "    \n",
    "    \n",
    "def get_proportion_matrix():\n",
    "    from my_functions import get_fractions, get_by_box\n",
    "    mat2 = np.zeros((16,4))\n",
    "    base_lat, base_lon = 38.3, -89.59\n",
    "    \n",
    "    \n",
    "    base_lat = 40.7\n",
    "    base_lon = -88.2\n",
    "    row = 0 \n",
    "    \n",
    "    for i in range(4):\n",
    "        cur_lon = base_lon\n",
    "        for j in range(4):\n",
    "            print(base_lat, cur_lon)\n",
    "            mat2[row,:] = get_fractions(get_by_box(2016, cur_lon - 0.01, base_lat, cur_lon, base_lat + 0.01))\n",
    "            cur_lon -= 0.01\n",
    "            print(row)\n",
    "            row += 1\n",
    "        base_lat += 0.01\n",
    "    return mat2    \n",
    "    \n",
    "    \n",
    "def get_processed_matrix_and_rhs(mat, rhs):\n",
    "    indices = []\n",
    "    for i in range(len(rhs)):\n",
    "        if rhs[i] != 0:\n",
    "            indices.append(i)\n",
    "    indices = np.array(indices)\n",
    "#     print(indices)\n",
    "    return mat[indices, :], rhs[indices]\n",
    "\n",
    "\n",
    "def save_matrix(mat):\n",
    "    from tempfile import TemporaryFile\n",
    "    outfile = TemporaryFile()\n",
    "    np.save('dajuzhen.npy', mat)\n",
    "    \n",
    "    \n",
    "    \n",
    "def load_matrix(file):\n",
    "    return np.load(file)\n",
    "\n",
    "\n",
    "\n",
    "def run_regression():\n",
    "    from my_functions import get_cloud, coords_to_ind\n",
    "    from scipy.optimize import lsq_linear\n",
    "\n",
    "    time_series = np.zeros((4, 45))\n",
    "    ct = 0\n",
    "    x_values = []    \n",
    "    \n",
    "    prefix ='FPAR_A2016'\n",
    "    suffix = '.hdf'\n",
    "    ct = 0\n",
    "\n",
    "#     print(prefix+suffix)\n",
    "\n",
    "    for i in range(1,361,8):\n",
    "        a = str(int(i))\n",
    "        if i < 10:\n",
    "            a = '00'+ a\n",
    "        elif i < 100:\n",
    "            a = '0' + a\n",
    "\n",
    "        query = prefix + a + suffix\n",
    "#         print(query)\n",
    "        try:\n",
    "            data = SD(query, SDC.READ)\n",
    "            m2 = load_matrix('dajuzhen.npy')\n",
    "            rhs = get_fpars(query)\n",
    "#             print(rhs)\n",
    "            mat2, rhs2 = get_processed_matrix_and_rhs(m2,rhs)\n",
    "            \n",
    "#             print(mat2)\n",
    "            \n",
    "#             result = np.linalg.lstsq(mat2,rhs2)\n",
    "#             print(result[0])\n",
    "            \n",
    "            result = lsq_linear(mat2, rhs2, bounds = (0, 100))\n",
    "#             print(result.x)\n",
    "#             print('result', result[0])\n",
    "            ct += 1\n",
    "# #             print('result', result[0])\n",
    "            time_series[:,ct-1] = np.array(result.x)\n",
    "            x.append(i)\n",
    "                 \n",
    "        except Exception as e:\n",
    "            print(e)\n",
    "            continue\n",
    "                 \n",
    "    return x_values, time_series"
   ]
  },
  {
   "cell_type": "code",
   "execution_count": 176,
   "metadata": {
    "collapsed": true
   },
   "outputs": [],
   "source": [
    "large_time = []\n"
   ]
  },
  {
   "cell_type": "code",
   "execution_count": 179,
   "metadata": {
    "collapsed": false
   },
   "outputs": [
    {
     "name": "stdout",
     "output_type": "stream",
     "text": [
      "arrays used as indices must be of integer (or boolean) type\n",
      "arrays used as indices must be of integer (or boolean) type\n",
      "SD: no such file\n"
     ]
    },
    {
     "ename": "KeyboardInterrupt",
     "evalue": "",
     "output_type": "error",
     "traceback": [
      "\u001b[0;31m---------------------------------------------------------------------------\u001b[0m",
      "\u001b[0;31mKeyboardInterrupt\u001b[0m                         Traceback (most recent call last)",
      "\u001b[0;32m<ipython-input-179-749022387364>\u001b[0m in \u001b[0;36m<module>\u001b[0;34m()\u001b[0m\n\u001b[1;32m      3\u001b[0m \u001b[1;31m# print(rhs)\u001b[0m\u001b[1;33m\u001b[0m\u001b[1;33m\u001b[0m\u001b[0m\n\u001b[1;32m      4\u001b[0m \u001b[1;31m# fparreg_workflow()\u001b[0m\u001b[1;33m\u001b[0m\u001b[1;33m\u001b[0m\u001b[0m\n\u001b[0;32m----> 5\u001b[0;31m \u001b[0mx\u001b[0m\u001b[1;33m,\u001b[0m \u001b[0mtime_series\u001b[0m \u001b[1;33m=\u001b[0m \u001b[0mrun_regression\u001b[0m\u001b[1;33m(\u001b[0m\u001b[1;33m)\u001b[0m\u001b[1;33m\u001b[0m\u001b[0m\n\u001b[0m\u001b[1;32m      6\u001b[0m \u001b[1;33m\u001b[0m\u001b[0m\n\u001b[1;32m      7\u001b[0m \u001b[1;33m\u001b[0m\u001b[0m\n",
      "\u001b[0;32m<ipython-input-178-919efdc9a651>\u001b[0m in \u001b[0;36mrun_regression\u001b[0;34m()\u001b[0m\n\u001b[1;32m     78\u001b[0m             \u001b[0mdata\u001b[0m \u001b[1;33m=\u001b[0m \u001b[0mSD\u001b[0m\u001b[1;33m(\u001b[0m\u001b[0mquery\u001b[0m\u001b[1;33m,\u001b[0m \u001b[0mSDC\u001b[0m\u001b[1;33m.\u001b[0m\u001b[0mREAD\u001b[0m\u001b[1;33m)\u001b[0m\u001b[1;33m\u001b[0m\u001b[0m\n\u001b[1;32m     79\u001b[0m             \u001b[0mm2\u001b[0m \u001b[1;33m=\u001b[0m \u001b[0mload_matrix\u001b[0m\u001b[1;33m(\u001b[0m\u001b[1;34m'dajuzhen.npy'\u001b[0m\u001b[1;33m)\u001b[0m\u001b[1;33m\u001b[0m\u001b[0m\n\u001b[0;32m---> 80\u001b[0;31m             \u001b[0mrhs\u001b[0m \u001b[1;33m=\u001b[0m \u001b[0mget_fpars\u001b[0m\u001b[1;33m(\u001b[0m\u001b[0mquery\u001b[0m\u001b[1;33m)\u001b[0m\u001b[1;33m\u001b[0m\u001b[0m\n\u001b[0m\u001b[1;32m     81\u001b[0m \u001b[1;31m#             print(rhs)\u001b[0m\u001b[1;33m\u001b[0m\u001b[1;33m\u001b[0m\u001b[0m\n\u001b[1;32m     82\u001b[0m             \u001b[0mmat2\u001b[0m\u001b[1;33m,\u001b[0m \u001b[0mrhs2\u001b[0m \u001b[1;33m=\u001b[0m \u001b[0mget_processed_matrix_and_rhs\u001b[0m\u001b[1;33m(\u001b[0m\u001b[0mm2\u001b[0m\u001b[1;33m,\u001b[0m\u001b[0mrhs\u001b[0m\u001b[1;33m)\u001b[0m\u001b[1;33m\u001b[0m\u001b[0m\n",
      "\u001b[0;32m<ipython-input-174-38d1e5313b86>\u001b[0m in \u001b[0;36mget_fpars\u001b[0;34m(query)\u001b[0m\n\u001b[1;32m     39\u001b[0m     \u001b[0mraw_data\u001b[0m \u001b[1;33m=\u001b[0m \u001b[0mSD\u001b[0m\u001b[1;33m(\u001b[0m\u001b[0mquery\u001b[0m\u001b[1;33m,\u001b[0m \u001b[0mSDC\u001b[0m\u001b[1;33m.\u001b[0m\u001b[0mREAD\u001b[0m\u001b[1;33m)\u001b[0m\u001b[1;33m\u001b[0m\u001b[0m\n\u001b[1;32m     40\u001b[0m     \u001b[0mQC_reg_data\u001b[0m \u001b[1;33m=\u001b[0m \u001b[0mraw_data\u001b[0m\u001b[1;33m.\u001b[0m\u001b[0mselect\u001b[0m\u001b[1;33m(\u001b[0m\u001b[1;34m'FparExtra_QC'\u001b[0m\u001b[1;33m)\u001b[0m\u001b[1;33m[\u001b[0m\u001b[1;33m:\u001b[0m\u001b[1;33m]\u001b[0m\u001b[1;33m\u001b[0m\u001b[0m\n\u001b[0;32m---> 41\u001b[0;31m     \u001b[0mFPAR_reg_data\u001b[0m \u001b[1;33m=\u001b[0m \u001b[0mraw_data\u001b[0m\u001b[1;33m.\u001b[0m\u001b[0mselect\u001b[0m\u001b[1;33m(\u001b[0m\u001b[1;34m'Fpar_500m'\u001b[0m\u001b[1;33m)\u001b[0m\u001b[1;33m[\u001b[0m\u001b[1;33m:\u001b[0m\u001b[1;33m]\u001b[0m\u001b[1;33m\u001b[0m\u001b[0m\n\u001b[0m\u001b[1;32m     42\u001b[0m \u001b[1;33m\u001b[0m\u001b[0m\n\u001b[1;32m     43\u001b[0m     \u001b[1;32mfor\u001b[0m \u001b[0mi\u001b[0m \u001b[1;32min\u001b[0m \u001b[0mrange\u001b[0m\u001b[1;33m(\u001b[0m\u001b[1;36m4\u001b[0m\u001b[1;33m)\u001b[0m\u001b[1;33m:\u001b[0m\u001b[1;33m\u001b[0m\u001b[0m\n",
      "\u001b[0;32mc:\\users\\bowen\\anaconda3\\lib\\site-packages\\pyhdf\\SD.py\u001b[0m in \u001b[0;36m__getitem__\u001b[0;34m(self, elem)\u001b[0m\n\u001b[1;32m   1812\u001b[0m         \u001b[0mstart\u001b[0m\u001b[1;33m,\u001b[0m \u001b[0mcount\u001b[0m\u001b[1;33m,\u001b[0m \u001b[0mstride\u001b[0m \u001b[1;33m=\u001b[0m \u001b[0mself\u001b[0m\u001b[1;33m.\u001b[0m\u001b[0m__buildStartCountStride\u001b[0m\u001b[1;33m(\u001b[0m\u001b[0melem\u001b[0m\u001b[1;33m)\u001b[0m\u001b[1;33m\u001b[0m\u001b[0m\n\u001b[1;32m   1813\u001b[0m         \u001b[1;31m# Get elements.\u001b[0m\u001b[1;33m\u001b[0m\u001b[1;33m\u001b[0m\u001b[0m\n\u001b[0;32m-> 1814\u001b[0;31m         \u001b[1;32mreturn\u001b[0m \u001b[0mself\u001b[0m\u001b[1;33m.\u001b[0m\u001b[0mget\u001b[0m\u001b[1;33m(\u001b[0m\u001b[0mstart\u001b[0m\u001b[1;33m,\u001b[0m \u001b[0mcount\u001b[0m\u001b[1;33m,\u001b[0m \u001b[0mstride\u001b[0m\u001b[1;33m)\u001b[0m\u001b[1;33m\u001b[0m\u001b[0m\n\u001b[0m\u001b[1;32m   1815\u001b[0m \u001b[1;33m\u001b[0m\u001b[0m\n\u001b[1;32m   1816\u001b[0m     \u001b[1;32mdef\u001b[0m \u001b[0m__setitem__\u001b[0m\u001b[1;33m(\u001b[0m\u001b[0mself\u001b[0m\u001b[1;33m,\u001b[0m \u001b[0melem\u001b[0m\u001b[1;33m,\u001b[0m \u001b[0mdata\u001b[0m\u001b[1;33m)\u001b[0m\u001b[1;33m:\u001b[0m\u001b[1;33m\u001b[0m\u001b[0m\n",
      "\u001b[0;31mKeyboardInterrupt\u001b[0m: "
     ]
    }
   ],
   "source": [
    "#testing1\n",
    "# m2 = load_matrix('dajuzhen.npy')\n",
    "# print(rhs)\n",
    "# fparreg_workflow()\n",
    "\n",
    "\n",
    "# July 16 days \n",
    "\n",
    "\n",
    "\n",
    "x, time_series = run_regression()\n",
    "\n",
    "\n",
    "large_time.append(time_series)\n",
    "\n",
    "\n",
    "\n",
    "\n",
    "# # print(mat_3)\n",
    "# mat2, rhs2 = get_processed_matrix_and_rhs(m2,rhs)\n",
    "\n",
    "# result = np.linalg.lstsq(mat2, rhs2)\n",
    "# print(result[0])\n",
    "\n",
    "#test whole function\n",
    "# x, time_series = run_regression()\n",
    "\n",
    "\n",
    "\n"
   ]
  },
  {
   "cell_type": "code",
   "execution_count": 168,
   "metadata": {
    "collapsed": false
   },
   "outputs": [
    {
     "data": {
      "text/plain": [
       "(4, 45)"
      ]
     },
     "execution_count": 168,
     "metadata": {},
     "output_type": "execute_result"
    }
   ],
   "source": [
    "large_time[0].shape\n",
    "# x, time_series = run_regression()"
   ]
  },
  {
   "cell_type": "code",
   "execution_count": 170,
   "metadata": {
    "collapsed": false
   },
   "outputs": [
    {
     "data": {
      "text/plain": [
       "<matplotlib.legend.Legend at 0x83baa28390>"
      ]
     },
     "execution_count": 170,
     "metadata": {},
     "output_type": "execute_result"
    },
    {
     "data": {
      "image/png": "[encoded data removed]",
      "text/plain": [
       "<matplotlib.figure.Figure at 0x83ba996470>"
      ]
     },
     "metadata": {},
     "output_type": "display_data"
    }
   ],
   "source": [
    "import matplotlib.pyplot as plt\n",
    "%matplotlib inline\n",
    "time_series = large_time[0]\n",
    "plt.plot(time_series[0], label = 'corn')\n",
    "plt.plot(time_series[1], label = 'soybean')\n",
    "# plt.plot(time_series[2], label = 'forest')\n",
    "# plt.plot(time_series[3], label = 'grass')\n",
    "plt.legend()\n",
    "# time_series\n",
    "s = \n"
   ]
  },
  {
   "cell_type": "code",
   "execution_count": null,
   "metadata": {
    "collapsed": false
   },
   "outputs": [],
   "source": [
    "def get_fractions(cdl):\n",
    "    \n",
    "        total_acre = sum(cdl['Acreage'])\n",
    "        if total_acre == 0:\n",
    "            corn = 0\n",
    "            soy = 0\n",
    "            forest = 0\n",
    "            grass = 0\n",
    "            return\n",
    "        if \"Corn\" in cdl.index:\n",
    "            corn = cdl['Acreage']['Corn'] / total_acre\n",
    "        else:\n",
    "            corn = 0\n",
    "        if \"Soybeans\" in cdl.index:\n",
    "            soy = cdl['Acreage']['Soybeans'] / total_acre\n",
    "        else:\n",
    "            soy = 0\n",
    "        pattern = re.compile(r' Forest')\n",
    "        trees = [cdl.index[i] for i in range(len(cdl.index))\\\n",
    "                 if re.search(pattern, cdl.index[i]) != None]\n",
    "        frst = 0\n",
    "        for tree in trees:\n",
    "            frst += cdl['Acreage'][tree]\n",
    "        forest = frst /  total_acre\n",
    "        grass = 1 - (forest + corn + soy)\n",
    "        return  np.array([corn, soy, forest, grass])"
   ]
  },
  {
   "cell_type": "code",
   "execution_count": null,
   "metadata": {
    "collapsed": false
   },
   "outputs": [],
   "source": []
  },
  {
   "cell_type": "code",
   "execution_count": null,
   "metadata": {
    "collapsed": false
   },
   "outputs": [],
   "source": [
    "print(mat)"
   ]
  },
  {
   "cell_type": "code",
   "execution_count": null,
   "metadata": {
    "collapsed": false
   },
   "outputs": [],
   "source": [
    "from scipy.optimize import lsq_linear"
   ]
  },
  {
   "cell_type": "code",
   "execution_count": null,
   "metadata": {
    "collapsed": true
   },
   "outputs": [],
   "source": [
    "result = np.linalg.lstsq(mat, rhs)"
   ]
  },
  {
   "cell_type": "code",
   "execution_count": null,
   "metadata": {
    "collapsed": false
   },
   "outputs": [],
   "source": [
    "print(result[0])"
   ]
  },
  {
   "cell_type": "code",
   "execution_count": null,
   "metadata": {
    "collapsed": true
   },
   "outputs": [],
   "source": [
    "def get_fpar_reg_series():\n",
    "    \n",
    "    from my_functions import get_cloud, coords_to_ind\n",
    "\n",
    "    time_series = np.zeros((4, 45))\n",
    "    qc = []\n",
    "    x_values = []\n",
    "    fpp = []\n",
    "    \n",
    "    \n",
    "    prefix ='FPAR_A2016'\n",
    "    suffix = '.hdf'\n",
    "    ct = 0\n",
    "\n",
    "    print(prefix+suffix)\n",
    "\n",
    "    for i in range(1,361,8):\n",
    "        a = str(int(i))\n",
    "        if i < 10:\n",
    "            a = '00'+ a\n",
    "        elif i < 100:\n",
    "            a = '0' + a\n",
    "\n",
    "        query = prefix + a + suffix\n",
    "        print(query)\n",
    "        try:\n",
    "            data = SD(query, SDC.READ)\n",
    "#             print('get')\n",
    "            FPAR_data = data.select('Fpar_500m')[:]\n",
    "            QC_data = data.select('FparExtra_QC')[:]\n",
    "        \n",
    "            \n",
    "            base_lat = 38.3\n",
    "            base_lon = -89.99\n",
    "\n",
    "            Q = QC_data[coords_to_ind(base_lon, base_lat)[1],coords_to_ind(base_lon, base_lat)[0]]\n",
    "            \n",
    "            if get_cloud(Q)[0] == '0' and get_cloud(Q)[1] == '0':\n",
    "#                 print('inside')\n",
    "                \n",
    "                \n",
    "                \n",
    "                result = get_sifs(query)\n",
    "                print(result.shape)\n",
    "                fpp.append(result)\n",
    "#                 print(result)\n",
    "#                 time_series[:,ct] = np.array(result)\n",
    "                ct += 1\n",
    "\n",
    "        except Exception as e:\n",
    "            print(e)\n",
    "            continue\n",
    "\n",
    "    return fpp\n",
    "\n",
    "# data = SD('FPAR_A2016361.hdf', SDC.READ)"
   ]
  },
  {
   "cell_type": "code",
   "execution_count": null,
   "metadata": {
    "collapsed": false
   },
   "outputs": [],
   "source": [
    "#testing\n",
    "time_s = get_fpar_reg_series()\n",
    "print(time_s)"
   ]
  },
  {
   "cell_type": "code",
   "execution_count": null,
   "metadata": {
    "collapsed": true
   },
   "outputs": [],
   "source": []
  },
  {
   "cell_type": "code",
   "execution_count": null,
   "metadata": {
    "collapsed": false
   },
   "outputs": [],
   "source": [
    "mat = get_proportion_matrix()"
   ]
  },
  {
   "cell_type": "code",
   "execution_count": null,
   "metadata": {
    "collapsed": false
   },
   "outputs": [],
   "source": [
    "%matplotlib inline\n",
    "\n",
    "time_s = np.array(time_s)\n",
    "print(time_s.shape)\n",
    "\n",
    "for i in range(16):\n",
    "    if np.mean(time_s[:,i]) < 150:\n",
    "        plt.plot(time_s[:,i])\n",
    "\n",
    "\n",
    "        \n",
    "        \n",
    "1330Haiyan\n",
    "# plt.figure()\n",
    "# plt.plot(time_s[0], label = 'corn')\n",
    "# plt.plot(time_s[1], label = 'soybeans')\n",
    "# plt.plot(time_s[2], label = 'forest')\n",
    "# plt.plot(time_s[3], label = 'grass')\n",
    "# plt.legend()\n"
   ]
  },
  {
   "cell_type": "code",
   "execution_count": null,
   "metadata": {
    "collapsed": false
   },
   "outputs": [],
   "source": [
    "base_lon = 20\n",
    "base_lat = 20\n",
    "for i in range(3):\n",
    "    cur_lon = base_lon\n",
    "    for j in range(3):\n",
    "#         rhs[row] = FPAR_data[coords_to_ind(cur_lon, base_lat)[1],coords_to_ind(cur_lon, base_lat)[0]]\n",
    "        cur_lon -= 0.25\n",
    "        row += 1\n",
    "        print(base_lat, cur_lon)\n",
    "    base_lat += 0.25\n",
    "    "
   ]
  },
  {
   "cell_type": "code",
   "execution_count": null,
   "metadata": {
    "collapsed": false
   },
   "outputs": [],
   "source": [
    "print(1)"
   ]
  },
  {
   "cell_type": "code",
   "execution_count": null,
   "metadata": {
    "collapsed": true
   },
   "outputs": [],
   "source": []
  },
  {
   "cell_type": "code",
   "execution_count": null,
   "metadata": {
    "collapsed": false
   },
   "outputs": [],
   "source": [
    "arg_max = 'FPAR_A2016249.hdf'\n",
    "\n",
    "print(get_sifs().x)"
   ]
  },
  {
   "cell_type": "code",
   "execution_count": null,
   "metadata": {
    "collapsed": false
   },
   "outputs": [],
   "source": [
    "import os\n",
    "os.getcwd()"
   ]
  },
  {
   "cell_type": "code",
   "execution_count": null,
   "metadata": {
    "collapsed": false
   },
   "outputs": [],
   "source": [
    "print(time_s)"
   ]
  },
  {
   "cell_type": "code",
   "execution_count": null,
   "metadata": {
    "collapsed": false
   },
   "outputs": [],
   "source": [
    "import numpy as np\n",
    "\n",
    "from my_functions import get_fractions, get_by_box,hasdf\n",
    "\n",
    "\n",
    "base_lat, base_lon = 38.3, -89.99\n",
    "\n",
    "mat2 = np.zeros((16,4))\n",
    "row = 0\n",
    "for i in range(4):\n",
    "        cur_lon = base_lon\n",
    "        \n",
    "        for j in range(4):\n",
    "\n",
    "            print(base_lat, cur_lon)\n",
    "            mat2[row,:] = get_fractions(get_by_box(2016, cur_lon, base_lat, cur_lon - 0.1, base_lat + 0.1))\n",
    "            cur_lon -= 0.1\n",
    "            print(row)\n",
    "            row += 1\n",
    "        base_lat += 0.1"
   ]
  },
  {
   "cell_type": "code",
   "execution_count": null,
   "metadata": {
    "collapsed": false
   },
   "outputs": [],
   "source": [
    "import os\n",
    "os.getcwd()"
   ]
  },
  {
   "cell_type": "code",
   "execution_count": null,
   "metadata": {
    "collapsed": true
   },
   "outputs": [],
   "source": [
    "from io import StringIO"
   ]
  },
  {
   "cell_type": "code",
   "execution_count": null,
   "metadata": {
    "collapsed": true
   },
   "outputs": [],
   "source": [
    "def get_by_box(year, llcrnrlon, llcrnrlat, urcrnrlon, urcrnrlat):\n",
    "\n",
    "    x1, y1 = sifutil.convertProjection(llcrnrlon, llcrnrlat, sifutil.WGS84, sifutil.CONUS_ALBERS)\n",
    "    x2, y2 = sifutil.convertProjection(urcrnrlon, urcrnrlat, sifutil.WGS84, sifutil.CONUS_ALBERS)\n",
    "    url = BASE_CDL_URL + '?year=' + str(year) + '&bbox=' + str(min(x1,x2)) + \",\" +\\\n",
    "          str(min(y1, y2)) + \",\" + str(max(x1, x2)) + \",\" + str(max(y1, y2)) + \"&format=csv\"\n",
    "    print(url)\n",
    "\n",
    "    with warnings.catch_warnings():\n",
    "        warnings.simplefilter(\"ignore\")\n",
    "        res = requests.get(url, verify = False)\n",
    "        returnurl = BeautifulSoup(res.text, 'lxml').find('returnurl').text\n",
    "    #print(returnurl)\n",
    "    with warnings.catch_warnings():\n",
    "        rawdata = requests.get(returnurl, verify = False).text\n",
    "    raw_iter = StringIO(rawdata)\n",
    "    df = pd.read_csv(raw_iter, sep=\" *, * \")\\\n",
    "       .apply(pd.to_numeric, errors='ignore')\\\n",
    "       .set_index(\"Category\")\n",
    "    return df \n",
    "\n",
    "\n",
    "def get_fractions(cdl):\n",
    "    total_acre = sum(cdl['Acreage'])\n",
    "    if total_acre == 0:\n",
    "        corn = 0\n",
    "        soy = 0\n",
    "        forest = 0\n",
    "        grass = 0\n",
    "        return\n",
    "    if \"Corn\" in cdl.index:\n",
    "        corn = cdl['Acreage']['Corn'] / total_acre\n",
    "    else:\n",
    "        corn = 0\n",
    "    if \"Soybeans\" in cdl.index:\n",
    "        soy = cdl['Acreage']['Soybeans'] / total_acre\n",
    "    else:\n",
    "        soy = 0\n",
    "    pattern = re.compile(r' Forest')\n",
    "    trees = [cdl.index[i] for i in range(len(cdl.index))\\\n",
    "             if re.search(pattern, cdl.index[i]) != None]\n",
    "    frst = 0\n",
    "    for tree in trees:\n",
    "        frst += cdl['Acreage'][tree]\n",
    "    forest = frst /  total_acre\n",
    "    grass = 1 - (forest + corn + soy)\n",
    "    return  np.array([corn, soy, forest, grass])"
   ]
  },
  {
   "cell_type": "code",
   "execution_count": null,
   "metadata": {
    "collapsed": false
   },
   "outputs": [],
   "source": [
    "from my_functions import hasdf"
   ]
  },
  {
   "cell_type": "code",
   "execution_count": null,
   "metadata": {
    "collapsed": false
   },
   "outputs": [],
   "source": [
    "print(mat2)"
   ]
  },
  {
   "cell_type": "code",
   "execution_count": null,
   "metadata": {
    "collapsed": true
   },
   "outputs": [],
   "source": [
    "import my_functions"
   ]
  },
  {
   "cell_type": "code",
   "execution_count": null,
   "metadata": {
    "collapsed": true
   },
   "outputs": [],
   "source": [
    "import numpy as np"
   ]
  },
  {
   "cell_type": "code",
   "execution_count": null,
   "metadata": {
    "collapsed": false
   },
   "outputs": [],
   "source": [
    "x = np.array([[2,2,2,2,2],[1,1,1,1,1]]).T\n",
    "y = np.array([1,3,5,7,9])\n",
    "result=  np.linalg.lstsq(x,y)\n"
   ]
  },
  {
   "cell_type": "code",
   "execution_count": null,
   "metadata": {
    "collapsed": false
   },
   "outputs": [],
   "source": [
    "result"
   ]
  },
  {
   "cell_type": "code",
   "execution_count": null,
   "metadata": {
    "collapsed": false
   },
   "outputs": [],
   "source": [
    "import os\n",
    "os.getcwd()"
   ]
  },
  {
   "cell_type": "code",
   "execution_count": null,
   "metadata": {
    "collapsed": true
   },
   "outputs": [],
   "source": [
    "import p"
   ]
  }
 ],
 "metadata": {
  "kernelspec": {
   "display_name": "Python 3",
   "language": "python",
   "name": "python3"
  },
  "language_info": {
   "codemirror_mode": {
    "name": "ipython",
    "version": 3
   },
   "file_extension": ".py",
   "mimetype": "text/x-python",
   "name": "python",
   "nbconvert_exporter": "python",
   "pygments_lexer": "ipython3",
   "version": "3.6.4"
  }
 },
 "nbformat": 4,
 "nbformat_minor": 2
}
