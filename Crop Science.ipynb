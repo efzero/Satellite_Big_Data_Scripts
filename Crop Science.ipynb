{
 "cells": [
  {
   "cell_type": "markdown",
   "metadata": {
    "collapsed": true
   },
   "source": [
    "<h2 style = 'text-align: center;'>Satellite Data Classification</h2>\n",
    "\n",
    "<p>    For this project, we need several python libraries to process the data, and analyze the data. Supervised Machine Learning algorithms like SVM and knn are applied to the dataset. Several data processing libraries are used. For example:</p>\n",
    "<ul>\n",
    "    <li>dbfread (to access the data in the database)</li>\n",
    "    <li>osgeo (to get the different band data in the satellite and CDL data)</li>\n",
    "    <li>openCV, numpy, matplotlib and pandas(for general image and data analysis</li>\n",
    "\n",
    "</ul>\n"
   ]
  },
  {
   "cell_type": "code",
   "execution_count": 1,
   "metadata": {
    "collapsed": true
   },
   "outputs": [],
   "source": [
    "import numpy as np\n",
    "from dbfread import DBF\n",
    "import matplotlib.pyplot as plt\n",
    "%matplotlib inline                                                                                                                                                                                                                                                                                                                                                                                                                                                                                                                                                                                                                                                                                                                                                                                                                                                                                                                                                                                                                                                                                                                                                                                                                                                                                                                                                                                                                                                                                                                                                                                                                                                                                                        "
   ]
  },
  {
   "cell_type": "code",
   "execution_count": 2,
   "metadata": {
    "collapsed": true
   },
   "outputs": [],
   "source": [
    "data = DBF('mydata.tif.vat.dbf')"
   ]
  },
  {
   "cell_type": "code",
   "execution_count": 3,
   "metadata": {
    "collapsed": true
   },
   "outputs": [],
   "source": [
    "cornData = []\n",
    "for rows in data:\n",
    "    cornData.append([rows['CLASS_NAME'], rows['RED'], rows['GREEN'],rows['BLUE'], rows['OPACITY']])"
   ]
  },
  {
   "cell_type": "code",
   "execution_count": 4,
   "metadata": {
    "collapsed": true
   },
   "outputs": [],
   "source": [
    "import cv2"
   ]
  },
  {
   "cell_type": "code",
   "execution_count": 5,
   "metadata": {
    "collapsed": true
   },
   "outputs": [],
   "source": [
    "cornData.insert(0, ['CLASSNAME', 'RED', 'GREEN', 'BLUE', 'ALPHA'])\n"
   ]
  },
  {
   "cell_type": "code",
   "execution_count": 6,
   "metadata": {
    "collapsed": true
   },
   "outputs": [],
   "source": [
    "import pandas as pd\n",
    "cornDF = pd.DataFrame(cornData[1:], columns = cornData[0])\n",
    "corn_np_array = np.array(cornData)\n"
   ]
  },
  {
   "cell_type": "code",
   "execution_count": 7,
   "metadata": {
    "collapsed": true
   },
   "outputs": [],
   "source": [
    "USDA_Map = cv2.imread('CDL_2013_Champaign_north.tif')\n",
    "USDA_data = np.array(USDA_Map)"
   ]
  },
  {
   "cell_type": "markdown",
   "metadata": {
    "collapsed": true
   },
   "source": [
    "<p style = 'line-height: 7px;'> Then we have put all the color and class name data in the database to a pandas dataframe </p>\n",
    "<p style = 'line-height: 7px;'> We have also created a numpy array to store the data above </p>\n",
    "<p style = 'line-height: 7px; margin-bottom :30px;'> We have used openCV to read our CDL Image file, we have converted it to a numpy array <p>\n",
    "\n",
    "<p> Then we use gdal to fetch our satellite data, and we can seperate its 5 bands into 5 big matrices. I have plotted the histograms of these 5 matrices. Observe that our every matrix has the same shape as our CDL labelling data. It is very easy for us to apply machine learning algorithms on those data</p>"
   ]
  },
  {
   "cell_type": "code",
   "execution_count": 2,
   "metadata": {
    "collapsed": true
   },
   "outputs": [],
   "source": [
    "from osgeo import gdal"
   ]
  },
  {
   "cell_type": "code",
   "execution_count": 4,
   "metadata": {
    "collapsed": true
   },
   "outputs": [],
   "source": [
    "gtif = gdal.Open('satellite.tif')\n",
    "tif2 = gdal.Open('CDL_2013_Champaign_north.tif')"
   ]
  },
  {
   "cell_type": "markdown",
   "metadata": {},
   "source": [
    "<p>gtif is our satellite data, which is our raw input data x. tif2 is our CDL data, which is our labelling data f(x)</p>\n",
    "<p> Observe the our x and f(x) have the same shape and they represent the same region for every pixel. The histogram of each band of the satellite data is plotted below<p>\n",
    "\n"
   ]
  },
  {
   "cell_type": "code",
   "execution_count": 5,
   "metadata": {},
   "outputs": [
    {
     "name": "stdout",
     "output_type": "stream",
     "text": [
      "{'AREA_OR_POINT': 'Area'}\n",
      "{'AREA_OR_POINT': 'Area'}\n",
      "5 1\n",
      "the shape of the 1 matrix is (5959, 9425)\n",
      "the shape of the 2 matrix is (5959, 9425)\n",
      "the shape of the 3 matrix is (5959, 9425)\n",
      "the shape of the 4 matrix is (5959, 9425)\n",
      "the shape of the 5 matrix is (5959, 9425)\n",
      "the max of the 1  matrix is 35709\n",
      "the max of the 2  matrix is 35412\n",
      "the max of the 3  matrix is 31680\n",
      "the max of the 4  matrix is 24759\n",
      "the max of the 5  matrix is 24381\n"
     ]
    }
   ],
   "source": [
    "print(gtif.GetMetadata())\n",
    "print(tif2.GetMetadata())\n",
    "srcband = gtif.GetRasterBand(1)\n",
    "count = gtif.RasterCount\n",
    "count2 = tif2.RasterCount\n",
    "print(count,count2)\n",
    "\n",
    "asdfb = srcband.GetDataset()\n",
    "\n",
    "band1 = srcband.ReadAsArray()\n",
    "band2 = (gtif.GetRasterBand(2))\n",
    "band2 = band2.ReadAsArray()\n",
    "band3 = (gtif.GetRasterBand(3))\n",
    "band3 = band3.ReadAsArray()\n",
    "band4 = (gtif.GetRasterBand(4)).ReadAsArray()\n",
    "band5 = (gtif.GetRasterBand(5)).ReadAsArray()\n",
    "\n",
    "%matplotlib inline\n",
    "\n",
    "count = 0\n",
    "matrix1 = band1.flatten()\n",
    "matrix2 = band2.flatten()\n",
    "matrix3 = band3.flatten()\n",
    "matrix4 = band4.flatten()\n",
    "matrix5 = band5.flatten()\n",
    "for i in enumerate([band1,band2,band3,band4,band5],1):\n",
    "    print('the shape of the',i[0],'matrix is', i[1].shape)\n",
    "    \n",
    "for i in enumerate([band1,band2,band3,band4,band5],1):\n",
    "    print('the max of the' ,i[0],' matrix is', np.max(i[1]))\n",
    "    "
   ]
  },
  {
   "cell_type": "markdown",
   "metadata": {},
   "source": [
    "<p></p>\n",
    "<p></p>\n",
    "<p>Since the data size is too large, we clear our memory after loading the raw data </p>"
   ]
  },
  {
   "cell_type": "code",
   "execution_count": 6,
   "metadata": {
    "collapsed": true
   },
   "outputs": [],
   "source": [
    "band1 = None\n",
    "band2 = None\n",
    "band3 = None\n",
    "band4 = None\n",
    "band5 = None\n",
    "gtif1 = None\n",
    "srcband = None"
   ]
  },
  {
   "cell_type": "markdown",
   "metadata": {},
   "source": [
    "<p> We have plotted the histograms of our 5 bands below </p>"
   ]
  },
  {
   "cell_type": "code",
   "execution_count": 11,
   "metadata": {},
   "outputs": [
    {
     "data": {
      "text/plain": [
       "<matplotlib.figure.Figure at 0x7fa90cb6fc50>"
      ]
     },
     "execution_count": 11,
     "metadata": {},
     "output_type": "execute_result"
    },
    {
     "data": {
      "image/png": "[encoded data removed]",
      "text/plain": [
       "<matplotlib.figure.Figure at 0x7fa90efdfd30>"
      ]
     },
     "metadata": {},
     "output_type": "display_data"
    },
    {
     "data": {
      "image/png": "[encoded data removed]",
      "text/plain": [
       "<matplotlib.figure.Figure at 0x7fa967390390>"
      ]
     },
     "metadata": {},
     "output_type": "display_data"
    },
    {
     "data": {
      "image/png": "[encoded data removed]",
      "text/plain": [
       "<matplotlib.figure.Figure at 0x7fa90ccaa5c0>"
      ]
     },
     "metadata": {},
     "output_type": "display_data"
    },
    {
     "data": {
      "image/png": "[encoded data removed]",
      "text/plain": [
       "<matplotlib.figure.Figure at 0x7fa90cc1e6a0>"
      ]
     },
     "metadata": {},
     "output_type": "display_data"
    },
    {
     "data": {
      "image/png": "[encoded data removed]",
      "text/plain": [
       "<matplotlib.figure.Figure at 0x7fa90cc0a7f0>"
      ]
     },
     "metadata": {},
     "output_type": "display_data"
    },
    {
     "data": {
      "text/plain": [
       "<matplotlib.figure.Figure at 0x7fa90cb6fc50>"
      ]
     },
     "metadata": {},
     "output_type": "display_data"
    }
   ],
   "source": [
    "plt.hist(matrix1)\n",
    "plt.title('blue')\n",
    "plt.figure()\n",
    "plt.hist(matrix2)\n",
    "plt.title('green')\n",
    "plt.figure()\n",
    "plt.hist(matrix3)\n",
    "plt.title('red')\n",
    "plt.figure()\n",
    "plt.hist(matrix4)\n",
    "plt.title('red edge')\n",
    "plt.figure()\n",
    "plt.hist(matrix5)\n",
    "plt.title('near infrared')\n",
    "plt.figure()"
   ]
  },
  {
   "cell_type": "markdown",
   "metadata": {},
   "source": [
    "<p> Then we need to obtain our dependent variable (label data) <p>"
   ]
  },
  {
   "cell_type": "code",
   "execution_count": 9,
   "metadata": {},
   "outputs": [
    {
     "name": "stdout",
     "output_type": "stream",
     "text": [
      "the shape of the CDL data is (5959, 9425)\n"
     ]
    }
   ],
   "source": [
    "labels = tif2.GetRasterBand(1)\n",
    "label_array = labels.ReadAsArray()\n",
    "print('the shape of the CDL data is', label_array.shape)\n",
    "# arr = labels.asarray()"
   ]
  },
  {
   "cell_type": "markdown",
   "metadata": {},
   "source": [
    "<p> We have obtained our labelling data, then we need to see how many different types of crops are in our labelling data. 1 represents the corn, 5 represents the soybeans, and 3 represents other types of crops. We have sorted our CDL data, we can see that corn appears the most in northern illinois and soybeans almost have the same level of production as corns</p>"
   ]
  },
  {
   "cell_type": "code",
   "execution_count": 14,
   "metadata": {},
   "outputs": [
    {
     "name": "stdout",
     "output_type": "stream",
     "text": [
      "[(1, 25320078), (5, 21417645), (176, 2522306), (121, 2325752), (122, 1977921), (141, 1287171), (123, 375667), (24, 347272), (111, 154703), (124, 124414), (190, 105600), (36, 80492), (37, 74591), (131, 23415), (26, 11530), (28, 5821), (43, 3318), (61, 2298), (152, 679), (195, 679), (58, 569), (241, 406), (59, 405), (222, 188), (225, 175), (13, 174), (27, 97), (4, 90), (12, 48), (254, 41)]\n"
     ]
    }
   ],
   "source": [
    "label_dict = {}\n",
    "for i in label_array.flatten():\n",
    "    if i not in label_dict:\n",
    "        label_dict[i] = 0\n",
    "    else:\n",
    "        label_dict[i] += 1\n",
    "sorted_labels = sorted([(key,val) for key,val in label_dict.items()], key = lambda x: x[1], reverse = True)\n",
    "print(sorted_labels)"
   ]
  },
  {
   "cell_type": "markdown",
   "metadata": {
    "collapsed": true
   },
   "source": [
    "<p> For large classification problems, svm and knn algorithms are good choice. knn has good accuracy when the dimension is low and the number of data points is large. However, knn is more sensitive to outliers and it does not have good performance in high dimensional dataset</p>\n",
    "<p> SVM is a stable algorithm. It is very good for high dimensional data, and it treats outliers pretty well. Even though it has lower accuracy than knn during cross validation, it is more preferred in our task </p>\n",
    "<p> First, we use KNN algorithm to train our model. As a rule of thumb, we should choose the square root of our sample size as our k value. Then, we can use 5-fold or 10-fold cross validation for parameter tuning to find the best k for our knn model</p>\n",
    "<p> The first step is to build our training data, in order to do it, we need to clean and normalizae our data </p>"
   ]
  },
  {
   "cell_type": "code",
   "execution_count": 7,
   "metadata": {
    "collapsed": true,
    "scrolled": true
   },
   "outputs": [],
   "source": [
    "matrix1 = matrix1/np.max(matrix1)\n",
    "matrix2 = matrix2/np.max(matrix2)\n",
    "matrix3 = matrix3/np.max(matrix3)\n",
    "matrix4 = matrix4/np.max(matrix4)\n",
    "matrix5 = matrix5/np.max(matrix5)\n"
   ]
  },
  {
   "cell_type": "code",
   "execution_count": null,
   "metadata": {},
   "outputs": [],
   "source": [
    "#normalize input data\n",
    "input_data_flatten = np.zeros((5929*9425,5))\n",
    "for i in range(5929*9425):\n",
    "    input_data_flatten[i,0] = matrix1[i]\n",
    "    input_data_flatten[i,1] = matrix2[i]\n",
    "    input_data_flatten[i,2] = matrix3[i]\n",
    "    input_data_flatten[i,3] = matrix4[i]\n",
    "    input_data_flatten[i,4] = matrix5[i]\n"
   ]
  },
  {
   "cell_type": "markdown",
   "metadata": {},
   "source": [
    "<p>Then we get rid of other crop types other than corns and soybeans <p>"
   ]
  },
  {
   "cell_type": "code",
   "execution_count": 10,
   "metadata": {
    "collapsed": true
   },
   "outputs": [],
   "source": [
    "label_flatten = label_array.flatten()\n",
    "#normalize labels\n",
    "#use only 3 labels\n",
    "for i in range(len(label_flatten)):\n",
    "    if label_flatten[i] == 1 or label_flatten[i] == 5:\n",
    "        continue\n",
    "    else:\n",
    "        label_flatten[i] = 3\n"
   ]
  },
  {
   "cell_type": "markdown",
   "metadata": {},
   "source": [
    "<p> SVM Is good for high dimensional data, but knn is much easier to compute than SVM. Even though when the number of sample increases, the knn algorithm needs more time to find the nearest neighbor, it is still faster than SVM. In our crop data, knn is also highly reliable for some good k values.  </p>\n",
    "\n",
    "<p> We randomly sample our input data without repetition, and take our X_train and Y_train from our samples</p>\n",
    "<p> A sample size of 10000 is actually good for training because a larger sample has the potential to overfit with a little bit increase in accuracy</p>"
   ]
  },
  {
   "cell_type": "code",
   "execution_count": 33,
   "metadata": {
    "collapsed": true
   },
   "outputs": [],
   "source": [
    "#random sampling the training data\n",
    "population = np.arange(5929*9425)"
   ]
  },
  {
   "cell_type": "code",
   "execution_count": 34,
   "metadata": {},
   "outputs": [],
   "source": [
    "sample = np.random.choice(population,10000, False)\n",
    "sample = sorted(sample)"
   ]
  },
  {
   "cell_type": "code",
   "execution_count": 35,
   "metadata": {
    "collapsed": true
   },
   "outputs": [],
   "source": [
    "X_train = np.take(input_data_flatten, sample, 0)\n",
    "Y_train = np.take(label_flatten, sample)"
   ]
  },
  {
   "cell_type": "markdown",
   "metadata": {},
   "source": [
    "<p>Clear memory for training</p>"
   ]
  },
  {
   "cell_type": "code",
   "execution_count": 98,
   "metadata": {},
   "outputs": [],
   "source": [
    "matrix1 = None\n",
    "matrix2 = None\n",
    "matrix3 = None\n",
    "matrix4 = None\n",
    "matrix5 = None"
   ]
  },
  {
   "cell_type": "markdown",
   "metadata": {},
   "source": [
    "<p> First we try our svm model </p>\n",
    "<p>By our assumption, since the every crop has its different colors, and it is rare that if two crop has a very different color and they are of the same type. So, our kernel is not linear, we can not seperate different groups by a high-dimensional line. It is better to use rbf kernel here </p>"
   ]
  },
  {
   "cell_type": "code",
   "execution_count": 39,
   "metadata": {
    "collapsed": true
   },
   "outputs": [],
   "source": [
    "from sklearn import svm"
   ]
  },
  {
   "cell_type": "markdown",
   "metadata": {},
   "source": [
    "<p> Then we use 5-fold cross validation to study the accuracy of our svm model </p>"
   ]
  },
  {
   "cell_type": "code",
   "execution_count": 37,
   "metadata": {
    "collapsed": true
   },
   "outputs": [],
   "source": [
    "from sklearn.model_selection import cross_val_score"
   ]
  },
  {
   "cell_type": "code",
   "execution_count": 76,
   "metadata": {},
   "outputs": [
    {
     "name": "stdout",
     "output_type": "stream",
     "text": [
      "[ 0.62268866  0.69715142  0.692       0.70685343  0.65832916]\n"
     ]
    }
   ],
   "source": [
    "svm_model = svm.SVC(decision_function_shape = 'ovo', kernel = 'rbf')\n",
    "score = cross_val_score(svm_model, X_train, Y_train, cv=5, scoring='accuracy')\n",
    "print(score)"
   ]
  },
  {
   "cell_type": "code",
   "execution_count": 93,
   "metadata": {},
   "outputs": [
    {
     "data": {
      "text/plain": [
       "<matplotlib.text.Text at 0x7f2a058d5710>"
      ]
     },
     "execution_count": 93,
     "metadata": {},
     "output_type": "execute_result"
    },
    {
     "data": {
      "image/png": "[encoded data removed]",
      "text/plain": [
       "<matplotlib.figure.Figure at 0x7f2ae35e1588>"
      ]
     },
     "metadata": {},
     "output_type": "display_data"
    }
   ],
   "source": [
    "plt.scatter(np.arange(5),score)\n",
    "plt.title('svm cross validation accuracy')"
   ]
  },
  {
   "cell_type": "markdown",
   "metadata": {},
   "source": [
    "<p> It looks like our SVM model has a good accuracy of prediction. Since there are a lot of outliers in our raw data like clouds, buildings, neighborhoods, etc... An average of 67.5% accuracy is good</p>\n",
    "\n",
    "<p> Then we want to study the accuracy of our knn model. We use cross validation to obtain the best k for our knn model</p>"
   ]
  },
  {
   "cell_type": "code",
   "execution_count": 41,
   "metadata": {
    "collapsed": true
   },
   "outputs": [],
   "source": [
    "from sklearn.neighbors import KNeighborsClassifier"
   ]
  },
  {
   "cell_type": "code",
   "execution_count": 42,
   "metadata": {},
   "outputs": [],
   "source": [
    "cv_scores = []\n",
    "neighbors = [i for i in range(50,150,10)]\n",
    "for k in neighbors:\n",
    "    knn = KNeighborsClassifier(n_neighbors=k)\n",
    "    scores = cross_val_score(knn, X_train, Y_train, cv=5, scoring='accuracy')\n",
    "    cv_scores.append(scores.mean())"
   ]
  },
  {
   "cell_type": "code",
   "execution_count": 43,
   "metadata": {},
   "outputs": [
    {
     "name": "stdout",
     "output_type": "stream",
     "text": [
      "[0.77951165660291422, 0.77591195605298902, 0.77351215565303888, 0.77071295495323877, 0.76721475435368858, 0.76331510357877597, 0.76231530337882591, 0.76041620292905066, 0.75821580252895071, 0.75671635230408807]\n"
     ]
    }
   ],
   "source": [
    "print(cv_scores)"
   ]
  },
  {
   "cell_type": "code",
   "execution_count": 44,
   "metadata": {},
   "outputs": [
    {
     "data": {
      "text/plain": [
       "<matplotlib.text.Text at 0x7f29cab0b160>"
      ]
     },
     "execution_count": 44,
     "metadata": {},
     "output_type": "execute_result"
    },
    {
     "data": {
      "image/png": "[encoded data removed]",
      "text/plain": [
       "<matplotlib.figure.Figure at 0x7f2ae40a9da0>"
      ]
     },
     "metadata": {},
     "output_type": "display_data"
    }
   ],
   "source": [
    "plt.scatter(neighbors, cv_scores)\n",
    "plt.xlabel('number of neighbors')\n",
    "plt.ylabel('Accuracy')\n",
    "plt.title('knn algorithm prediction accuracy')"
   ]
  },
  {
   "cell_type": "markdown",
   "metadata": {},
   "source": [
    "<p>It seems like our knn algorithm has the best accuracy when k = 50, and the overall accuracy is 10% higher than our svm model. However, there is a serious potential that our knn model might overfit and it might also consider a lot of outliers in the sample. When the number of sample increases, the potential of overfitting decreases, so we pick 100 as our k</p>\n",
    "\n",
    "<p> When using 50 as our k, I found that it could only recognize soybeans in our southern illinois map. This is a typical behavior of overfitting </p>"
   ]
  },
  {
   "cell_type": "code",
   "execution_count": 87,
   "metadata": {},
   "outputs": [
    {
     "data": {
      "text/plain": [
       "KNeighborsClassifier(algorithm='auto', leaf_size=30, metric='minkowski',\n",
       "           metric_params=None, n_jobs=1, n_neighbors=100, p=2,\n",
       "           weights='uniform')"
      ]
     },
     "execution_count": 87,
     "metadata": {},
     "output_type": "execute_result"
    }
   ],
   "source": [
    "knn_model = KNeighborsClassifier(n_neighbors=100)\n",
    "knn_model.fit(X_train, Y_train)"
   ]
  },
  {
   "cell_type": "markdown",
   "metadata": {},
   "source": [
    "<p> Then we can try larger dataset for knn because it trains really fast </p>"
   ]
  },
  {
   "cell_type": "code",
   "execution_count": 78,
   "metadata": {},
   "outputs": [
    {
     "data": {
      "text/plain": [
       "SVC(C=1.0, cache_size=200, class_weight=None, coef0=0.0,\n",
       "  decision_function_shape='ovo', degree=3, gamma='auto', kernel='rbf',\n",
       "  max_iter=-1, probability=False, random_state=None, shrinking=True,\n",
       "  tol=0.001, verbose=False)"
      ]
     },
     "execution_count": 78,
     "metadata": {},
     "output_type": "execute_result"
    }
   ],
   "source": [
    "svm_model = svm.SVC(decision_function_shape = 'ovo')\n",
    "svm_model.fit(X_train, Y_train)"
   ]
  },
  {
   "cell_type": "code",
   "execution_count": 12,
   "metadata": {
    "collapsed": true
   },
   "outputs": [],
   "source": [
    "sample = np.random.choice(population,1000000, False)\n",
    "sample = sorted(sample)\n",
    "X_train_large = np.take(input_data_flatten, sample, 0)\n",
    "Y_train_large = np.take(label_flatten, sample)"
   ]
  },
  {
   "cell_type": "code",
   "execution_count": 29,
   "metadata": {},
   "outputs": [
    {
     "data": {
      "text/plain": [
       "KNeighborsClassifier(algorithm='ball_tree', leaf_size=30, metric='minkowski',\n",
       "           metric_params=None, n_jobs=1, n_neighbors=1000, p=2,\n",
       "           weights='distance')"
      ]
     },
     "execution_count": 29,
     "metadata": {},
     "output_type": "execute_result"
    }
   ],
   "source": [
    "knn_model2 = KNeighborsClassifier(n_neighbors=1000,weights = 'distance', algorithm = 'ball_tree')\n",
    "knn_model2.fit(X_train_large, Y_train_large)"
   ]
  },
  {
   "cell_type": "markdown",
   "metadata": {},
   "source": [
    "<p> Up to now we have built our there models. a knn-small-sample model, a knn-large-sample model, and a svm-small-sample model </p>\n",
    "<p> The most serious problem of knn is overfitting. Also, it does not have a mathematical calculation of the boundary of different layers. It only uses Euclidean Distance, which is very inaccurate </p>"
   ]
  },
  {
   "cell_type": "markdown",
   "metadata": {},
   "source": [
    "<p>Then we want to use our model to predict the southern part of Illinois. However, the dataset is too large, it may take several years to output the result.</p>\n",
    "<p> Observe that there are a lot of large crop fields in Illinois. We can take the average of the color band values of adjacent areas to compress our Image. </p>\n",
    "<p> However, we don't know how large on average a crop field is. Once we obtain the average size of a corn field, then we can compress our satellite image by that factor </p>\n",
    "<p> We are going to use Depth First Search algorithm to obtain the average size of field of each crop type </p>"
   ]
  },
  {
   "cell_type": "code",
   "execution_count": 267,
   "metadata": {
    "collapsed": true
   },
   "outputs": [],
   "source": [
    "def check_run(input):\n",
    "    index = 0\n",
    "    dict = {}\n",
    "    cur = input[0]\n",
    "    while index < len(input):\n",
    "        count = 0\n",
    "        cur = input[index]\n",
    "        while index < len(input):\n",
    "            if input[index] == cur:\n",
    "                count +=1\n",
    "                index +=1\n",
    "            else:\n",
    "                break\n",
    "        if cur not in dict:\n",
    "            dict[cur] = count\n",
    "        else:\n",
    "            if count > dict[cur]:\n",
    "                dict[cur] = count\n",
    "                \n",
    "\n",
    "    return dict\n",
    "\n",
    "def get_neighbors(pos, shape):\n",
    "    i,j = pos[0] ,pos[1]\n",
    "    if i == 0 and j == 0:\n",
    "        return [[1,0], [0,1]]\n",
    "    if i == shape[0]-1 and j == shape[1] -1:\n",
    "        return [[i-1,j], [i,j-1]]\n",
    "    \n",
    "    if i == 0 and j == shape[1] -1:\n",
    "        return [[i+1,j], [i, j-1]]\n",
    "    if i == shape[0] -1 and j == 0:\n",
    "        return [[i-1, j], [i, j+1]]\n",
    "    if i == 0:\n",
    "        return [[i+1,j], [i, j+1], [i, j-1]]\n",
    "    if i == shape[0] -1:\n",
    "        return [[i,j], [i, j+1], [i-1, j]]\n",
    "    if j == 0:\n",
    "        return [[i, j+1], [i+1, j], [i-1,j]]\n",
    "    if j == shape[1] -1:\n",
    "        return [[i, j-1], [i-1, j], [i+1, j]]\n",
    "    return [[i+1, j], [i-1, j], [i, j+1], [i, j-1]]\n",
    "\n",
    "\n",
    "\n",
    "def DFS(matrix, pos, visited):\n",
    "    i,j = pos[0],pos[1]\n",
    "    count = 1\n",
    "    stack = []\n",
    "    stack.append((i,j))\n",
    "    visited[i,j] = 1\n",
    "    \n",
    "    while stack != []:\n",
    "        cur_position = stack.pop()\n",
    "        i,j = cur_position[0], cur_position[1]\n",
    "        for k in get_neighbors((i,j), matrix.shape):\n",
    "            if visited[k[0], k[1]] != 1 and matrix[k[0], k[1]] == matrix[i,j]:\n",
    "                stack.append(k)\n",
    "                visited[k[0], k[1]] = 1\n",
    "                count += 1\n",
    "    return count\n"
   ]
  },
  {
   "cell_type": "code",
   "execution_count": 287,
   "metadata": {},
   "outputs": [
    {
     "name": "stdout",
     "output_type": "stream",
     "text": [
      "{1: 2451, 131: 99, 4: 1, 5: 1583, 141: 526, 13: 2, 152: 7, 195: 2, 24: 360, 26: 39, 28: 33, 58: 4, 222: 3, 59: 5, 36: 174, 37: 208, 43: 13, 111: 182, 176: 2899, 241: 1, 254: 1, 121: 5300, 122: 2829, 123: 738, 124: 118, 61: 12, 190: 400}\n",
      "{1: 11469596, 131: 9311, 4: 42, 5: 9266367, 141: 678453, 13: 91, 152: 491, 195: 98, 24: 142908, 26: 2649, 28: 2994, 58: 394, 222: 189, 59: 280, 36: 49169, 37: 22128, 43: 862, 111: 67975, 176: 1289984, 241: 49, 254: 28, 121: 967228, 122: 833936, 123: 103647, 124: 25390, 61: 660, 190: 65081}\n"
     ]
    }
   ],
   "source": [
    "visited = np.array([[0]*5000]*5000)\n",
    "dict_count_areas = {}\n",
    "dict_total_areas = {}\n",
    "for i in range(5000):\n",
    "    for j in range(5000):\n",
    "        if visited[i,j] == 0:\n",
    "            count = DFS(label_array[:5000,:5000], [i,j], visited)\n",
    "            if label_array[i,j] not in dict_count_areas:\n",
    "                dict_count_areas[label_array[i,j]] = 1\n",
    "            else:\n",
    "                dict_count_areas[label_array[i,j]] += 1\n",
    "            \n",
    "            if label_array[i,j] not in dict_total_areas:\n",
    "                dict_total_areas[label_array[i,j]] = count\n",
    "            else:\n",
    "                dict_total_areas[label_array[i,j]] += count\n",
    "\n",
    "print(dict_count_areas)\n",
    "print(dict_total_areas)"
   ]
  },
  {
   "cell_type": "code",
   "execution_count": 288,
   "metadata": {},
   "outputs": [
    {
     "name": "stdout",
     "output_type": "stream",
     "text": [
      "{1: 4679.557731538148, 131: 94.05050505050505, 36: 282.58045977011494, 5: 5853.674668351232, 124: 215.16949152542372, 141: 1289.8346007604562, 176: 444.9755087961366, 24: 396.96666666666664, 121: 182.49584905660376, 122: 294.78119476846945, 123: 140.4430894308943, 28: 90.72727272727273}\n"
     ]
    }
   ],
   "source": [
    "average_areas = {}\n",
    "for i in dict_average_areas:\n",
    "    average_areas[i] = dict_total_areas[i]/dict_count_areas[i]\n",
    "    \n",
    "print(average_areas)"
   ]
  },
  {
   "cell_type": "markdown",
   "metadata": {},
   "source": [
    "<p>It seems like corn fields on average occupies 4680 pixels, which is 117000m2 on the map. Soy bean fields occupy 5853 pixels, which is 146325m2 on the map. Then we choose our factor to be 400 pixels, which is about 1/12 of the average size of corn fields to prune our image. Our prediction accuracy will not suffer a lot from this pruning</p>\n",
    "\n",
    "<p> The tricky part is that we can divide the whole satellite image into grids, and pick one pixel for each grid. Since the average size of corn fields and soy bean fields is large. If a cornfield exists, if its size is 12 grids, it must be picked by at least 9 grids. The worst ratio for an average cornfield is 0.75, which means that our prediction will at least covers 75% of the area of a cornfield. \n",
    "This ratio is even better for soybeans. So, there is a possibility that we predict more soybeans than actual. </p>"
   ]
  },
  {
   "cell_type": "code",
   "execution_count": 16,
   "metadata": {
    "collapsed": true
   },
   "outputs": [],
   "source": [
    "#start predicting\n",
    "\n",
    "tif3 = gdal.Open('20130824_RE3_3A_Analytic_Champaign_south.tif')\n",
    "band_1 = (tif3.GetRasterBand(1)).ReadAsArray()\n",
    "band_2 = (tif3.GetRasterBand(2)).ReadAsArray()\n",
    "band_3 = (tif3.GetRasterBand(3)).ReadAsArray()\n",
    "band_4 = (tif3.GetRasterBand(4)).ReadAsArray()\n",
    "band_5 = (tif3.GetRasterBand(5)).ReadAsArray()"
   ]
  },
  {
   "cell_type": "code",
   "execution_count": 17,
   "metadata": {
    "collapsed": true
   },
   "outputs": [],
   "source": [
    "band_1 = band_1/np.max(band_1)\n",
    "band_2 = band_2/np.max(band_2)\n",
    "band_3 = band_3/np.max(band_3)\n",
    "band_4 = band_4/np.max(band_4)\n",
    "band_5 = band_5/np.max(band_5)\n"
   ]
  },
  {
   "cell_type": "code",
   "execution_count": 18,
   "metadata": {},
   "outputs": [
    {
     "name": "stdout",
     "output_type": "stream",
     "text": [
      "297 471\n"
     ]
    }
   ],
   "source": [
    "#constructing grids\n",
    "\n",
    "print(5959//20, 9425//20)\n",
    "compressed_data = np.zeros((5959//20,9425//20,5))\n",
    "for i in range(5959//20):\n",
    "    for j in range(9425//20):\n",
    "        compressed_data[i,j,0] = band_1[20*i, 20*j]\n",
    "        compressed_data[i,j,1] = band_2[20*i, 20*j]\n",
    "        compressed_data[i,j,2] = band_3[20*i, 20*j]\n",
    "        compressed_data[i,j,3] = band_4[20*i, 20*j]\n",
    "        compressed_data[i,j,4] = band_5[20*i, 20*j]\n",
    "            "
   ]
  },
  {
   "cell_type": "code",
   "execution_count": 338,
   "metadata": {
    "collapsed": true
   },
   "outputs": [],
   "source": [
    "flatten1 = band_1.flatten()\n",
    "flatten2 = band_2.flatten()\n",
    "flatten3 = band_3.flatten()\n",
    "flatten4 = band_4.flatten()\n",
    "flatten5 = band_5.flatten()"
   ]
  },
  {
   "cell_type": "code",
   "execution_count": 19,
   "metadata": {
    "collapsed": true
   },
   "outputs": [],
   "source": [
    "#reshape data to fit in our model\n",
    "compressed_data_flatten = compressed_data.reshape(((5959//20)*(9425//20)),5)"
   ]
  },
  {
   "cell_type": "code",
   "execution_count": 49,
   "metadata": {
    "collapsed": true
   },
   "outputs": [],
   "source": [
    "#first we use knn to predict\n",
    "prediction_south = knn_model.predict(compressed_data_flatten)"
   ]
  },
  {
   "cell_type": "code",
   "execution_count": 99,
   "metadata": {},
   "outputs": [
    {
     "data": {
      "text/plain": [
       "(array([ 10267.,      0.,      0.,      0.,      0.,  37357.,      0.,\n",
       "             0.,      0.,  92263.]),\n",
       " array([ 1. ,  1.4,  1.8,  2.2,  2.6,  3. ,  3.4,  3.8,  4.2,  4.6,  5. ]),\n",
       " <a list of 10 Patch objects>)"
      ]
     },
     "execution_count": 99,
     "metadata": {},
     "output_type": "execute_result"
    },
    {
     "data": {
      "image/png": "[encoded data removed]",
      "text/plain": [
       "<matplotlib.figure.Figure at 0x7f2ae362d080>"
      ]
     },
     "metadata": {},
     "output_type": "display_data"
    }
   ],
   "source": [
    "plt.hist(prediction_south)"
   ]
  },
  {
   "cell_type": "markdown",
   "metadata": {},
   "source": [
    "<p>The histogram shows that We have a lot of soybeans in southern illinois, the number of soybeans is 9 times the number of corns. We have mentioned that knn has several problems before.\n",
    "Also, our cross validation only shows 75% accuracy. This is still reasonable</p>"
   ]
  },
  {
   "cell_type": "code",
   "execution_count": 79,
   "metadata": {},
   "outputs": [],
   "source": [
    "prediction_south2 = svm_model.predict(compressed_data_flatten)"
   ]
  },
  {
   "cell_type": "code",
   "execution_count": 80,
   "metadata": {},
   "outputs": [
    {
     "data": {
      "text/plain": [
       "array([69957, 12421, 57509])"
      ]
     },
     "execution_count": 80,
     "metadata": {},
     "output_type": "execute_result"
    }
   ],
   "source": [
    "unique2,count2 = np.unique(prediction_south2, return_counts = True)\n",
    "count2"
   ]
  },
  {
   "cell_type": "code",
   "execution_count": 81,
   "metadata": {},
   "outputs": [
    {
     "data": {
      "text/plain": [
       "(array([ 69957.,      0.,      0.,      0.,      0.,  12421.,      0.,\n",
       "             0.,      0.,  57509.]),\n",
       " array([ 1. ,  1.4,  1.8,  2.2,  2.6,  3. ,  3.4,  3.8,  4.2,  4.6,  5. ]),\n",
       " <a list of 10 Patch objects>)"
      ]
     },
     "execution_count": 81,
     "metadata": {},
     "output_type": "execute_result"
    },
    {
     "data": {
      "image/png": "[encoded data removed]",
      "text/plain": [
       "<matplotlib.figure.Figure at 0x7f2ae36a1278>"
      ]
     },
     "metadata": {},
     "output_type": "display_data"
    }
   ],
   "source": [
    "plt.hist(prediction_south2)"
   ]
  },
  {
   "cell_type": "markdown",
   "metadata": {},
   "source": [
    "<p>svm model seems to have a good gauge of the different crop types in southern illinois. It agrees with our common sense </p>\n",
    "<p> Our large sample knn fails. It only output one type of crop. The reason might be that it overfits in large sample </p>\n",
    "\n",
    "<p> Then we plot our two predictions in yellow (for corn), green (for soybeans) and black (for others) </p>"
   ]
  },
  {
   "cell_type": "code",
   "execution_count": 94,
   "metadata": {
    "collapsed": true
   },
   "outputs": [],
   "source": [
    "prediction2 = prediction_south2.reshape((5959//20),(9425//20))\n",
    "prediction = prediction_south.reshape((5959//20),(9425//20))"
   ]
  },
  {
   "cell_type": "code",
   "execution_count": 83,
   "metadata": {
    "collapsed": true
   },
   "outputs": [],
   "source": [
    "from PIL import Image\n",
    "dict = {1: [0.0,255.0,255.0],5: [0.0,255.0,0.0],3: [0.0,0.0,0.0]}"
   ]
  },
  {
   "cell_type": "code",
   "execution_count": 95,
   "metadata": {
    "collapsed": true
   },
   "outputs": [],
   "source": [
    "img = np.zeros((5929,9425,3))\n",
    "img2 = np.zeros((5929,9425,3))"
   ]
  },
  {
   "cell_type": "code",
   "execution_count": 85,
   "metadata": {
    "collapsed": true
   },
   "outputs": [],
   "source": [
    "for i in range(5959//20):\n",
    "    for j in range(9425//20):\n",
    "        if 20*i+20 < 5928 and 20*j+20 < 9424:\n",
    "            img[20*i:20*i+20, 20*j:20*j+20] = dict[prediction2[i,j]]\n",
    "        else:\n",
    "            img[20*i:,20*j:] = dict[prediction2[i,j]]"
   ]
  },
  {
   "cell_type": "code",
   "execution_count": 86,
   "metadata": {},
   "outputs": [
    {
     "data": {
      "text/plain": [
       "True"
      ]
     },
     "execution_count": 86,
     "metadata": {},
     "output_type": "execute_result"
    }
   ],
   "source": [
    "import cv2\n",
    "cv2.imwrite('prediction_svm_rbf.png', img)"
   ]
  },
  {
   "cell_type": "code",
   "execution_count": 96,
   "metadata": {},
   "outputs": [],
   "source": [
    "for i in range(5959//20):\n",
    "    for j in range(9425//20):\n",
    "        if 20*i+20 < 5928 and 20*j+20 < 9424:\n",
    "            img2[20*i:20*i+20, 20*j:20*j+20] = dict[prediction[i,j]]\n",
    "        else:\n",
    "            img2[20*i:,20*j:] = dict[prediction[i,j]]"
   ]
  },
  {
   "cell_type": "code",
   "execution_count": 97,
   "metadata": {},
   "outputs": [
    {
     "data": {
      "text/plain": [
       "True"
      ]
     },
     "execution_count": 97,
     "metadata": {},
     "output_type": "execute_result"
    }
   ],
   "source": [
    "cv2.imwrite('prediction_knn_100.png', img2)"
   ]
  }
 ],
 "metadata": {
  "kernelspec": {
   "display_name": "Python 3",
   "language": "python",
   "name": "python3"
  },
  "language_info": {
   "codemirror_mode": {
    "name": "ipython",
    "version": 3
   },
   "file_extension": ".py",
   "mimetype": "text/x-python",
   "name": "python",
   "nbconvert_exporter": "python",
   "pygments_lexer": "ipython3",
   "version": "3.5.2"
  }
 },
 "nbformat": 4,
 "nbformat_minor": 2
}
