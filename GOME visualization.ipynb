{
 "cells": [
  {
   "cell_type": "code",
   "execution_count": 1,
   "metadata": {
    "scrolled": false
   },
   "outputs": [
    {
     "name": "stderr",
     "output_type": "stream",
     "text": [
      "C:\\Users\\Bowen\\Anaconda3\\lib\\site-packages\\statsmodels\\compat\\pandas.py:56: FutureWarning: The pandas.core.datetools module is deprecated and will be removed in a future version. Please use the pandas.tseries module instead.\n",
      "  from pandas.core import datetools\n"
     ]
    }
   ],
   "source": [
    "from app import main\n",
    "from app import sliding_window"
   ]
  },
  {
   "cell_type": "code",
   "execution_count": 6,
   "metadata": {},
   "outputs": [
    {
     "name": "stdout",
     "output_type": "stream",
     "text": [
      "preprocessing cdl\n",
      "preprocessing par\n"
     ]
    },
    {
     "name": "stderr",
     "output_type": "stream",
     "text": [
      "C:\\Users\\Bowen\\Desktop\\work\\Satellite_Big_Data_Scripts\\Par_util.py:16: UserWarning: WARNING: valid_min not used since it\n",
      "cannot be safely cast to variable data type\n",
      "  data[var] = ds[var][:]\n",
      "C:\\Users\\Bowen\\Desktop\\work\\Satellite_Big_Data_Scripts\\Par_util.py:16: UserWarning: WARNING: valid_max not used since it\n",
      "cannot be safely cast to variable data type\n",
      "  data[var] = ds[var][:]\n"
     ]
    },
    {
     "name": "stdout",
     "output_type": "stream",
     "text": [
      "processing gome\n",
      "2016-07-02\n",
      "building gome input matrix\n",
      "y []\n",
      "processing gome\n",
      "2016-07-03\n",
      "building gome input matrix\n",
      "y []\n",
      "processing gome\n",
      "2016-07-04\n",
      "building gome input matrix\n",
      "y []\n",
      "processing gome\n",
      "2016-07-05\n",
      "building gome input matrix\n",
      "y []\n",
      "processing gome\n",
      "2016-07-06\n",
      "building gome input matrix\n",
      "y []\n",
      "processing gome\n",
      "2016-07-07\n",
      "building gome input matrix\n",
      "y []\n",
      "newfp 193\n",
      "processing gome\n",
      "2016-07-08\n",
      "building gome input matrix\n",
      "y [ 0.95701706]\n",
      "POINT (-88.82595147102474 40.69521603618266)\n"
     ]
    },
    {
     "name": "stderr",
     "output_type": "stream",
     "text": [
      "C:\\Users\\Bowen\\Desktop\\work\\Satellite_Big_Data_Scripts\\fpar_workflow.py:56: FutureWarning: comparison to `None` will result in an elementwise object comparison in the future.\n",
      "  assert self.cdl_matrix != None and self.fpar_vals != None\n"
     ]
    },
    {
     "name": "stdout",
     "output_type": "stream",
     "text": [
      "processing gome\n",
      "2016-07-09\n",
      "building gome input matrix\n",
      "y [ 1.73431253  0.75167149  1.33324409  1.63160503]\n",
      "POINT (-88.82489739278839 40.99921941764752)\n",
      "POINT (-88.93371551266694 40.88913492000997)\n",
      "POINT (-88.93336775110033 40.64922956097025)\n",
      "processing gome\n",
      "2016-07-10\n",
      "building gome input matrix\n",
      "y []\n",
      "processing gome\n",
      "2016-07-11\n",
      "building gome input matrix\n",
      "y []\n",
      "processing gome\n",
      "2016-07-12\n",
      "building gome input matrix\n",
      "y []\n",
      "processing gome\n",
      "processing gome\n",
      "2016-07-14\n",
      "building gome input matrix\n",
      "y [ 1.48115277]\n",
      "POINT (-88.96873728975982 40.80633936466756)\n",
      "processing gome\n",
      "2016-07-15\n",
      "building gome input matrix\n",
      "y []\n",
      "newfp 201\n",
      "processing gome\n",
      "2016-07-16\n",
      "building gome input matrix\n",
      "y []\n",
      "processing gome\n",
      "2016-07-17\n",
      "building gome input matrix\n",
      "y []\n",
      "processing gome\n",
      "2016-07-18\n",
      "building gome input matrix\n",
      "y []\n",
      "processing gome\n",
      "2016-07-19\n",
      "building gome input matrix\n",
      "y [ 1.4653126   1.30700839  0.81231964]\n",
      "POINT (-89.00990044968525 40.94834096870688)\n",
      "POINT (-88.81158142365302 40.84428769417332)\n",
      "POINT (-89.11110480375271 40.59826519644227)\n",
      "processing gome\n",
      "2016-07-20\n",
      "building gome input matrix\n",
      "y []\n",
      "processing gome\n",
      "2016-07-21\n",
      "building gome input matrix\n",
      "y []\n",
      "processing gome\n",
      "2016-07-22\n",
      "building gome input matrix\n",
      "y []\n",
      "processing gome\n",
      "2016-07-23\n",
      "building gome input matrix\n",
      "y [ 1.27501965]\n",
      "POINT (-89.04380574399933 40.89851966087717)\n",
      "newfp 209\n",
      "processing gome\n",
      "2016-07-24\n",
      "building gome input matrix\n",
      "y [ 1.39065945]\n",
      "POINT (-88.69902324206184 40.66184075939348)\n",
      "processing gome\n",
      "2016-07-25\n",
      "building gome input matrix\n",
      "y []\n",
      "processing gome\n",
      "2016-07-26\n",
      "building gome input matrix\n",
      "y []\n",
      "processing gome\n",
      "2016-07-27\n",
      "building gome input matrix\n",
      "y [ 1.19929445  0.5629521 ]\n",
      "POINT (-88.94137196943743 41.03170486128302)\n",
      "POINT (-89.08588096114843 40.68707756653376)\n",
      "processing gome\n",
      "2016-07-28\n",
      "building gome input matrix\n",
      "y [ 1.13838685  1.00480855  1.18302929  0.95302474  1.27204335  1.26536715\n",
      "  0.73536402  0.67149365  1.00556624  1.50814795  1.2482065   1.24452734\n",
      "  1.09884977  1.28864336  1.19873095  1.40784383  1.55028272  1.20625532\n",
      "  1.69383216  1.55492568  1.09874928  1.05304134  1.02342105  1.35014296\n",
      "  1.50846326  1.25489712  1.11155701  0.88764518  1.19265437  1.17361832\n",
      "  1.51270783  1.35740638  1.13621414  1.01865029  1.13239574  1.35570705\n",
      "  1.13601398  1.33815026  1.35208726  1.4991312   1.59629774  1.65572262\n",
      "  0.74814391  1.65237498  0.96858329  0.94745886  1.38079119  1.28053939]\n",
      "POINT (-88.83979329893711 41.04928848077482)\n",
      "POINT (-88.84351242111045 41.03838972205403)\n",
      "POINT (-88.8472317576138 41.02748924808399)\n",
      "POINT (-88.85003679786598 41.016413356335)\n",
      "POINT (-88.8537578635212 41.00551343300541)\n",
      "POINT (-88.85838594258881 40.99478975937855)\n",
      "POINT (-88.86210146820784 40.98388928467785)\n",
      "POINT (-88.86581719875525 40.97298709921768)\n",
      "POINT (-88.86952847961886 40.96208814336266)\n",
      "POINT (-88.8732442176974 40.95118595646459)\n",
      "POINT (-88.87695571134661 40.94028719712105)\n",
      "POINT (-88.88066702421411 40.92938226293998)\n",
      "POINT (-88.88437551455834 40.91848456228255)\n",
      "POINT (-88.88808341557777 40.90758406342044)\n",
      "POINT (-88.89179129938294 40.89668170553955)\n",
      "POINT (-88.89549898737128 40.88578292085032)\n",
      "POINT (-88.89922197863552 40.87484477989633)\n",
      "POINT (-88.90292627786023 40.86394257597107)\n",
      "POINT (-88.90663057693257 40.85304037213962)\n",
      "POINT (-88.91033407726998 40.84213524404506)\n",
      "POINT (-88.91403837606154 40.83123303947243)\n",
      "POINT (-88.91773553059669 40.82033958802938)\n",
      "POINT (-88.92143889563835 40.80943017991601)\n",
      "POINT (-88.92513547531706 40.79853207944173)\n",
      "POINT (-88.92882044887612 40.78766124840509)\n",
      "POINT (-88.93251668481933 40.77676058173024)\n",
      "POINT (-88.9362131329796 40.76585819827213)\n",
      "POINT (-88.93899938810856 40.75478038301713)\n",
      "POINT (-88.94178658731158 40.74370297210852)\n",
      "POINT (-88.94548324648568 40.73280078744257)\n",
      "POINT (-88.94917548714514 40.72189392853002)\n",
      "POINT (-88.95377531709119 40.71116992646664)\n",
      "POINT (-88.95837273908229 40.70044393098036)\n",
      "POINT (-88.96206195409654 40.68954603093015)\n",
      "POINT (-88.96575037552459 40.67863916985319)\n",
      "POINT (-88.96943919434072 40.66773488071497)\n",
      "POINT (-88.97312822322844 40.65683078702425)\n",
      "POINT (-88.97681340543123 40.64593271641152)\n",
      "POINT (-88.98049802018436 40.63502392156025)\n",
      "POINT (-88.98418322583281 40.62412176145828)\n",
      "POINT (-88.98786481334881 40.61322195598329)\n",
      "POINT (-88.99154921668527 40.60231487141848)\n",
      "POINT (-88.99432403145533 40.59123514068013)\n",
      "POINT (-88.9980032358509 40.58033594501865)\n",
      "POINT (-89.00168236359481 40.56942833358978)\n",
      "POINT (-89.00445837572597 40.55834316634168)\n",
      "POINT (-89.00813614561247 40.54744336592257)\n",
      "POINT (-89.01181291462343 40.53653630047978)\n",
      "processing gome\n",
      "2016-07-29\n",
      "building gome input matrix\n",
      "y []\n",
      "processing gome\n",
      "2016-07-30\n",
      "building gome input matrix\n",
      "y []\n",
      "processing gome\n",
      "2016-07-31\n",
      "building gome input matrix\n",
      "y []\n",
      "[[ 17088.17363887  15606.43933303   1426.79067825    915.38609337]\n",
      " [ 15855.00889104  14663.03262391   1568.87659008   1252.12389658]\n",
      " [ 14289.32061513  12477.66630633   1024.75297668    505.48034516]\n",
      " [ 13109.29376343  11587.0837993    1646.09150974   1702.22258847]\n",
      " [ 10624.72721145  10480.68900997   2271.39577992   1970.07727203]\n",
      " [ 16074.53448953  14062.16511014   1140.49301382    578.8765111 ]\n",
      " [ 16033.28247488  15186.46511255   1168.72517861    581.01162422]\n",
      " [ 16164.75387476  14233.62355603   1405.73454515    969.76839542]\n",
      " [ 13528.58573683  13101.72368565   2289.06795102   2087.10850944]\n",
      " [ 13446.42225325  12783.96252328   1344.98560563   1263.3559719 ]\n",
      " [ 13579.34960959  12642.01985732   1374.42924338   1311.80777322]\n",
      " [ 13628.39997921  12632.45511705   1325.29480043   1265.66640437]\n",
      " [ 13975.55284577  12344.77105513   1273.47150006   1219.23979176]\n",
      " [ 14162.4800863   12143.69992894   1286.92985425   1320.95054306]\n",
      " [ 14065.22889251  12318.84161808   1254.51462256   1257.85746574]\n",
      " [ 14109.67229986  12375.54593084   1188.40479148   1201.03193623]\n",
      " [ 14576.34899529  12369.45133565   1078.46428239    967.01089201]\n",
      " [ 14486.07095718  12938.86070923    980.74968852   1003.22701458]\n",
      " [ 14743.76777397  13361.36142225    953.15491477    921.46232517]\n",
      " [ 15221.66418902  13494.07424079    984.98695578    923.36340287]\n",
      " [ 15478.9191291   13863.5518551     927.5951693     853.42017333]\n",
      " [ 15543.28485115  14290.06277439    806.92426931    760.94725287]\n",
      " [ 15777.84774218  14624.52016173    620.31843106    463.45257037]\n",
      " [ 15715.33276323  14735.04573901    610.53718582    422.04684144]\n",
      " [ 15868.67810874  14784.79380079    525.64357919    369.27189123]\n",
      " [ 16041.72962882  14650.79202204    486.53842062    358.45024501]\n",
      " [ 15981.56034002  14686.73508738    490.10406471    397.04458501]\n",
      " [ 16076.88539244  14414.12602375    541.13142052    483.7340617 ]\n",
      " [ 15807.32915016  14387.19568379    663.22388369    534.93813002]\n",
      " [ 15463.66791992  14272.13564257    810.07900314    806.31108924]\n",
      " [ 15357.9594609   14286.95807127    917.39702201    799.7207012 ]\n",
      " [ 15366.18144224  14275.64671514    912.3443062     816.35945445]\n",
      " [ 15392.4603333   14344.52259252    843.23917971    815.68253776]\n",
      " [ 15429.53479832  14177.67564795    846.61770525    842.09771696]\n",
      " [ 15037.68741703  14178.16046611    944.4946846     856.09086209]\n",
      " [ 14933.95333019  14121.00720692    974.02497854    864.26527425]\n",
      " [ 14771.95726779  14201.19690935    961.65993152    856.28280101]\n",
      " [ 14810.70016278  14031.29636572   1014.84293087    835.29047804]\n",
      " [ 14671.18609605  14065.22513615   1056.92371068    828.54320224]\n",
      " [ 14523.26053947  14060.92013421   1049.89868725    831.20852101]\n",
      " [ 14346.41857349  13773.85776978   1071.71183684    852.22776066]\n",
      " [ 14035.05322812  13487.64542708   1094.66811163    857.82178178]\n",
      " [ 13669.49602472  13158.35789279   1108.014276      855.86444989]\n",
      " [ 13242.314442    12804.06367594   1135.5990715     851.11953173]\n",
      " [ 12551.94512886  12705.01928138   1162.73107672    868.87958718]\n",
      " [ 12114.67908482  12244.01706582   1197.57067739    870.00932438]\n",
      " [ 11873.47874767  11857.34422697   1307.88311148    866.78298884]\n",
      " [ 11593.55318423  11460.14692588   1402.87190397    914.23423918]\n",
      " [ 11040.89914619  11305.05417884   1485.2628546     991.14718635]\n",
      " [ 10960.82754549  10760.46761632   1526.24128744   1004.59078986]\n",
      " [ 10721.64267905  10759.72701219   1543.7292162    1004.00928647]\n",
      " [ 10619.42877392  10610.5076225    1552.56252458    988.37803723]\n",
      " [ 10742.60461724  10314.14133316   1566.26754913    998.75621013]\n",
      " [ 10305.72324143  10137.74525042   1625.36782698    990.2939994 ]\n",
      " [  9903.31352964   9543.74317823   1607.73255551    981.8994557 ]\n",
      " [  9451.11476246   8930.87890252   1566.90522882   1001.43775615]\n",
      " [  8743.96840764   8662.12628327   1592.01849737    980.85235201]] [ 0.95701706  1.48115277  1.4653126   1.30700839  0.81231964  1.27501965\n",
      "  1.39065945  1.19929445  0.5629521   1.13838685  1.00480855  1.18302929\n",
      "  0.95302474  1.27204335  1.26536715  0.73536402  0.67149365  1.00556624\n",
      "  1.50814795  1.2482065   1.24452734  1.09884977  1.28864336  1.19873095\n",
      "  1.40784383  1.55028272  1.20625532  1.69383216  1.55492568  1.09874928\n",
      "  1.05304134  1.02342105  1.35014296  1.50846326  1.25489712  1.11155701\n",
      "  0.88764518  1.19265437  1.17361832  1.51270783  1.35740638  1.13621414\n",
      "  1.01865029  1.13239574  1.35570705  1.13601398  1.33815026  1.35208726\n",
      "  1.4991312   1.59629774  1.65572262  0.74814391  1.65237498  0.96858329\n",
      "  0.94745886  1.38079119  1.28053939]\n",
      "                            OLS Regression Results                            \n",
      "==============================================================================\n",
      "Dep. Variable:                      y   R-squared:                       0.957\n",
      "Model:                            OLS   Adj. R-squared:                  0.953\n",
      "Method:                 Least Squares   F-statistic:                     292.4\n",
      "Date:                Mon, 09 Apr 2018   Prob (F-statistic):           2.00e-35\n",
      "Time:                        19:43:08   Log-Likelihood:                -3.8559\n",
      "No. Observations:                  57   AIC:                             15.71\n",
      "Df Residuals:                      53   BIC:                             23.88\n",
      "Df Model:                           4                                         \n",
      "Covariance Type:            nonrobust                                         \n",
      "==============================================================================\n",
      "                 coef    std err          t      P>|t|      [0.025      0.975]\n",
      "------------------------------------------------------------------------------\n",
      "x1         -9.208e-06   6.86e-05     -0.134      0.894      -0.000       0.000\n",
      "x2          9.594e-05    7.6e-05      1.263      0.212   -5.64e-05       0.000\n",
      "x3             0.0005      0.000      2.965      0.005       0.000       0.001\n",
      "x4            -0.0006      0.000     -2.729      0.009      -0.001      -0.000\n",
      "==============================================================================\n",
      "Omnibus:                        0.263   Durbin-Watson:                   1.673\n",
      "Prob(Omnibus):                  0.877   Jarque-Bera (JB):                0.436\n",
      "Skew:                          -0.120   Prob(JB):                        0.804\n",
      "Kurtosis:                       2.645   Cond. No.                         148.\n",
      "==============================================================================\n",
      "\n",
      "Warnings:\n",
      "[1] Standard Errors assume that the covariance matrix of the errors is correctly specified.\n",
      "                            OLS Regression Results                            \n",
      "==============================================================================\n",
      "Dep. Variable:                      y   R-squared:                       0.212\n",
      "Model:                            OLS   Adj. R-squared:                  0.151\n",
      "Method:                 Least Squares   F-statistic:                     3.487\n",
      "Date:                Mon, 09 Apr 2018   Prob (F-statistic):             0.0135\n",
      "Time:                        19:43:08   Log-Likelihood:                 4.2735\n",
      "No. Observations:                  57   AIC:                             1.453\n",
      "Df Residuals:                      52   BIC:                             11.67\n",
      "Df Model:                           4                                         \n",
      "Covariance Type:            nonrobust                                         \n",
      "==============================================================================\n",
      "                 coef    std err          t      P>|t|      [0.025      0.975]\n",
      "------------------------------------------------------------------------------\n",
      "const          1.8630      0.450      4.143      0.000       0.961       2.765\n",
      "x1         -1.532e-05   6.01e-05     -0.255      0.800      -0.000       0.000\n",
      "x2         -6.169e-06   7.09e-05     -0.087      0.931      -0.000       0.000\n",
      "x3          8.946e-06      0.000      0.044      0.965      -0.000       0.000\n",
      "x4            -0.0004      0.000     -2.077      0.043      -0.001   -1.32e-05\n",
      "==============================================================================\n",
      "Omnibus:                        0.243   Durbin-Watson:                   1.964\n",
      "Prob(Omnibus):                  0.886   Jarque-Bera (JB):                0.434\n",
      "Skew:                          -0.075   Prob(JB):                        0.805\n",
      "Kurtosis:                       2.600   Cond. No.                     2.78e+05\n",
      "==============================================================================\n",
      "\n",
      "Warnings:\n",
      "[1] Standard Errors assume that the covariance matrix of the errors is correctly specified.\n",
      "[2] The condition number is large, 2.78e+05. This might indicate that there are\n",
      "strong multicollinearity or other numerical problems.\n"
     ]
    }
   ],
   "source": [
    "import datetime\n",
    "min_lon = -89.11086962890625-1.6\n",
    "max_lon = -88.69682275390625+1.6\n",
    "min_lat = 40.53067026099156 - 0.7\n",
    "max_lat = 41.05638178482896 + 0.7\n",
    "start_date = datetime.date(2016,7,1)\n",
    "timeperiod = 30\n",
    "\n",
    "x,y = sliding_window(min_lon, max_lon, min_lat, max_lat, start_date, timeperiod)\n"
   ]
  },
  {
   "cell_type": "code",
   "execution_count": null,
   "metadata": {},
   "outputs": [],
   "source": [
    "from sklearn.decomposition import PCA"
   ]
  },
  {
   "cell_type": "code",
   "execution_count": 5,
   "metadata": {},
   "outputs": [
    {
     "data": {
      "text/plain": [
       "40.327146"
      ]
     },
     "execution_count": 5,
     "metadata": {},
     "output_type": "execute_result"
    }
   ],
   "source": [
    "\n",
    "from CDL_utils import *\n",
    "cd = cdl_utils()\n",
    "cd.min_lat\n"
   ]
  },
  {
   "cell_type": "code",
   "execution_count": null,
   "metadata": {},
   "outputs": [],
   "source": [
    "pca = PCA(n_components=3, svd_solver='full')\n",
    "import numpy as np"
   ]
  },
  {
   "cell_type": "code",
   "execution_count": null,
   "metadata": {
    "collapsed": true
   },
   "outputs": [],
   "source": [
    "pca.fit(X/np.max(X))"
   ]
  },
  {
   "cell_type": "code",
   "execution_count": null,
   "metadata": {
    "collapsed": true
   },
   "outputs": [],
   "source": [
    "print(pca.explained_variance_ratio_)\n",
    "print(pca.singular_values_)"
   ]
  },
  {
   "cell_type": "code",
   "execution_count": null,
   "metadata": {
    "collapsed": true
   },
   "outputs": [],
   "source": [
    "pca.get_covariance()"
   ]
  },
  {
   "cell_type": "code",
   "execution_count": null,
   "metadata": {
    "collapsed": true
   },
   "outputs": [],
   "source": [
    "pca.explained_variance_[0]"
   ]
  },
  {
   "cell_type": "code",
   "execution_count": null,
   "metadata": {
    "collapsed": true
   },
   "outputs": [],
   "source": [
    "pca.components_"
   ]
  },
  {
   "cell_type": "code",
   "execution_count": null,
   "metadata": {},
   "outputs": [],
   "source": [
    "X2 = pca.transform(X)"
   ]
  },
  {
   "cell_type": "code",
   "execution_count": 2,
   "metadata": {},
   "outputs": [],
   "source": [
    "from gome_work_flow import *\n",
    "cd = cdl_utils()\n",
    "gome = GNOME_utils(cd)\n",
    "g = Gome_workflow()\n"
   ]
  },
  {
   "cell_type": "code",
   "execution_count": 3,
   "metadata": {},
   "outputs": [],
   "source": [
    "from datetime import date, timedelta\n",
    "date_ = date(2016, 5,1)\n",
    "prefix = 'E:\\\\SIF data\\\\GOME_2016\\\\GOME_2016\\\\'\n",
    "gome_path = convertGOMEDate(date_, prefix)"
   ]
  },
  {
   "cell_type": "code",
   "execution_count": 4,
   "metadata": {},
   "outputs": [
    {
     "data": {
      "text/plain": [
       "array([-105. , -104.5, -104. , -103.5, -103. , -102.5, -102. , -101.5,\n",
       "       -101. , -100.5, -100. ,  -99.5,  -99. ,  -98.5,  -98. ,  -97.5,\n",
       "        -97. ,  -96.5,  -96. ,  -95.5,  -95. ,  -94.5,  -94. ,  -93.5,\n",
       "        -93. ,  -92.5,  -92. ,  -91.5,  -91. ,  -90.5,  -90. ,  -89.5,\n",
       "        -89. ,  -88.5,  -88. ,  -87.5,  -87. ,  -86.5,  -86. ,  -85.5,\n",
       "        -85. ,  -84.5,  -84. ,  -83.5,  -83. ,  -82.5,  -82. ,  -81.5,\n",
       "        -81. ,  -80.5])"
      ]
     },
     "execution_count": 4,
     "metadata": {},
     "output_type": "execute_result"
    }
   ],
   "source": [
    "lon_belt = np.arange(-105, -80, 0.5)\n",
    "lat_belt = np.arange(35, 50, 0.5)\n",
    "\n",
    "lon_belt"
   ]
  },
  {
   "cell_type": "code",
   "execution_count": 6,
   "metadata": {},
   "outputs": [],
   "source": [
    "from mpl_toolkits.basemap import Basemap, cm\n",
    "from numpy import meshgrid"
   ]
  },
  {
   "cell_type": "code",
   "execution_count": 7,
   "metadata": {},
   "outputs": [
    {
     "name": "stdout",
     "output_type": "stream",
     "text": [
      "[[110 110 110 ..., 110 110 110]\n",
      " [110 110 110 ..., 110 110 110]\n",
      " [110 110 110 ..., 110 110 110]\n",
      " ..., \n",
      " [  3   4   5 ...,  50  51  52]\n",
      " [  2   3   4 ...,  49  50  51]\n",
      " [  1   2   3 ...,  48  49  50]]\n"
     ]
    },
    {
     "name": "stderr",
     "output_type": "stream",
     "text": [
      "C:\\Users\\Bowen\\Anaconda3\\lib\\site-packages\\mpl_toolkits\\basemap\\__init__.py:3683: MatplotlibDeprecationWarning: The ishold function was deprecated in version 2.0.\n",
      "  b = ax.ishold()\n",
      "C:\\Users\\Bowen\\Anaconda3\\lib\\site-packages\\mpl_toolkits\\basemap\\__init__.py:3719: VisibleDeprecationWarning: using a non-integer number instead of an integer will result in an error in the future\n",
      "  xx = x[x.shape[0]/2,:]\n",
      "C:\\Users\\Bowen\\Anaconda3\\lib\\site-packages\\mpl_toolkits\\basemap\\__init__.py:3752: MatplotlibDeprecationWarning: axes.hold is deprecated.\n",
      "    See the API Changes document (http://matplotlib.org/api/api_changes.html)\n",
      "    for more details.\n",
      "  ax.hold(b)\n"
     ]
    },
    {
     "data": {
      "image/png": "[encoded data removed]",
      "text/plain": [
       "<matplotlib.figure.Figure at 0xe551dada58>"
      ]
     },
     "metadata": {},
     "output_type": "display_data"
    }
   ],
   "source": [
    "plt.figure(figsize=(10,10))\n",
    "map = Basemap(llcrnrlon=-105,llcrnrlat=35,urcrnrlon=-80.,urcrnrlat=50.)\n",
    "map.drawcoastlines()\n",
    "map.drawstates()\n",
    "\n",
    "# print(map.llcrnrx)\n",
    "xx, yy = map.makegrid(50,80)\n",
    "\n",
    "data = np.array([np.arange(50) - i + 80 for i in range(80)])\n",
    "data[0:4, :] = 110\n",
    "print(data)\n",
    "clevs = np.arange(130)\n",
    "map.contourf(xx,yy,data,clevs)\n",
    "cbar = map.colorbar(location='bottom',pad=\"5%\")\n",
    "cbar.set_label('frequency')\n",
    "plt.show()"
   ]
  },
  {
   "cell_type": "code",
   "execution_count": 6,
   "metadata": {
    "collapsed": true
   },
   "outputs": [
    {
     "data": {
      "text/plain": [
       "3"
      ]
     },
     "execution_count": 6,
     "metadata": {},
     "output_type": "execute_result"
    }
   ],
   "source": [
    "round(3.1)"
   ]
  },
  {
   "cell_type": "code",
   "execution_count": 9,
   "metadata": {
    "scrolled": false
   },
   "outputs": [
    {
     "data": {
      "image/png": "[encoded data removed]",
      "text/plain": [
       "<matplotlib.figure.Figure at 0xe54fe01780>"
      ]
     },
     "metadata": {},
     "output_type": "display_data"
    },
    {
     "data": {
      "text/plain": [
       "<matplotlib.figure.Figure at 0xe552108f60>"
      ]
     },
     "metadata": {},
     "output_type": "display_data"
    }
   ],
   "source": [
    "from math import floor\n",
    "import matplotlib.pyplot as plt\n",
    "%matplotlib inline\n",
    "\n",
    "\n",
    "\n",
    "\n",
    "#initialize\n",
    "gome.min_lon, gome.max_lon, gome.min_lat, gome.max_lat = -105, -78, 35, 50\n",
    "prefix = 'E:\\\\SIF data\\\\GOME_2016\\\\GOME_2016\\\\'\n",
    "date_ = date(2016, 7,1)\n",
    "map = Basemap(llcrnrlon=-105,llcrnrlat=35,urcrnrlon=-80.,urcrnrlat=50.)\n",
    "days = (date(2016, 7, 11) - date_).days\n",
    "\n",
    "clevs = np.arange(240)/4\n",
    "lon_belt = np.arange(-105, -80, 0.5)\n",
    "lat_belt = np.arange(35, 50, 0.5)\n",
    "xx, yy = map.makegrid(len(lon_belt),len(lat_belt))\n",
    "\n",
    "\n",
    "    \n",
    "\n",
    "\n",
    "\n",
    "#testing gome \n",
    "\n",
    "p = convertGOMEDate(date_, prefix)\n",
    "gome.load_gnome(p, date_)\n",
    "plt.scatter(gome.lons, gome.lats)\n",
    "plt.figure()\n",
    "\n",
    "\n",
    "\n",
    "\n",
    "\n",
    "def baseplot(lat_belt, lon_belt, window_size, prefix, gome):\n",
    "    \n",
    "    \n",
    "    \"\"\"\n",
    "    date_ is the starting date\n",
    "    days are the number of days in the sliding window workflow\n",
    "    lat belt is the latitude array\n",
    "    lon belt is the longitude array\n",
    "    window size is the size of the sliding window\n",
    "    prefix for the prefix of gome path\n",
    "    gome is a gome_utils object \n",
    "    \n",
    "    plot the footprint coverage of GOME or (OCO2)\n",
    "    \n",
    "    \"\"\"\n",
    "    \n",
    "    #initialize\n",
    "    gome.min_lon, gome.max_lon, gome.min_lat, gome.max_lat = -105, -78, 35, 50\n",
    "    prefix = 'E:\\\\SIF data\\\\GOME_2016\\\\GOME_2016\\\\'\n",
    "    date_ = date(2016, 6,15)\n",
    "    map = Basemap(llcrnrlon= min(lon_belt),llcrnrlat= min(lat_belt), urcrnrlon= max(lon_belt),urcrnrlat= max(lat_belt))\n",
    "    days = (date(2016, 7, 1) - date_).days\n",
    "\n",
    "#     clevs = np.arange(240)/4\n",
    "    xx, yy = map.makegrid(len(lon_belt),len(lat_belt))\n",
    "    \n",
    "    #workflow\n",
    "    for l in range(days//10):\n",
    "        print('new 10 days window')\n",
    "        footprint_mat = np.zeros((len(lat_belt), len(lon_belt)))\n",
    "        for k in range(window_size):\n",
    "            try:\n",
    "                new_date = date_ + timedelta(l*10 + k)\n",
    "                print('newdate', new_date)\n",
    "                gome_path = convertGOMEDate(new_date, prefix)\n",
    "                gome.load_gnome(gome_path, new_date)\n",
    "                for lon,lat in zip(gome.lons, gome.lats):\n",
    "\n",
    "                    lon_integer, lat_integer, lon_round, lat_round = floor(lon), floor(lat), round(lon), round(lat)\n",
    "\n",
    "                    lon_index = int((lon_integer - min(lon_belt))*2 + lon_round - lon_integer)\n",
    "                    lat_index = int((lat_integer - min(lat_belt))*2 + lat_round - lat_integer)\n",
    "\n",
    "                    if lat_index < 0 or lat_index >= footprint_mat.shape[0] or lon_index < 0 or lon_index >= footprint_mat.shape[1]:\n",
    "                        continue\n",
    "                    footprint_mat[lat_index, lon_index] += 1\n",
    "            except Exception as e:\n",
    "                print(e)\n",
    "                continue\n",
    "\n",
    "        plt.figure(figsize=(10,10))\n",
    "        map.drawcoastlines()\n",
    "        map.drawstates()\n",
    "        map.contourf(xx, yy, footprint_mat, cmap = cm.GMT_no_green)\n",
    "        cbar = map.colorbar(location='bottom',pad=\"5%\")\n",
    "        cbar.set_label('frequency')\n",
    "        plt.title(str(date_ + timedelta(l*10)) + ' to '+ str(date_ + timedelta(l*10+ window_size - 1)))\n",
    "        plt.savefig(str(date_ + timedelta(l*10)) + ' to '+ str(date_ + timedelta(l*10+ window_size -1)) + 'without_filter.png')"
   ]
  },
  {
   "cell_type": "code",
   "execution_count": 11,
   "metadata": {
    "scrolled": true
   },
   "outputs": [
    {
     "name": "stdout",
     "output_type": "stream",
     "text": [
      "new 10 days window\n",
      "newdate 2016-06-15\n",
      "newdate 2016-06-16\n",
      "newdate 2016-06-17\n",
      "newdate 2016-06-18\n",
      "newdate 2016-06-19\n",
      "newdate 2016-06-20\n",
      "newdate 2016-06-21\n",
      "newdate 2016-06-22\n",
      "newdate 2016-06-23\n",
      "newdate 2016-06-24\n",
      "newdate 2016-06-25\n",
      "newdate 2016-06-26\n",
      "newdate 2016-06-27\n",
      "newdate 2016-06-28\n",
      "newdate 2016-06-29\n"
     ]
    },
    {
     "name": "stderr",
     "output_type": "stream",
     "text": [
      "C:\\Users\\Bowen\\Anaconda3\\lib\\site-packages\\mpl_toolkits\\basemap\\__init__.py:3683: MatplotlibDeprecationWarning: The ishold function was deprecated in version 2.0.\n",
      "  b = ax.ishold()\n",
      "C:\\Users\\Bowen\\Anaconda3\\lib\\site-packages\\mpl_toolkits\\basemap\\__init__.py:3719: VisibleDeprecationWarning: using a non-integer number instead of an integer will result in an error in the future\n",
      "  xx = x[x.shape[0]/2,:]\n",
      "C:\\Users\\Bowen\\Anaconda3\\lib\\site-packages\\mpl_toolkits\\basemap\\__init__.py:3752: MatplotlibDeprecationWarning: axes.hold is deprecated.\n",
      "    See the API Changes document (http://matplotlib.org/api/api_changes.html)\n",
      "    for more details.\n",
      "  ax.hold(b)\n"
     ]
    },
    {
     "data": {
      "image/png": "[encoded data removed]",
      "text/plain": [
       "<matplotlib.figure.Figure at 0xe5520f0e10>"
      ]
     },
     "metadata": {},
     "output_type": "display_data"
    }
   ],
   "source": [
    "gome.min_lon, gome.max_lon, gome.min_lat, gome.max_lat = -105, -78, 35, 50\n",
    "prefix = 'E:\\\\SIF data\\\\GOME_2016\\\\GOME_2016\\\\'\n",
    "lon_belt = np.arange(-100.5, -80, 0.5)\n",
    "lat_belt = np.arange(35.5, 43.5, 0.5)\n",
    "\n",
    "baseplot(lat_belt, lon_belt, 15, prefix, gome)"
   ]
  },
  {
   "cell_type": "code",
   "execution_count": 49,
   "metadata": {},
   "outputs": [],
   "source": [
    "from CDL_utils import *\n",
    "cd = cdl_utils()\n"
   ]
  },
  {
   "cell_type": "code",
   "execution_count": 50,
   "metadata": {},
   "outputs": [
    {
     "data": {
      "text/plain": [
       "(-91.421028, -87.39817, 40.327146, 42.523501)"
      ]
     },
     "execution_count": 50,
     "metadata": {},
     "output_type": "execute_result"
    }
   ],
   "source": [
    "cd.min_lon, cd.max_lon, cd.min_lat, cd.max_lat"
   ]
  },
  {
   "cell_type": "code",
   "execution_count": 2,
   "metadata": {},
   "outputs": [],
   "source": [
    "import re\n",
    "from dbfread import DBF\n",
    "data = DBF('configuration/cdl.dbf')"
   ]
  },
  {
   "cell_type": "code",
   "execution_count": 3,
   "metadata": {},
   "outputs": [],
   "source": [
    "#filter empty cells\n",
    "dataset = []\n",
    "for i in data:\n",
    "    if i['CLASS_NAME'] != '':\n",
    "        dataset.append(i)\n",
    "    "
   ]
  },
  {
   "cell_type": "code",
   "execution_count": 5,
   "metadata": {},
   "outputs": [
    {
     "name": "stdout",
     "output_type": "stream",
     "text": [
      "Background 0\n",
      "Corn 1\n",
      "Cotton 2\n",
      "Rice 3\n",
      "Sorghum 4\n",
      "Soybeans 5\n",
      "Sunflower 6\n",
      "Peanuts 10\n",
      "Tobacco 11\n",
      "Sweet Corn 12\n",
      "Pop or Orn Corn 13\n",
      "Mint 14\n",
      "Barley 21\n",
      "Durum Wheat 22\n",
      "Spring Wheat 23\n",
      "Winter Wheat 24\n",
      "Other Small Grains 25\n",
      "Dbl Crop WinWht/Soybeans 26\n",
      "Rye 27\n",
      "Oats 28\n",
      "Millet 29\n",
      "Speltz 30\n",
      "Canola 31\n",
      "Flaxseed 32\n",
      "Safflower 33\n",
      "Rape Seed 34\n",
      "Mustard 35\n",
      "Alfalfa 36\n",
      "Other Hay/Non Alfalfa 37\n",
      "Camelina 38\n",
      "Buckwheat 39\n",
      "Sugarbeets 41\n",
      "Dry Beans 42\n",
      "Potatoes 43\n",
      "Other Crops 44\n",
      "Sugarcane 45\n",
      "Sweet Potatoes 46\n",
      "Misc Vegs & Fruits 47\n",
      "Watermelons 48\n",
      "Onions 49\n",
      "Cucumbers 50\n",
      "Chick Peas 51\n",
      "Lentils 52\n",
      "Peas 53\n",
      "Tomatoes 54\n",
      "Caneberries 55\n",
      "Hops 56\n",
      "Herbs 57\n",
      "Clover/Wildflowers 58\n",
      "Sod/Grass Seed 59\n",
      "Switchgrass 60\n",
      "Fallow/Idle Cropland 61\n",
      "Forest 63\n",
      "Shrubland 64\n",
      "Barren 65\n",
      "Cherries 66\n",
      "Peaches 67\n",
      "Apples 68\n",
      "Grapes 69\n",
      "Christmas Trees 70\n",
      "Other Tree Crops 71\n",
      "Citrus 72\n",
      "Pecans 74\n",
      "Almonds 75\n",
      "Walnuts 76\n",
      "Pears 77\n",
      "Clouds/No Data 81\n",
      "Developed 82\n",
      "Water 83\n",
      "Wetlands 87\n",
      "Nonag/Undefined 88\n",
      "Aquaculture 92\n",
      "Open Water 111\n",
      "Perennial Ice/Snow 112\n",
      "Developed/Open Space 121\n",
      "Developed/Low Intensity 122\n",
      "Developed/Med Intensity 123\n",
      "Developed/High Intensity 124\n",
      "Barren 131\n",
      "Deciduous Forest 141\n",
      "Evergreen Forest 142\n",
      "Mixed Forest 143\n",
      "Shrubland 152\n",
      "Grass/Pasture 176\n",
      "Woody Wetlands 190\n",
      "Herbaceous Wetlands 195\n",
      "Pistachios 204\n",
      "Triticale 205\n",
      "Carrots 206\n",
      "Asparagus 207\n",
      "Garlic 208\n",
      "Cantaloupes 209\n",
      "Prunes 210\n",
      "Olives 211\n",
      "Oranges 212\n",
      "Honeydew Melons 213\n",
      "Broccoli 214\n",
      "Peppers 216\n",
      "Pomegranates 217\n",
      "Nectarines 218\n",
      "Greens 219\n",
      "Plums 220\n",
      "Strawberries 221\n",
      "Squash 222\n",
      "Apricots 223\n",
      "Vetch 224\n",
      "Dbl Crop WinWht/Corn 225\n",
      "Dbl Crop Oats/Corn 226\n",
      "Lettuce 227\n",
      "Pumpkins 229\n",
      "Dbl Crop Lettuce/Durum Wht 230\n",
      "Dbl Crop Lettuce/Cantaloupe 231\n",
      "Dbl Crop Lettuce/Cotton 232\n",
      "Dbl Crop Lettuce/Barley 233\n",
      "Dbl Crop Durum Wht/Sorghum 234\n",
      "Dbl Crop Barley/Sorghum 235\n",
      "Dbl Crop WinWht/Sorghum 236\n",
      "Dbl Crop Barley/Corn 237\n",
      "Dbl Crop WinWht/Cotton 238\n",
      "Dbl Crop Soybeans/Cotton 239\n",
      "Dbl Crop Soybeans/Oats 240\n",
      "Dbl Crop Corn/Soybeans 241\n",
      "Blueberries 242\n",
      "Cabbage 243\n",
      "Cauliflower 244\n",
      "Celery 245\n",
      "Radishes 246\n",
      "Turnips 247\n",
      "Eggplants 248\n",
      "Gourds 249\n",
      "Cranberries 250\n",
      "Dbl Crop Barley/Soybeans 254\n"
     ]
    }
   ],
   "source": [
    "pattern = re.compile(r'\\bWater\\b|Undefined|Developed|Clouds|Background|Aquaculture')\n",
    "non_empty = set()\n",
    "non_veg = set()\n",
    "forest = set()\n",
    "corns = set()\n",
    "soybeans = set()\n",
    "\n",
    "\n",
    "for i, obj in enumerate(dataset):\n",
    "    print(obj['CLASS_NAME'], obj['VALUE'])\n",
    "#     if obj['CLASS_NAME'] != '':\n",
    "#         non_empty.add(obj['VALUE'])\n",
    "    \n",
    "#     if re.findall(p, obj['CLASS_NAME']) != []:\n",
    "#         print('non_vegetation', obj['CLASS_NAME'], obj['VALUE'])\n",
    "#         non_veg.add(obj['VALUE'])\n",
    "        \n",
    "#     if re.findall(r'forest|Forest', obj['CLASS_NAME']) != []:\n",
    "#         print('forest', obj['CLASS_NAME'], obj['VALUE'])\n",
    "#         forest.add(obj['VALUE'])\n",
    "        \n",
    "#     if re.findall(r'corn|Corn', obj['CLASS_NAME']) != []:\n",
    "#         print('corn', obj['CLASS_NAME'], obj['VALUE'])\n",
    "#         corns.add(obj['VALUE'])\n",
    "        \n",
    "        \n",
    "#     if re.findall(r'soybean|Soybean', obj['CLASS_NAME']) != []:\n",
    "#         print('soybean', obj['CLASS_NAME'], obj['VALUE'])\n",
    "#         soybeans.add(obj['VALUE'])\n",
    "        \n",
    "    \n"
   ]
  },
  {
   "cell_type": "code",
   "execution_count": 20,
   "metadata": {},
   "outputs": [
    {
     "data": {
      "text/plain": [
       "{0, 81, 82, 83, 88, 92, 111, 121, 122, 123, 124}"
      ]
     },
     "execution_count": 20,
     "metadata": {},
     "output_type": "execute_result"
    }
   ],
   "source": [
    "non_veg"
   ]
  },
  {
   "cell_type": "code",
   "execution_count": 14,
   "metadata": {},
   "outputs": [],
   "source": [
    "import numpy as np\n",
    "a = set(np.arange(255))"
   ]
  },
  {
   "cell_type": "code",
   "execution_count": 32,
   "metadata": {},
   "outputs": [],
   "source": [
    "STR = \"AFDSAFDA\\nadfsafds\""
   ]
  },
  {
   "cell_type": "code",
   "execution_count": 33,
   "metadata": {},
   "outputs": [
    {
     "data": {
      "text/plain": [
       "'AFDSAFDA\\nadfsafds'"
      ]
     },
     "execution_count": 33,
     "metadata": {},
     "output_type": "execute_result"
    }
   ],
   "source": [
    "STR"
   ]
  },
  {
   "cell_type": "code",
   "execution_count": 25,
   "metadata": {},
   "outputs": [
    {
     "data": {
      "text/plain": [
       "{63, 141, 142, 143}"
      ]
     },
     "execution_count": 25,
     "metadata": {},
     "output_type": "execute_result"
    }
   ],
   "source": [
    "veg = non_empty - non_veg\n",
    "grass = veg - forest"
   ]
  },
  {
   "cell_type": "code",
   "execution_count": 17,
   "metadata": {},
   "outputs": [
    {
     "name": "stdout",
     "output_type": "stream",
     "text": [
      "preprocessing cdl\n",
      "preprocessing par\n",
      "gome_path 06\\ret_f_nr5_nsvd12_v26_waves734_nolog.20160616_v27_all.nc\n",
      "lons []\n",
      "gome_path 06\\ret_f_nr5_nsvd12_v26_waves734_nolog.20160617_v27_all.nc\n",
      "lons []\n",
      "gome_path 06\\ret_f_nr5_nsvd12_v26_waves734_nolog.20160618_v27_all.nc\n",
      "lons []\n",
      "gome_path 06\\ret_f_nr5_nsvd12_v26_waves734_nolog.20160619_v27_all.nc\n",
      "lons [-88.83974457]\n",
      "gome_path 06\\ret_f_nr5_nsvd12_v26_waves734_nolog.20160620_v27_all.nc\n",
      "lons [-88.73891449 -88.83990479]\n",
      "gome_path 06\\ret_f_nr5_nsvd12_v26_waves734_nolog.20160621_v27_all.nc\n",
      "lons []\n",
      "gome_path 06\\ret_f_nr5_nsvd12_v26_waves734_nolog.20160622_v27_all.nc\n",
      "lons []\n",
      "gome_path 06\\ret_f_nr5_nsvd12_v26_waves734_nolog.20160623_v27_all.nc\n",
      "lons [-88.87243652 -88.95736694 -89.02518463]\n",
      "gome_path 06\\ret_f_nr5_nsvd12_v26_waves734_nolog.20160624_v27_all.nc\n",
      "lons [-88.69863129 -88.82563782]\n",
      "gome_path 06\\ret_f_nr5_nsvd12_v26_waves734_nolog.20160625_v27_all.nc\n",
      "lons [-88.88768768]\n",
      "gome_path 06\\ret_f_nr5_nsvd12_v26_waves734_nolog.20160626_v27_all.nc\n",
      "lons []\n",
      "gome_path 06\\ret_f_nr5_nsvd12_v26_waves734_nolog.20160627_v27_all.nc\n"
     ]
    },
    {
     "name": "stderr",
     "output_type": "stream",
     "text": [
      "C:\\Users\\Bowen\\Desktop\\work\\Satellite_Big_Data_Scripts\\Par_util.py:16: UserWarning: WARNING: valid_min not used since it\n",
      "cannot be safely cast to variable data type\n",
      "  data[var] = ds[var][:]\n",
      "C:\\Users\\Bowen\\Desktop\\work\\Satellite_Big_Data_Scripts\\Par_util.py:16: UserWarning: WARNING: valid_max not used since it\n",
      "cannot be safely cast to variable data type\n",
      "  data[var] = ds[var][:]\n"
     ]
    },
    {
     "name": "stdout",
     "output_type": "stream",
     "text": [
      "lons []\n",
      "gome_path 06\\ret_f_nr5_nsvd12_v26_waves734_nolog.20160628_v27_all.nc\n",
      "lons [-89.01687622]\n",
      "gome_path 06\\ret_f_nr5_nsvd12_v26_waves734_nolog.20160629_v27_all.nc\n",
      "lons []\n",
      "gome_path 06\\ret_f_nr5_nsvd12_v26_waves734_nolog.20160630_v27_all.nc\n",
      "lons [-88.92734528 -89.01634216]\n",
      "gome_path 07\\ret_f_nr5_nsvd12_v26_waves734_nolog.20160701_v27_all.nc\n",
      "lons []\n",
      "gome_path 07\\ret_f_nr5_nsvd12_v26_waves734_nolog.20160702_v27_all.nc\n",
      "lons []\n",
      "gome_path 07\\ret_f_nr5_nsvd12_v26_waves734_nolog.20160703_v27_all.nc\n",
      "lons [-88.8352356]\n",
      "gome_path 07\\ret_f_nr5_nsvd12_v26_waves734_nolog.20160704_v27_all.nc\n",
      "lons [-88.90641785 -89.01990509]\n",
      "gome_path 07\\ret_f_nr5_nsvd12_v26_waves734_nolog.20160705_v27_all.nc\n",
      "lons []\n",
      "gome_path 07\\ret_f_nr5_nsvd12_v26_waves734_nolog.20160706_v27_all.nc\n",
      "lons []\n",
      "gome_path 07\\ret_f_nr5_nsvd12_v26_waves734_nolog.20160707_v27_all.nc\n",
      "lons []\n",
      "gome_path 07\\ret_f_nr5_nsvd12_v26_waves734_nolog.20160708_v27_all.nc\n",
      "lons [-88.90062714 -88.87258148 -89.04003143]\n",
      "gome_path 07\\ret_f_nr5_nsvd12_v26_waves734_nolog.20160709_v27_all.nc\n",
      "lons [-89.06561279 -88.71284485]\n",
      "gome_path 07\\ret_f_nr5_nsvd12_v26_waves734_nolog.20160710_v27_all.nc\n",
      "lons []\n",
      "gome_path 07\\ret_f_nr5_nsvd12_v26_waves734_nolog.20160711_v27_all.nc\n",
      "lons []\n",
      "gome_path 07\\ret_f_nr5_nsvd12_v26_waves734_nolog.20160712_v27_all.nc\n",
      "lons []\n",
      "gome_path 07\\ret_f_nr5_nsvd12_v26_waves734_nolog.20160713_v27_all.nc\n"
     ]
    },
    {
     "ename": "FileNotFoundError",
     "evalue": "[Errno 2] No such file or directory: b'E:\\\\SIF data\\\\GOME_2016\\\\GOME_2016\\\\07\\\\ret_f_nr5_nsvd12_v26_waves734_nolog.20160713_v27_all.nc'",
     "output_type": "error",
     "traceback": [
      "\u001b[1;31m---------------------------------------------------------------------------\u001b[0m",
      "\u001b[1;31mFileNotFoundError\u001b[0m                         Traceback (most recent call last)",
      "\u001b[1;32m<ipython-input-17-592c91f5f40e>\u001b[0m in \u001b[0;36m<module>\u001b[1;34m()\u001b[0m\n\u001b[0;32m     13\u001b[0m \u001b[1;32mfor\u001b[0m \u001b[0mi\u001b[0m \u001b[1;32min\u001b[0m \u001b[0mrange\u001b[0m\u001b[1;33m(\u001b[0m\u001b[1;36m30\u001b[0m\u001b[1;33m)\u001b[0m\u001b[1;33m:\u001b[0m\u001b[1;33m\u001b[0m\u001b[0m\n\u001b[0;32m     14\u001b[0m     \u001b[0mn_date\u001b[0m \u001b[1;33m+=\u001b[0m \u001b[0mtimedelta\u001b[0m\u001b[1;33m(\u001b[0m\u001b[1;36m1\u001b[0m\u001b[1;33m)\u001b[0m\u001b[1;33m\u001b[0m\u001b[0m\n\u001b[1;32m---> 15\u001b[1;33m     \u001b[0mg_flow\u001b[0m\u001b[1;33m.\u001b[0m\u001b[0mprocess_gome\u001b[0m\u001b[1;33m(\u001b[0m\u001b[0mn_date\u001b[0m\u001b[1;33m,\u001b[0m \u001b[0mprefix\u001b[0m\u001b[1;33m,\u001b[0m \u001b[0mmin_lon\u001b[0m\u001b[1;33m,\u001b[0m \u001b[0mmax_lon\u001b[0m\u001b[1;33m,\u001b[0m \u001b[0mmin_lat\u001b[0m\u001b[1;33m,\u001b[0m \u001b[0mmax_lat\u001b[0m\u001b[1;33m)\u001b[0m\u001b[1;33m\u001b[0m\u001b[0m\n\u001b[0m\u001b[0;32m     16\u001b[0m     \u001b[1;32mif\u001b[0m \u001b[0mg_flow\u001b[0m\u001b[1;33m.\u001b[0m\u001b[0mgome\u001b[0m\u001b[1;33m.\u001b[0m\u001b[0mlat_corners\u001b[0m \u001b[1;33m!=\u001b[0m \u001b[1;33m[\u001b[0m\u001b[1;33m]\u001b[0m\u001b[1;33m:\u001b[0m\u001b[1;33m\u001b[0m\u001b[0m\n\u001b[0;32m     17\u001b[0m         \u001b[0mprint\u001b[0m\u001b[1;33m(\u001b[0m\u001b[0mn_date\u001b[0m\u001b[1;33m)\u001b[0m\u001b[1;33m\u001b[0m\u001b[0m\n",
      "\u001b[1;32m~\\Desktop\\work\\Satellite_Big_Data_Scripts\\gome_work_flow.py\u001b[0m in \u001b[0;36mprocess_gome\u001b[1;34m(self, gome_date, prefix, min_lon, max_lon, min_lat, max_lat)\u001b[0m\n\u001b[0;32m     73\u001b[0m                 \u001b[0mgome_path\u001b[0m \u001b[1;33m=\u001b[0m \u001b[0mconvertGOMEDate\u001b[0m\u001b[1;33m(\u001b[0m\u001b[0mgome_date\u001b[0m\u001b[1;33m,\u001b[0m \u001b[0mprefix\u001b[0m\u001b[1;33m)\u001b[0m\u001b[1;33m\u001b[0m\u001b[0m\n\u001b[0;32m     74\u001b[0m                 \u001b[0mprint\u001b[0m\u001b[1;33m(\u001b[0m\u001b[1;34m'gome_path'\u001b[0m\u001b[1;33m,\u001b[0m \u001b[0mgome_path\u001b[0m\u001b[1;33m)\u001b[0m\u001b[1;33m\u001b[0m\u001b[0m\n\u001b[1;32m---> 75\u001b[1;33m                 \u001b[0mself\u001b[0m\u001b[1;33m.\u001b[0m\u001b[0mgome\u001b[0m\u001b[1;33m.\u001b[0m\u001b[0mload_gnome\u001b[0m\u001b[1;33m(\u001b[0m\u001b[0mgome_path\u001b[0m\u001b[1;33m,\u001b[0m \u001b[0mgome_date\u001b[0m\u001b[1;33m)\u001b[0m\u001b[1;33m\u001b[0m\u001b[0m\n\u001b[0m\u001b[0;32m     76\u001b[0m \u001b[1;33m\u001b[0m\u001b[0m\n\u001b[0;32m     77\u001b[0m                 \u001b[0mprint\u001b[0m\u001b[1;33m(\u001b[0m\u001b[1;34m'lons'\u001b[0m\u001b[1;33m,\u001b[0m \u001b[0mself\u001b[0m\u001b[1;33m.\u001b[0m\u001b[0mgome\u001b[0m\u001b[1;33m.\u001b[0m\u001b[0mlons\u001b[0m\u001b[1;33m)\u001b[0m\u001b[1;33m\u001b[0m\u001b[0m\n",
      "\u001b[1;32m~\\Desktop\\work\\Satellite_Big_Data_Scripts\\gnone_utils.py\u001b[0m in \u001b[0;36mload_gnome\u001b[1;34m(self, path, date_)\u001b[0m\n\u001b[0;32m     34\u001b[0m                 \u001b[0mself\u001b[0m\u001b[1;33m.\u001b[0m\u001b[0mdate\u001b[0m \u001b[1;33m=\u001b[0m \u001b[0mdate_\u001b[0m\u001b[1;33m\u001b[0m\u001b[0m\n\u001b[0;32m     35\u001b[0m                 \u001b[0mpath\u001b[0m \u001b[1;33m=\u001b[0m \u001b[0mprefix\u001b[0m \u001b[1;33m+\u001b[0m \u001b[0mpath\u001b[0m\u001b[1;33m\u001b[0m\u001b[0m\n\u001b[1;32m---> 36\u001b[1;33m                 \u001b[0mdat\u001b[0m \u001b[1;33m=\u001b[0m \u001b[0mDataset\u001b[0m\u001b[1;33m(\u001b[0m\u001b[0mpath\u001b[0m\u001b[1;33m)\u001b[0m\u001b[1;33m\u001b[0m\u001b[0m\n\u001b[0m\u001b[0;32m     37\u001b[0m                 \u001b[0mdata_lons\u001b[0m \u001b[1;33m=\u001b[0m \u001b[0mdat\u001b[0m\u001b[1;33m.\u001b[0m\u001b[0mvariables\u001b[0m\u001b[1;33m[\u001b[0m\u001b[1;34m'longitude'\u001b[0m\u001b[1;33m]\u001b[0m\u001b[1;33m[\u001b[0m\u001b[1;33m:\u001b[0m\u001b[1;33m]\u001b[0m\u001b[1;33m\u001b[0m\u001b[0m\n\u001b[0;32m     38\u001b[0m                 \u001b[0mdata_lats\u001b[0m \u001b[1;33m=\u001b[0m \u001b[0mdat\u001b[0m\u001b[1;33m.\u001b[0m\u001b[0mvariables\u001b[0m\u001b[1;33m[\u001b[0m\u001b[1;34m'latitude'\u001b[0m\u001b[1;33m]\u001b[0m\u001b[1;33m[\u001b[0m\u001b[1;33m:\u001b[0m\u001b[1;33m]\u001b[0m\u001b[1;33m\u001b[0m\u001b[0m\n",
      "\u001b[1;32mnetCDF4\\_netCDF4.pyx\u001b[0m in \u001b[0;36mnetCDF4._netCDF4.Dataset.__init__\u001b[1;34m()\u001b[0m\n",
      "\u001b[1;32mnetCDF4\\_netCDF4.pyx\u001b[0m in \u001b[0;36mnetCDF4._netCDF4._ensure_nc_success\u001b[1;34m()\u001b[0m\n",
      "\u001b[1;31mFileNotFoundError\u001b[0m: [Errno 2] No such file or directory: b'E:\\\\SIF data\\\\GOME_2016\\\\GOME_2016\\\\07\\\\ret_f_nr5_nsvd12_v26_waves734_nolog.20160713_v27_all.nc'"
     ]
    }
   ],
   "source": [
    "g_flow = Gome_workflow()\n",
    "g_flow.preprocess_cdl()\n",
    "g_flow.preprocess_par()\n",
    "prefix = 'E:\\\\SIF data\\\\GOME_2016\\\\GOME_2016\\\\'\n",
    "min_lon = -89.11086962890625-1.6\n",
    "max_lon = -88.69682275390625+1.6\n",
    "min_lat = 41.53067026099156 - 0.7\n",
    "max_lat = 42.05638178482896 + 0.7\n",
    "\n",
    "\n",
    "n_date = date_\n",
    "n_date = datetime.date(2016, 6, 15)\n",
    "for i in range(30):\n",
    "    n_date += timedelta(1)\n",
    "    g_flow.process_gome(n_date, prefix, min_lon, max_lon, min_lat, max_lat)\n",
    "    if g_flow.gome.lat_corners != []:\n",
    "        print(n_date)"
   ]
  },
  {
   "cell_type": "code",
   "execution_count": 13,
   "metadata": {},
   "outputs": [
    {
     "data": {
      "text/plain": [
       "[]"
      ]
     },
     "execution_count": 13,
     "metadata": {},
     "output_type": "execute_result"
    }
   ],
   "source": [
    "g_flow.gome.lat_corners"
   ]
  },
  {
   "cell_type": "code",
   "execution_count": null,
   "metadata": {},
   "outputs": [],
   "source": []
  }
 ],
 "metadata": {
  "kernelspec": {
   "display_name": "Python 3",
   "language": "python",
   "name": "python3"
  },
  "language_info": {
   "codemirror_mode": {
    "name": "ipython",
    "version": 3
   },
   "file_extension": ".py",
   "mimetype": "text/x-python",
   "name": "python",
   "nbconvert_exporter": "python",
   "pygments_lexer": "ipython3",
   "version": "3.5.5"
  }
 },
 "nbformat": 4,
 "nbformat_minor": 2
}
