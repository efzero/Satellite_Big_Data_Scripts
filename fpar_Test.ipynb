{
 "cells": [
  {
   "cell_type": "code",
   "execution_count": 105,
   "metadata": {
    "collapsed": false
   },
   "outputs": [],
   "source": [
    "import numpy as np\n",
    "import matplotlib.pyplot as plt\n",
    "from pyhdf.SD import SD, SDC\n",
    "\n",
    "\n",
    "from netCDF4 import Dataset\n",
    "import numpy as np\n",
    "import matplotlib.pyplot as plt\n",
    "import cv2\n",
    "import os\n",
    "os.getcwd()\n",
    "path1 = 'E:\\\\SIF data\\\\FPAR_2016'\n",
    "path2 = 'E:\\\\SIF data\\\\GOME_2016\\\\GOME_2016\\\\'\n",
    "os.chdir('E:\\\\SIF data\\\\FPAR_2016')\n",
    "# os.chdir('E:\\\\SIF data\\\\OCO_2016')\n",
    "# os.chdir(path2)\n",
    "%matplotlib inline\n",
    "raw_data = SD('FPAR_A2016233.hdf', SDC.READ)"
   ]
  },
  {
   "cell_type": "code",
   "execution_count": 2,
   "metadata": {
    "collapsed": true
   },
   "outputs": [],
   "source": [
    "import numpy as np\n",
    "from shapely.geometry import Point\n",
    "from shapely.geometry import Polygon"
   ]
  },
  {
   "cell_type": "code",
   "execution_count": 71,
   "metadata": {
    "collapsed": true
   },
   "outputs": [],
   "source": [
    "gnome_test_data = Dataset('08\\\\ret_f_nr5_nsvd12_v26_waves734_nolog.20160801_v27_all.nc')"
   ]
  },
  {
   "cell_type": "code",
   "execution_count": null,
   "metadata": {
    "collapsed": true
   },
   "outputs": [],
   "source": []
  },
  {
   "cell_type": "code",
   "execution_count": 9,
   "metadata": {
    "collapsed": false
   },
   "outputs": [
    {
     "data": {
      "text/plain": [
       "(3678, 10145)"
      ]
     },
     "execution_count": 9,
     "metadata": {},
     "output_type": "execute_result"
    }
   ],
   "source": [
    "# for i in gnome_test_data.variables:\n",
    "#     print(i)\n",
    "raw_data = SD('FPAR_A2016009.hdf', SDC.READ)\n",
    "raw_data.select('Fpar_500m')[:].shape"
   ]
  },
  {
   "cell_type": "code",
   "execution_count": 67,
   "metadata": {
    "collapsed": false
   },
   "outputs": [
    {
     "data": {
      "text/plain": [
       "False"
      ]
     },
     "execution_count": 67,
     "metadata": {},
     "output_type": "execute_result"
    }
   ],
   "source": [
    "p = Polygon([(-88, 40), (-87, 40.5), (-86.5, 41.5), (-87.5, 41)])\n",
    "# p = Polygon([(50, -160), (51, -159), (52, -159), (51, -162)])\n",
    "# ILLINOIS = (36.7281, -91.8524, 42.493703, -87.020001)"
   ]
  },
  {
   "cell_type": "code",
   "execution_count": 16,
   "metadata": {
    "collapsed": false
   },
   "outputs": [],
   "source": [
    "#find gnome boxes inside illinois\n",
    "\n",
    "lon_corners = gnome_test_data.variables[\"Longitude_corners\"]\n",
    "lat_corners = gnome_test_data.variables[\"Latitude_corners\"]\n",
    "\n",
    "\n",
    "#kd tree?\n",
    "gnome_polygons = []\n",
    "for i in range(len(lon_corners)):\n",
    "    if (lon_corners[i][0] >= ILLINOIS[1] and lon_corners[i][0] <= ILLINOIS[3]) and \\\n",
    "    (lat_corners[i][0] >= ILLINOIS[0] and lat_corners[i][0] <= ILLINOIS[2]):\n",
    "        \n",
    "        #TODO add gnome filter\n",
    "        p1 = (lon_corners[i][0], lat_corners[i][0])\n",
    "        p2 = (lon_corners[i][1], lat_corners[i][1])\n",
    "        p3 = (lon_corners[i][3], lat_corners[i][3])\n",
    "        p4 = (lon_corners[i][2], lat_corners[i][2])\n",
    "               \n",
    "        gnome_box = Polygon([p1, p2, p3, p4])\n",
    "        gnome_polygons.append(gnome_box)\n"
   ]
  },
  {
   "cell_type": "code",
   "execution_count": 60,
   "metadata": {
    "collapsed": false
   },
   "outputs": [
    {
     "data": {
      "image/svg+xml": [
       "<svg xmlns=\"http://www.w3.org/2000/svg\" xmlns:xlink=\"http://www.w3.org/1999/xlink\" width=\"100.0\" height=\"100.0\" viewBox=\"-88.76392639160156 42.326012725830076 0.7309396362304597 0.5368859863281301\" preserveAspectRatio=\"xMinYMin meet\"><g transform=\"matrix(1,0,0,-1,0,85.18891143798828)\"><path fill-rule=\"evenodd\" fill=\"#66cc99\" stroke=\"#555555\" stroke-width=\"0.014618792724609192\" opacity=\"0.6\" d=\"M -88.22299194335938,42.353084564208984 L -88.06005859375,42.730533599853516 L -88.58002471923828,42.8358268737793 L -88.73685455322266,42.46538162231445 L -88.22299194335938,42.353084564208984 z\" /></g></svg>"
      ],
      "text/plain": [
       "<shapely.geometry.polygon.Polygon at 0x69ca69c9b0>"
      ]
     },
     "execution_count": 60,
     "metadata": {},
     "output_type": "execute_result"
    }
   ],
   "source": [
    "gnome_polygons[4]"
   ]
  },
  {
   "cell_type": "code",
   "execution_count": 8,
   "metadata": {
    "collapsed": false
   },
   "outputs": [],
   "source": [
    "oco_test_data = Dataset('05\\\\oco2_LtSIF_160504_B7302r_160720173141s.nc4')"
   ]
  },
  {
   "cell_type": "code",
   "execution_count": 33,
   "metadata": {
    "collapsed": false
   },
   "outputs": [
    {
     "data": {
      "text/plain": [
       "(array([  5.10000000e+01,   9.34000000e+02,   9.27500000e+03,\n",
       "          4.34640000e+04,   5.08100000e+04,   1.57340000e+04,\n",
       "          2.86000000e+03,   2.99000000e+02,   1.10000000e+01,\n",
       "          3.00000000e+00]),\n",
       " array([-2.67721701, -1.97835369, -1.27949038, -0.58062706,  0.11823626,\n",
       "         0.81709957,  1.51596289,  2.2148262 ,  2.91368952,  3.61255283,\n",
       "         4.31141615]),\n",
       " <a list of 10 Patch objects>)"
      ]
     },
     "execution_count": 33,
     "metadata": {},
     "output_type": "execute_result"
    },
    {
     "data": {
      "image/png": "[encoded data removed]",
      "text/plain": [
       "<matplotlib.figure.Figure at 0x69860dfb00>"
      ]
     },
     "metadata": {},
     "output_type": "display_data"
    }
   ],
   "source": [
    "plt.hist(oco_sifs)"
   ]
  },
  {
   "cell_type": "code",
   "execution_count": 14,
   "metadata": {
    "collapsed": false
   },
   "outputs": [],
   "source": [
    "#find oco boxes inside illinois\n",
    "\n",
    "\n",
    "area = []\n",
    "desired_sif = []\n",
    "\n",
    "oco_lat_corners = oco_test_data.variables['footprint_vertex_latitude'][:]\n",
    "oco_lon_corners = oco_test_data.variables['footprint_vertex_longitude'][:]\n",
    "oco_sifs = oco_test_data.variables['SIF_757nm'][:]\n",
    "\n",
    "\n",
    "oco_illinois = []\n",
    "oco_illinois_sifs = []\n",
    "for i in range(len(oco_lon_corners)):\n",
    "    if (oco_lon_corners[i][0] >= ILLINOIS[1] and oco_lon_corners[i][0] <= ILLINOIS[3]) and \\\n",
    "    (oco_lat_corners[i][0] >= ILLINOIS[0] and oco_lat_corners[i][0] <= ILLINOIS[2]):\n",
    "        \n",
    "        \n",
    "        #add filter\n",
    "        #add cdl data filter\n",
    "        oco_illinois.append([oco_lon_corners[i], oco_lat_corners[i]])\n",
    "        oco_illinois_sifs.append(oco_sifs[i])\n"
   ]
  },
  {
   "cell_type": "code",
   "execution_count": 23,
   "metadata": {
    "collapsed": false
   },
   "outputs": [],
   "source": [
    "area = []\n",
    "desired_sif = []\n",
    "chosen_area = None\n",
    "\n",
    "for j in range(len(gnome_polygons)):\n",
    "    g_area = gnome_polygons[j]\n",
    "    desired_sif = []\n",
    "    area = []\n",
    "    \n",
    "    for i in range(len(oco_illinois)):\n",
    "        p = Point(oco_illinois[i][0][0], oco_illinois[i][1][0])\n",
    "        if g_area.contains(p):\n",
    "            desired_sif.append(oco_illinois_sifs[i])\n",
    "            area.append([oco_illinois[i][0], oco_illinois[i][1]])\n",
    "\n",
    "    if area != []:\n",
    "        chosen_area = g_area\n",
    "        break"
   ]
  },
  {
   "cell_type": "code",
   "execution_count": 68,
   "metadata": {
    "collapsed": false,
    "scrolled": false
   },
   "outputs": [
    {
     "name": "stdout",
     "output_type": "stream",
     "text": [
      "verifying\n",
      "202 202\n",
      "85 85\n",
      "POLYGON ((-87.12796783447266 42.12539672851563, -86.95050048828125 42.52025985717773, -88.55459594726563 42.90095138549805, -88.71170043945313 42.53056335449219, -87.12796783447266 42.12539672851563))\n"
     ]
    },
    {
     "data": {
      "image/svg+xml": [
       "<svg xmlns=\"http://www.w3.org/2000/svg\" xmlns:xlink=\"http://www.w3.org/1999/xlink\" width=\"100.0\" height=\"100.0\" viewBox=\"-88.7821484375 42.05494873046875 1.9020959472656216 0.9164506530761685\" preserveAspectRatio=\"xMinYMin meet\"><g transform=\"matrix(1,0,0,-1,0,85.02634811401367)\"><path fill-rule=\"evenodd\" fill=\"#66cc99\" stroke=\"#555555\" stroke-width=\"0.03804191894531243\" opacity=\"0.6\" d=\"M -87.12796783447266,42.125396728515625 L -86.95050048828125,42.520259857177734 L -88.55459594726562,42.90095138549805 L -88.71170043945312,42.53056335449219 L -87.12796783447266,42.125396728515625 z\" /></g></svg>"
      ],
      "text/plain": [
       "<shapely.geometry.polygon.Polygon at 0x69ca69c8d0>"
      ]
     },
     "execution_count": 68,
     "metadata": {},
     "output_type": "execute_result"
    },
    {
     "data": {
      "image/png": "[encoded data removed]",
      "text/plain": [
       "<matplotlib.figure.Figure at 0x698a84ec88>"
      ]
     },
     "metadata": {},
     "output_type": "display_data"
    }
   ],
   "source": [
    "\n",
    "print('verifying')\n",
    "\n",
    "print(len(oco_illinois), len(oco_illinois_sifs))\n",
    "\n",
    "print(len(desired_sif), len(area))\n",
    "\n",
    "plt.hist(desired_sif)\n",
    "\n",
    "print(chosen_area)\n",
    "chosen_area"
   ]
  },
  {
   "cell_type": "code",
   "execution_count": 46,
   "metadata": {
    "collapsed": false
   },
   "outputs": [
    {
     "name": "stdout",
     "output_type": "stream",
     "text": [
      "[array([-87.13839722, -87.14543152, -87.1386261 , -87.13159943], dtype=float32), array([ 42.13482285,  42.15303802,  42.14352417,  42.12530899], dtype=float32)]\n"
     ]
    },
    {
     "data": {
      "image/png": "[encoded data removed]",
      "text/plain": [
       "<matplotlib.figure.Figure at 0x69876122e8>"
      ]
     },
     "metadata": {},
     "output_type": "display_data"
    }
   ],
   "source": [
    "test_oco_box = area[0]\n",
    "#1432\n",
    "p1 = (test_oco_box[0][0], test_oco_box[1][0])\n",
    "p2 = (test_oco_box[0][3], test_oco_box[1][3])\n",
    "p3 = (test_oco_box[0][2], test_oco_box[1][2])\n",
    "p4 = (test_oco_box[0][1], test_oco_box[1][1])\n",
    "\n",
    "plt.plot(area[0][0], area[0][1])\n",
    "print(area[0])\n",
    "test_polygon = Polygon([p1, p2, p3, p4])\n",
    "    \n",
    "\n"
   ]
  },
  {
   "cell_type": "code",
   "execution_count": 55,
   "metadata": {
    "collapsed": false
   },
   "outputs": [
    {
     "name": "stdout",
     "output_type": "stream",
     "text": [
      "-87.1454315186 42.1253089905\n",
      "-87.1454315186 42.1293089905\n",
      "-87.1454315186 42.1333089905\n",
      "-87.1454315186 42.1373089905\n",
      "-87.1454315186 42.1413089905\n",
      "-87.1454315186 42.1453089905\n",
      "-87.1454315186 42.1493089905\n",
      "-87.1394315186 42.1253089905\n",
      "-87.1394315186 42.1293089905\n",
      "-87.1394315186 42.1333089905\n",
      "-87.1394315186 42.1373089905\n",
      "-87.1394315186 42.1413089905\n",
      "-87.1394315186 42.1453089905\n",
      "-87.1394315186 42.1493089905\n",
      "-87.1334315186 42.1253089905\n",
      "-87.1334315186 42.1293089905\n",
      "-87.1334315186 42.1333089905\n",
      "-87.1334315186 42.1373089905\n",
      "-87.1334315186 42.1413089905\n",
      "-87.1334315186 42.1453089905\n",
      "-87.1334315186 42.1493089905\n"
     ]
    }
   ],
   "source": [
    "#getting fpar\n",
    "\n",
    "from my_functions import coords_to_ind\n",
    "\n",
    "\n",
    "import numpy as np\n",
    "for i in np.arange(min(test_oco_box[0]), max(test_oco_box[0]), 0.006):\n",
    "    for j in np.arange(min(test_oco_box[1]), max(test_oco_box[1]), 0.004):\n",
    "        \n",
    "        print(i,j)"
   ]
  },
  {
   "cell_type": "code",
   "execution_count": 9,
   "metadata": {
    "collapsed": false
   },
   "outputs": [],
   "source": [
    "gnome_test_data = Dataset('08\\\\ret_f_nr5_nsvd12_v26_waves734_nolog.20160801_v27_all.nc')"
   ]
  },
  {
   "cell_type": "code",
   "execution_count": 29,
   "metadata": {
    "collapsed": false
   },
   "outputs": [
    {
     "data": {
      "text/plain": [
       "array([[-162.73866272, -161.11044312, -163.13847351, -161.51272583],\n",
       "       [-162.73866272, -161.11044312, -163.41612244, -161.79342651],\n",
       "       [-163.3377533 , -161.71464539, -164.04302979, -162.42326355],\n",
       "       ..., \n",
       "       [ 145.1022644 ,  145.26411438,  142.3263855 ,  142.50340271],\n",
       "       [ 142.40600586,  142.58261108,  139.69844055,  139.89016724],\n",
       "       [ 139.76766968,  139.95896912,  137.08872986,  137.29917908]], dtype=float32)"
      ]
     },
     "execution_count": 29,
     "metadata": {},
     "output_type": "execute_result"
    }
   ],
   "source": [
    "cur_data.variables['Longitude_corners'][:]"
   ]
  },
  {
   "cell_type": "code",
   "execution_count": 30,
   "metadata": {
    "collapsed": false
   },
   "outputs": [
    {
     "data": {
      "text/plain": [
       "array([[ 75.94194031,  76.0980835 ,  76.21187592,  76.36787415],\n",
       "       [ 75.94194031,  76.0980835 ,  76.3137207 ,  76.47038269],\n",
       "       [ 76.26849365,  76.42510986,  76.63511658,  76.79251862],\n",
       "       ..., \n",
       "       [-58.29808807, -57.87671661, -57.99367142, -57.6099968 ],\n",
       "       [-58.00455093, -57.61994553, -57.65233612, -57.29317474],\n",
       "       [-57.66324997, -57.30360031, -57.25914383, -56.91117477]], dtype=float32)"
      ]
     },
     "execution_count": 30,
     "metadata": {},
     "output_type": "execute_result"
    }
   ],
   "source": [
    "cur_data.variables['Latitude_corners'][:]"
   ]
  },
  {
   "cell_type": "code",
   "execution_count": 34,
   "metadata": {
    "collapsed": false
   },
   "outputs": [
    {
     "data": {
      "text/plain": [
       "[<matplotlib.lines.Line2D at 0xf27b926dd8>]"
      ]
     },
     "execution_count": 34,
     "metadata": {},
     "output_type": "execute_result"
    },
    {
     "data": {
      "image/png": "[encoded data removed]",
      "text/plain": [
       "<matplotlib.figure.Figure at 0xf27b61c5f8>"
      ]
     },
     "metadata": {},
     "output_type": "display_data"
    }
   ],
   "source": [
    "import matplotlib.pyplot as plt\n",
    "\n",
    "plt.plot(cur_data.variables['Longitude_corners'][:][0] , cur_data.variables['Latitude_corners'][:][1])"
   ]
  },
  {
   "cell_type": "code",
   "execution_count": 19,
   "metadata": {
    "collapsed": true
   },
   "outputs": [],
   "source": [
    "#filter out all lon corners and lat corners in Illinois\n",
    "#then find OCO2 footprints\n",
    "\n",
    "\n",
    "# oco_data = Dataset('05\\\\oco2_LtSIF_160504_B7302r_160720173141s.nc4')\n",
    "#then find related fpars\n",
    "#then find related cdls\n",
    "\n",
    "\n",
    "\n",
    "\n"
   ]
  },
  {
   "cell_type": "code",
   "execution_count": 39,
   "metadata": {
    "collapsed": false
   },
   "outputs": [
    {
     "name": "stdout",
     "output_type": "stream",
     "text": [
      "solar_zenith_angle\n",
      "sensor_zenith_angle\n",
      "sensor_azimuth_angle\n",
      "solar_azimuth_angle\n",
      "time\n",
      "longitude\n",
      "latitude\n",
      "footprint\n",
      "sounding_id\n",
      "measurement_mode\n",
      "surface_altitude\n",
      "daily_correction_factor\n",
      "reduced_chi2_757nm\n",
      "reduced_chi2_771nm\n",
      "continuum_radiance_757nm\n",
      "continuum_radiance_771nm\n",
      "SIF_757nm\n",
      "SIF_771nm\n",
      "uncorrected_SIF_757nm\n",
      "uncorrected_SIF_771nm\n",
      "SIF_757nm_uncert\n",
      "SIF_771nm_uncert\n",
      "SIF_757nm_relative\n",
      "SIF_771nm_relative\n",
      "uncorrected_SIF_757nm_relative\n",
      "uncorrected_SIF_771nm_relative\n",
      "orbit_number\n",
      "IGBP_index\n",
      "footprint_vertex_latitude\n",
      "footprint_vertex_longitude\n",
      "[6 7 8 ..., 3 4 6]\n"
     ]
    },
    {
     "data": {
      "text/plain": [
       "(array([ 12936.,  15732.,  15046.,      0.,  14882.,  15806.,      0.,\n",
       "         16179.,  16275.,  16585.]),\n",
       " array([ 1. ,  1.7,  2.4,  3.1,  3.8,  4.5,  5.2,  5.9,  6.6,  7.3,  8. ]),\n",
       " <a list of 10 Patch objects>)"
      ]
     },
     "execution_count": 39,
     "metadata": {},
     "output_type": "execute_result"
    },
    {
     "data": {
      "image/png": "[encoded data removed]",
      "text/plain": [
       "<matplotlib.figure.Figure at 0xf27b8f41d0>"
      ]
     },
     "metadata": {},
     "output_type": "display_data"
    }
   ],
   "source": [
    "for i in oco_data.variables:\n",
    "    print(i)\n",
    "    \n",
    "    \n",
    "# print(oco_data.variables['footprint_vertex_latitude'][:].shape)\n",
    "# print(oco_data.variables['footprint_vertex_longitude'][:].shape)\n",
    "print(oco_data.variables['footprint'][:])\n",
    "\n",
    "plt.hist(oco_data.variables['footprint'][:])\n",
    "\n",
    "# plt.plot(oco_data.variables['footprint_vertex_longitude'][:][0], oco_data.variables['footprint_vertex_latitude'][:][0])"
   ]
  },
  {
   "cell_type": "code",
   "execution_count": null,
   "metadata": {
    "collapsed": true
   },
   "outputs": [],
   "source": [
    "def find_inner_regions(areas1, areas2):\n"
   ]
  },
  {
   "cell_type": "code",
   "execution_count": 40,
   "metadata": {
    "collapsed": false
   },
   "outputs": [
    {
     "data": {
      "text/plain": [
       "{'FparExtra_QC': (('YDim:MOD_Grid_MOD15A2H', 'XDim:MOD_Grid_MOD15A2H'),\n",
       "  (3678, 10145),\n",
       "  21,\n",
       "  3),\n",
       " 'FparLai_QC': (('YDim:MOD_Grid_MOD15A2H', 'XDim:MOD_Grid_MOD15A2H'),\n",
       "  (3678, 10145),\n",
       "  21,\n",
       "  2),\n",
       " 'FparStdDev_500m': (('YDim:MOD_Grid_MOD15A2H', 'XDim:MOD_Grid_MOD15A2H'),\n",
       "  (3678, 10145),\n",
       "  21,\n",
       "  4),\n",
       " 'Fpar_500m': (('YDim:MOD_Grid_MOD15A2H', 'XDim:MOD_Grid_MOD15A2H'),\n",
       "  (3678, 10145),\n",
       "  21,\n",
       "  0),\n",
       " 'LaiStdDev_500m': (('YDim:MOD_Grid_MOD15A2H', 'XDim:MOD_Grid_MOD15A2H'),\n",
       "  (3678, 10145),\n",
       "  21,\n",
       "  5),\n",
       " 'Lai_500m': (('YDim:MOD_Grid_MOD15A2H', 'XDim:MOD_Grid_MOD15A2H'),\n",
       "  (3678, 10145),\n",
       "  21,\n",
       "  1)}"
      ]
     },
     "execution_count": 40,
     "metadata": {},
     "output_type": "execute_result"
    }
   ],
   "source": [
    "raw_data.datasets()"
   ]
  },
  {
   "cell_type": "code",
   "execution_count": 3,
   "metadata": {
    "collapsed": false
   },
   "outputs": [],
   "source": [
    "import numpy as np\n",
    "from shapely.geometry import Point\n",
    "from shapely.geometry import Polygon"
   ]
  },
  {
   "cell_type": "code",
   "execution_count": 19,
   "metadata": {
    "collapsed": true
   },
   "outputs": [],
   "source": [
    "\n",
    "mat= '48.6666045 −0.2645971422 −0.2546445294 −0.1379386595 \\\n",
    "−0.2645971 0.0022624549 0.0010580484 −0.0001827183 \\\n",
    "−0.2546445 0.0010580484 0.0014918324 0.0008762569 \\\n",
    "−0.1379387 −0.0001827183 0.0008762569 0.0037290135'"
   ]
  },
  {
   "cell_type": "code",
   "execution_count": 20,
   "metadata": {
    "collapsed": false
   },
   "outputs": [
    {
     "data": {
      "text/plain": [
       "'48.6666045 −0.2645971422 −0.2546445294 −0.1379386595 −0.2645971 0.0022624549 0.0010580484 −0.0001827183 −0.2546445 0.0010580484 0.0014918324 0.0008762569 −0.1379387 −0.0001827183 0.0008762569 0.0037290135'"
      ]
     },
     "execution_count": 20,
     "metadata": {},
     "output_type": "execute_result"
    }
   ],
   "source": [
    "mat"
   ]
  },
  {
   "cell_type": "code",
   "execution_count": 22,
   "metadata": {
    "collapsed": false
   },
   "outputs": [],
   "source": [
    "import numpy as np\n",
    "mat = mat.replace('−', '-')\n",
    "m = mat.split()\n",
    "m = np.array(m)\n",
    "\n",
    "\n",
    "\n",
    "\n",
    "m = m.astype(float)"
   ]
  },
  {
   "cell_type": "code",
   "execution_count": 26,
   "metadata": {
    "collapsed": false
   },
   "outputs": [],
   "source": [
    "m = m.reshape((4,4))"
   ]
  },
  {
   "cell_type": "code",
   "execution_count": 47,
   "metadata": {
    "collapsed": false
   },
   "outputs": [],
   "source": [
    "\n",
    "e = '5.943 \\\n",
    "−0.143 \\\n",
    "−7.040 \\\n",
    "−3.729 \\\n",
    "3.282 \\\n",
    "1.130 \\\n",
    "0.557'\n"
   ]
  },
  {
   "cell_type": "code",
   "execution_count": 48,
   "metadata": {
    "collapsed": false
   },
   "outputs": [],
   "source": [
    "e = e.replace('−', '-')\n",
    "e = e.split()\n",
    "e = np.array(e)\n",
    "e = e.astype(float)"
   ]
  },
  {
   "cell_type": "code",
   "execution_count": 51,
   "metadata": {
    "collapsed": false
   },
   "outputs": [],
   "source": [
    "y = '10 \\\n",
    "5 \\\n",
    "−6 \\\n",
    "25 \\\n",
    "20 \\\n",
    "31 \\\n",
    "5'"
   ]
  },
  {
   "cell_type": "code",
   "execution_count": 53,
   "metadata": {
    "collapsed": false
   },
   "outputs": [],
   "source": [
    "y = y.replace('−', '-')\n",
    "y = y.split()\n",
    "y = np.array(y)\n",
    "y = y.astype(float)"
   ]
  },
  {
   "cell_type": "code",
   "execution_count": 55,
   "metadata": {
    "collapsed": false
   },
   "outputs": [],
   "source": [
    "beta = '10.72 \\\n",
    "0.15 \\\n",
    "0.10 \\\n",
    "−1.56'"
   ]
  },
  {
   "cell_type": "code",
   "execution_count": 56,
   "metadata": {
    "collapsed": true
   },
   "outputs": [],
   "source": [
    "beta = beta.replace('−', '-')\n",
    "beta = beta.split()\n",
    "beta = np.array(beta)\n",
    "beta = beta.astype(float)"
   ]
  },
  {
   "cell_type": "code",
   "execution_count": 62,
   "metadata": {
    "collapsed": false
   },
   "outputs": [
    {
     "data": {
      "text/plain": [
       "111.16541199999999"
      ]
     },
     "execution_count": 62,
     "metadata": {},
     "output_type": "execute_result"
    }
   ],
   "source": [
    "SSE = np.sum(e**2)\n",
    "SSE"
   ]
  },
  {
   "cell_type": "markdown",
   "metadata": {},
   "source": [
    "<p>\n",
    "a)</p>\n",
    "\n",
    "<table>\n",
    "<tr>\n",
    "<td>Source</td>\n",
    "<td>Sum of Sqaures</td>\n",
    "<td>df</td>\n",
    "<td>Mean</td>\n",
    "<td>Squares F</td>\n",
    "</tr>\n",
    "\n",
    "<tr>\n",
    "<td>Regression</td>\n",
    "<td>903.69173</td>\n",
    "<td>3</td>\n",
    "<td>301.2306</td>\n",
    "<td>8.129</td>\n",
    "</tr>\n",
    "<tr>\n",
    "<td>Error</td>\n",
    "<td>111.16541</td>\n",
    "<td>3</td>\n",
    "<td>37.0551</td>\n",
    "<td></td>\n",
    "</tr>\n",
    "<tr>\n",
    "<td>Total</td>\n",
    "<td>1014.8571</td>\n",
    "<td>6</td>\n",
    "<td></td>\n",
    "<td></td>\n",
    "</tr>\n",
    "\n",
    "\n",
    "</table>\n",
    "\n",
    "\n",
    "\n",
    "<p>b) <br>\n",
    "By doing the previous F test in a), we have obatined a test statistics of 8.129. Since the critcal value at p = 0.05 is 9.2766. We do not reject the null hypothesis, and there is no evidence that at least one estimator has a non-zero coefficient</p> \n",
    "\n",
    "\n",
    "<p>c)<br>\n",
    "The unbiased variance for y is 37.05. The variance for estimated $\\beta_1$ is 0.08383557703. Hence the test statistics is 0.518056443932. The degree of freedom is 3. The critical t value is 3.182. Hence we do not reject the null hypothesis, and there is no evidence that $\\beta_1$ is not zero\n",
    "</p>\n",
    "\n",
    "\n",
    "<p>d)<br>\n",
    "The variance for estimated $\\beta_3$ is 0.1381791073. The test statistics for $\\beta_3$ is 4.19665634218 which is greater than the critical value of 3.182. Hence we reject the null hypothesis and conclude that $\\beta_3$ is not 0. \n",
    "\n",
    "</p>\n",
    "\n",
    "\n",
    "<p>e)<br>\n",
    "The model explains the variation quite well since the $R^2$ is 0.8904. \n",
    "\n",
    "</p>\n",
    "\n",
    "\n",
    "<p>f)<br>\n",
    "\n",
    "We are going to use F test to compare the reduced model and full model. \n",
    "$$F_{test} = \\frac{MS_{diff}}{MSE_{full}}$$\n",
    "\n",
    "We have $SS_{diff} = 121.6974 - 111.16541 = 10.5319\\\\\n",
    "         MS_{diff} = \\frac{10.5319}{(4-2)} = 5.266$\n",
    "         \n",
    "<br>\n",
    "Hence F statistics is 5.266/37.0551 = 0.14211 with degree of freedom (4-2, 3) which is (2,3). And we do not reject the null hypothesis. Hence we conclude that there is no evidence that the full model explains the variation better than the reduced model. Hence that person's argument is correct. </p>\n",
    "\n",
    "\n",
    "\n",
    "\n"
   ]
  },
  {
   "cell_type": "code",
   "execution_count": 104,
   "metadata": {
    "collapsed": false
   },
   "outputs": [
    {
     "data": {
      "text/plain": [
       "0.14211269164028703"
      ]
     },
     "execution_count": 104,
     "metadata": {},
     "output_type": "execute_result"
    }
   ],
   "source": [
    "SST = np.sum((y - np.mean(y))**2)\n",
    "(121.6974 - 111.16541)/2\n",
    "5.266/37.0551"
   ]
  },
  {
   "cell_type": "code",
   "execution_count": 71,
   "metadata": {
    "collapsed": false
   },
   "outputs": [],
   "source": [
    "SSR = np.sum((y - np.mean(y))**2) - SSE"
   ]
  },
  {
   "cell_type": "code",
   "execution_count": 72,
   "metadata": {
    "collapsed": false
   },
   "outputs": [],
   "source": [
    "df_r = len(y) - len(beta)"
   ]
  },
  {
   "cell_type": "code",
   "execution_count": 73,
   "metadata": {
    "collapsed": false
   },
   "outputs": [],
   "source": [
    "df_t = len(y) - 1"
   ]
  },
  {
   "cell_type": "code",
   "execution_count": 74,
   "metadata": {
    "collapsed": false
   },
   "outputs": [
    {
     "data": {
      "text/plain": [
       "301.230576952381"
      ]
     },
     "execution_count": 74,
     "metadata": {},
     "output_type": "execute_result"
    }
   ],
   "source": [
    "MSR = SSR/df_r\n",
    "MSR\n"
   ]
  },
  {
   "cell_type": "code",
   "execution_count": 75,
   "metadata": {
    "collapsed": false
   },
   "outputs": [
    {
     "data": {
      "text/plain": [
       "37.055137333333327"
      ]
     },
     "execution_count": 75,
     "metadata": {},
     "output_type": "execute_result"
    }
   ],
   "source": [
    "MSE = SSE/df_r\n",
    "MSE"
   ]
  },
  {
   "cell_type": "code",
   "execution_count": 76,
   "metadata": {
    "collapsed": false
   },
   "outputs": [
    {
     "data": {
      "text/plain": [
       "8.1292527468628748"
      ]
     },
     "execution_count": 76,
     "metadata": {},
     "output_type": "execute_result"
    }
   ],
   "source": [
    "MSR/MSE"
   ]
  },
  {
   "cell_type": "code",
   "execution_count": 95,
   "metadata": {
    "collapsed": false
   },
   "outputs": [
    {
     "name": "stdout",
     "output_type": "stream",
     "text": [
      "37.0551373333\n"
     ]
    }
   ],
   "source": [
    "sigma_2 = np.sum((y - np.mean(y))**2) / (len(y) - 4)\n",
    "\n",
    "\n",
    "sigma_2 = np.sum(e**2)/(len(e) -4)\n",
    "print(sigma_2)\n",
    "var_beta_0 = m[0,0]*sigma_2\n",
    "var_beta_1 = m[1,1]*sigma_2\n",
    "var_beta_2 = m[2,2]*sigma_2\n",
    "var_beta_3 = m[3,3]*sigma_2"
   ]
  },
  {
   "cell_type": "code",
   "execution_count": 97,
   "metadata": {
    "collapsed": false
   },
   "outputs": [
    {
     "name": "stdout",
     "output_type": "stream",
     "text": [
      "1803.34771329\n",
      "0.08383557703\n",
      "0.0552800544603\n",
      "0.13817910736\n"
     ]
    }
   ],
   "source": [
    "print(var_beta_0)\n",
    "print(var_beta_1)\n",
    "print(var_beta_2)\n",
    "print(var_beta_3)"
   ]
  },
  {
   "cell_type": "code",
   "execution_count": 99,
   "metadata": {
    "collapsed": false
   },
   "outputs": [
    {
     "name": "stdout",
     "output_type": "stream",
     "text": [
      "4.19665634218\n"
     ]
    }
   ],
   "source": [
    "sd_beta_3 = np.sqrt(var_beta_3)\n",
    "test_stats = 1.56 /sd_beta_3\n",
    "\n",
    "print(test_stats)"
   ]
  },
  {
   "cell_type": "code",
   "execution_count": 91,
   "metadata": {
    "collapsed": false
   },
   "outputs": [
    {
     "data": {
      "text/plain": [
       "array([ 10.,   5.,  -6.,  25.,  20.,  31.,   5.])"
      ]
     },
     "execution_count": 91,
     "metadata": {},
     "output_type": "execute_result"
    }
   ],
   "source": [
    "y"
   ]
  },
  {
   "cell_type": "code",
   "execution_count": 92,
   "metadata": {
    "collapsed": false
   },
   "outputs": [
    {
     "data": {
      "text/plain": [
       "array([[  4.86666045e+01,  -2.64597142e-01,  -2.54644529e-01,\n",
       "         -1.37938660e-01],\n",
       "       [ -2.64597100e-01,   2.26245490e-03,   1.05804840e-03,\n",
       "         -1.82718300e-04],\n",
       "       [ -2.54644500e-01,   1.05804840e-03,   1.49183240e-03,\n",
       "          8.76256900e-04],\n",
       "       [ -1.37938700e-01,  -1.82718300e-04,   8.76256900e-04,\n",
       "          3.72901350e-03]])"
      ]
     },
     "execution_count": 92,
     "metadata": {},
     "output_type": "execute_result"
    }
   ],
   "source": [
    "m"
   ]
  },
  {
   "cell_type": "code",
   "execution_count": 101,
   "metadata": {
    "collapsed": false
   },
   "outputs": [
    {
     "data": {
      "text/plain": [
       "0.89046200957207211"
      ]
     },
     "execution_count": 101,
     "metadata": {},
     "output_type": "execute_result"
    }
   ],
   "source": [
    "SSR/(SSR+SSE)"
   ]
  },
  {
   "cell_type": "code",
   "execution_count": null,
   "metadata": {
    "collapsed": true
   },
   "outputs": [],
   "source": []
  }
 ],
 "metadata": {
  "kernelspec": {
   "display_name": "Python 3",
   "language": "python",
   "name": "python3"
  },
  "language_info": {
   "codemirror_mode": {
    "name": "ipython",
    "version": 3
   },
   "file_extension": ".py",
   "mimetype": "text/x-python",
   "name": "python",
   "nbconvert_exporter": "python",
   "pygments_lexer": "ipython3",
   "version": "3.6.4"
  }
 },
 "nbformat": 4,
 "nbformat_minor": 2
}
