{
 "cells": [
  {
   "cell_type": "code",
   "execution_count": 51,
   "metadata": {
    "collapsed": true
   },
   "outputs": [],
   "source": [
    "import netCDF4 as nc\n",
    "import itertools\n",
    "import datetime\n",
    "from datetime import timedelta, date\n",
    "from sifutil import haversine_dist\n",
    "import numpy as np\n",
    "import pandas as pd\n",
    "%matplotlib inline"
   ]
  },
  {
   "cell_type": "code",
   "execution_count": 45,
   "metadata": {
    "collapsed": false
   },
   "outputs": [],
   "source": [
    "from gnone_utils import *\n",
    "from CDL_utils import *\n",
    "cd = cdl_utils()\n",
    "a = GNOME_utils(cd)"
   ]
  },
  {
   "cell_type": "code",
   "execution_count": 57,
   "metadata": {
    "collapsed": false
   },
   "outputs": [
    {
     "name": "stdout",
     "output_type": "stream",
     "text": [
      "[-87.30250549 -87.12741852 -87.81520081 -87.64704132]\n"
     ]
    },
    {
     "data": {
      "text/plain": [
       "[<matplotlib.lines.Line2D at 0xe764ff8ef0>]"
      ]
     },
     "execution_count": 57,
     "metadata": {},
     "output_type": "execute_result"
    },
    {
     "data": {
      "image/png": "[encoded data removed]",
      "text/plain": [
       "<matplotlib.figure.Figure at 0xe764e84518>"
      ]
     },
     "metadata": {},
     "output_type": "display_data"
    }
   ],
   "source": [
    "a.lat_corners[0]\n",
    "a.lon_corners[0]\n",
    "print(a.lon_corners[0])\n",
    "plt.plot(a.lon_corners[0]@c, a.lat_corners[0]@c)"
   ]
  },
  {
   "cell_type": "code",
   "execution_count": 46,
   "metadata": {
    "collapsed": false
   },
   "outputs": [
    {
     "data": {
      "text/plain": [
       "True"
      ]
     },
     "execution_count": 46,
     "metadata": {},
     "output_type": "execute_result"
    }
   ],
   "source": [
    "gome_path = '07\\\\ret_f_nr5_nsvd12_v26_waves734_nolog.20160703_v27_all.nc'\n",
    "a.load_gnome(gome_path)\n",
    "a.get_clean_gmone_data(gome_path)"
   ]
  },
  {
   "cell_type": "code",
   "execution_count": 104,
   "metadata": {
    "collapsed": false
   },
   "outputs": [
    {
     "data": {
      "text/plain": [
       "(2928, 7, 13)"
      ]
     },
     "execution_count": 104,
     "metadata": {},
     "output_type": "execute_result"
    }
   ],
   "source": [
    "data['sfc_comp_par_direct_all_3h'].shape"
   ]
  },
  {
   "cell_type": "code",
   "execution_count": 23,
   "metadata": {
    "collapsed": false
   },
   "outputs": [
    {
     "data": {
      "text/plain": [
       "[16,\n",
       " 16,\n",
       " 16,\n",
       " 16,\n",
       " 16,\n",
       " 16,\n",
       " 16,\n",
       " 16,\n",
       " 16,\n",
       " 16,\n",
       " 16,\n",
       " 16,\n",
       " 16,\n",
       " 16,\n",
       " 16,\n",
       " 16,\n",
       " 16,\n",
       " 16,\n",
       " 16,\n",
       " 16,\n",
       " 16,\n",
       " 16,\n",
       " 16]"
      ]
     },
     "execution_count": 23,
     "metadata": {},
     "output_type": "execute_result"
    }
   ],
   "source": [
    "a.convert_time_data(a.time)"
   ]
  },
  {
   "cell_type": "code",
   "execution_count": 75,
   "metadata": {
    "collapsed": false
   },
   "outputs": [
    {
     "name": "stderr",
     "output_type": "stream",
     "text": [
      "c:\\users\\bowen\\anaconda3\\lib\\site-packages\\ipykernel\\__main__.py:5: UserWarning: WARNING: valid_min not used since it\n",
      "cannot be safely cast to variable data type\n",
      "c:\\users\\bowen\\anaconda3\\lib\\site-packages\\ipykernel\\__main__.py:5: UserWarning: WARNING: valid_max not used since it\n",
      "cannot be safely cast to variable data type\n"
     ]
    }
   ],
   "source": [
    "filepath = 'PAR2016.nc'\n",
    "data = {}\n",
    "ds = nc.Dataset(filepath, mode='r')\n",
    "for var in list(ds.variables):\n",
    "    data[var] = ds[var][:]\n"
   ]
  },
  {
   "cell_type": "code",
   "execution_count": 5,
   "metadata": {
    "collapsed": false
   },
   "outputs": [
    {
     "name": "stdout",
     "output_type": "stream",
     "text": [
      "(2928, 7, 13)\n"
     ]
    }
   ],
   "source": [
    "print(data['sfc_comp_par_direct_all_3h'].shape)"
   ]
  },
  {
   "cell_type": "code",
   "execution_count": 3,
   "metadata": {
    "collapsed": false
   },
   "outputs": [
    {
     "name": "stdout",
     "output_type": "stream",
     "text": [
      "13\n",
      "7\n",
      "2928\n",
      "2928\n",
      "2928\n",
      "lon\n",
      "lat\n",
      "time\n",
      "sfc_comp_par_direct_all_3h\n",
      "sfc_comp_par_diffuse_all_3h\n",
      "(7, 13)\n",
      "[ 263.5  264.5  265.5  266.5  267.5  268.5  269.5  270.5  271.5  272.5\n",
      "  273.5  274.5  275.5]\n",
      "[ 37.5  38.5  39.5  40.5  41.5  42.5  43.5]\n",
      "OrderedDict([('lon', <class 'netCDF4._netCDF4.Variable'>\n",
      "float32 lon(lon)\n",
      "    long_name: longitude\n",
      "    standard_name: longitude\n",
      "    units: degrees_east\n",
      "    valid_range: [-180.  360.]\n",
      "unlimited dimensions: \n",
      "current shape = (13,)\n",
      "filling on, default _FillValue of 9.969209968386869e+36 used\n",
      "), ('lat', <class 'netCDF4._netCDF4.Variable'>\n",
      "float32 lat(lat)\n",
      "    long_name: latitude\n",
      "    standard_name: latitude\n",
      "    units: degrees_north\n",
      "    valid_range: [-90.  90.]\n",
      "unlimited dimensions: \n",
      "current shape = (7,)\n",
      "filling on, default _FillValue of 9.969209968386869e+36 used\n",
      "), ('time', <class 'netCDF4._netCDF4.Variable'>\n",
      "float32 time(time)\n",
      "    long_name: time\n",
      "    standard_name: time\n",
      "    units: days since 2000-03-01 00:00:00\n",
      "    delta_t: 0000-00-01 00:00:00\n",
      "unlimited dimensions: \n",
      "current shape = (2928,)\n",
      "filling on, default _FillValue of 9.969209968386869e+36 used\n",
      "), ('sfc_comp_par_direct_all_3h', <class 'netCDF4._netCDF4.Variable'>\n",
      "float32 sfc_comp_par_direct_all_3h(time, lat, lon)\n",
      "    long_name: Computed PAR Fluxes PAR Surface Flux Direct, All-sky conditions, 3 Hourly Means\n",
      "    standard_name: Computed PAR Surface Flux Direct - All-sky\n",
      "    CF_name: none\n",
      "    IPCC_name: none\n",
      "    units: W m-2\n",
      "    valid_min:        0\n",
      "    valid_max:     1400\n",
      "    _FillValue: -999.0\n",
      "unlimited dimensions: \n",
      "current shape = (2928, 7, 13)\n",
      "filling on), ('sfc_comp_par_diffuse_all_3h', <class 'netCDF4._netCDF4.Variable'>\n",
      "float32 sfc_comp_par_diffuse_all_3h(time, lat, lon)\n",
      "    long_name: Computed PAR Fluxes PAR Surface Flux Diffuse, All-sky conditions, 3 Hourly Means\n",
      "    standard_name: Computed PAR Surface Flux Diffuse - All-sky\n",
      "    CF_name: none\n",
      "    IPCC_name: none\n",
      "    units: W m-2\n",
      "    valid_min:        0\n",
      "    valid_max:     1400\n",
      "    _FillValue: -999.0\n",
      "unlimited dimensions: \n",
      "current shape = (2928, 7, 13)\n",
      "filling on)])\n"
     ]
    }
   ],
   "source": [
    "for i in data:\n",
    "    print(len(data[i]))\n",
    "    \n",
    "for i in data:\n",
    "    print(i)\n",
    "    \n",
    "print(data['sfc_comp_par_direct_all_3h'][0].shape)\n",
    "print(data['lon'])\n",
    "print(data['lat'])\n",
    "\n",
    "# print(data)"
   ]
  },
  {
   "cell_type": "code",
   "execution_count": 30,
   "metadata": {
    "collapsed": true
   },
   "outputs": [],
   "source": [
    "prefix = 'E:\\\\SIF data\\\\GOME_2016\\\\GOME_2016\\\\'"
   ]
  },
  {
   "cell_type": "code",
   "execution_count": 3,
   "metadata": {
    "collapsed": true
   },
   "outputs": [],
   "source": [
    "gome_path = '07\\\\ret_f_nr5_nsvd12_v26_waves734_nolog.20160708_v27_all.nc'"
   ]
  },
  {
   "cell_type": "code",
   "execution_count": 32,
   "metadata": {
    "collapsed": true
   },
   "outputs": [],
   "source": [
    "from pyhdf.SD import SD, SDC\n",
    "from netCDF4 import Dataset"
   ]
  },
  {
   "cell_type": "code",
   "execution_count": 33,
   "metadata": {
    "collapsed": false
   },
   "outputs": [],
   "source": [
    "path = prefix + gome_path\n",
    "dat = Dataset(path)"
   ]
  },
  {
   "cell_type": "code",
   "execution_count": 17,
   "metadata": {
    "collapsed": false
   },
   "outputs": [
    {
     "name": "stdout",
     "output_type": "stream",
     "text": [
      "SIF_740\n",
      "<class 'netCDF4._netCDF4.Variable'>\n",
      "float32 SIF_740(Num_Observations)\n",
      "    Title: SIF \n",
      "    Units: mW/m^2/nm/sr\n",
      "unlimited dimensions: \n",
      "current shape = (179130,)\n",
      "filling off\n",
      "\n",
      "cloud_fraction\n",
      "<class 'netCDF4._netCDF4.Variable'>\n",
      "float32 cloud_fraction(Num_Observations)\n",
      "    Title: Effective Cloud Fraction\n",
      "    Units: none\n",
      "unlimited dimensions: \n",
      "current shape = (179130,)\n",
      "filling off\n",
      "\n",
      "refl670\n",
      "<class 'netCDF4._netCDF4.Variable'>\n",
      "float32 refl670(Num_Observations)\n",
      "    Title: refl670 (not Rayleigh corrected)\n",
      "    Units: none\n",
      "unlimited dimensions: \n",
      "current shape = (179130,)\n",
      "filling off\n",
      "\n",
      "refl780\n",
      "<class 'netCDF4._netCDF4.Variable'>\n",
      "float32 refl780(Num_Observations)\n",
      "    Title: refl780 (not Rayleigh corrected)\n",
      "    Units: none\n",
      "unlimited dimensions: \n",
      "current shape = (179130,)\n",
      "filling off\n",
      "\n",
      "SZA\n",
      "<class 'netCDF4._netCDF4.Variable'>\n",
      "float32 SZA(Num_Observations)\n",
      "    Title: solar zenith angle\n",
      "    Units: degrees\n",
      "unlimited dimensions: \n",
      "current shape = (179130,)\n",
      "filling off\n",
      "\n",
      "VZA\n",
      "<class 'netCDF4._netCDF4.Variable'>\n",
      "float32 VZA(Num_Observations)\n",
      "    Title: view zenith angle\n",
      "    Units: degrees\n",
      "unlimited dimensions: \n",
      "current shape = (179130,)\n",
      "filling off\n",
      "\n",
      "VAz\n",
      "<class 'netCDF4._netCDF4.Variable'>\n",
      "float32 VAz(Num_Observations)\n",
      "    Title: view azimuth angle\n",
      "    Units: degrees\n",
      "unlimited dimensions: \n",
      "current shape = (179130,)\n",
      "filling off\n",
      "\n",
      "SAz\n",
      "<class 'netCDF4._netCDF4.Variable'>\n",
      "float32 SAz(Num_Observations)\n",
      "    Title: solar azimuth angle\n",
      "    Units: degrees\n",
      "unlimited dimensions: \n",
      "current shape = (179130,)\n",
      "filling off\n",
      "\n",
      "residual\n",
      "<class 'netCDF4._netCDF4.Variable'>\n",
      "float32 residual(Num_Observations)\n",
      "    Title: RMS over wavelength of residual in %\n",
      "    Units: percent of radiance\n",
      "unlimited dimensions: \n",
      "current shape = (179130,)\n",
      "filling off\n",
      "\n",
      "latitude\n",
      "<class 'netCDF4._netCDF4.Variable'>\n",
      "float32 latitude(Num_Observations)\n",
      "    Title: Latitude\n",
      "    Units: Degrees N\n",
      "unlimited dimensions: \n",
      "current shape = (179130,)\n",
      "filling off\n",
      "\n",
      "longitude\n",
      "<class 'netCDF4._netCDF4.Variable'>\n",
      "float32 longitude(Num_Observations)\n",
      "    Title: Longitude\n",
      "    Units: Degrees E\n",
      "unlimited dimensions: \n",
      "current shape = (179130,)\n",
      "filling off\n",
      "\n",
      "time\n",
      "<class 'netCDF4._netCDF4.Variable'>\n",
      "|S1 time(Num_Observations, Twelve)\n",
      "    Title: UTC time\n",
      "    Units: Hours,Minutes,Seconds\n",
      "unlimited dimensions: \n",
      "current shape = (179130, 12)\n",
      "filling off\n",
      "\n",
      "Calibration_factor\n",
      "<class 'netCDF4._netCDF4.Variable'>\n",
      "float32 Calibration_factor(One)\n",
      "unlimited dimensions: \n",
      "current shape = (1,)\n",
      "filling off\n",
      "\n",
      "Latitude_corners\n",
      "<class 'netCDF4._netCDF4.Variable'>\n",
      "float32 Latitude_corners(Num_Observations, Four)\n",
      "    Title: Latitudes of pixel corners\n",
      "    Units: Degrees N\n",
      "unlimited dimensions: \n",
      "current shape = (179130, 4)\n",
      "filling off\n",
      "\n",
      "Longitude_corners\n",
      "<class 'netCDF4._netCDF4.Variable'>\n",
      "float32 Longitude_corners(Num_Observations, Four)\n",
      "    Title: Longitudes of pixel corners\n",
      "    Units: Degrees E\n",
      "unlimited dimensions: \n",
      "current shape = (179130, 4)\n",
      "filling off\n",
      "\n",
      "SIF_uncorrected\n",
      "<class 'netCDF4._netCDF4.Variable'>\n",
      "float32 SIF_uncorrected(Num_Observations)\n",
      "    Title: SIF uncorrected \n",
      "    Units: mW/m^2/nm/sr\n",
      "unlimited dimensions: \n",
      "current shape = (179130,)\n",
      "filling off\n",
      "\n",
      "Quality_flag\n",
      "<class 'netCDF4._netCDF4.Variable'>\n",
      "int16 Quality_flag(Num_Observations)\n",
      "    Title: QC Flag, 1=good (passed all QC checks), 0=bad, 2=good and passed cloud check\n",
      "    Units: none\n",
      "unlimited dimensions: \n",
      "current shape = (179130,)\n",
      "filling off\n",
      "\n",
      "Daily_averaged_SIF\n",
      "<class 'netCDF4._netCDF4.Variable'>\n",
      "float32 Daily_averaged_SIF(Num_Observations)\n",
      "    Title: Daily-averaged SIF\n",
      "    Units: mW/m^2/nm/sr\n",
      "unlimited dimensions: \n",
      "current shape = (179130,)\n",
      "filling off\n",
      "\n"
     ]
    }
   ],
   "source": [
    "# for i in dat.variables:\n",
    "#     print(i)\n",
    "    \n",
    "    \n",
    "# print(data['lon'])\n",
    "# new_par = data['']\n",
    "\n",
    "for i in dat.variables:\n",
    "    print(i)\n",
    "    print(dat.variables[i])"
   ]
  },
  {
   "cell_type": "code",
   "execution_count": 42,
   "metadata": {
    "collapsed": false
   },
   "outputs": [
    {
     "name": "stdout",
     "output_type": "stream",
     "text": [
      "<class 'netCDF4._netCDF4.Variable'>\n",
      "float32 longitude(Num_Observations)\n",
      "    Title: Longitude\n",
      "    Units: Degrees E\n",
      "unlimited dimensions: \n",
      "current shape = (179130,)\n",
      "filling off\n",
      "\n"
     ]
    }
   ],
   "source": [
    "print(dat.variables['longitude'])\n",
    "# https://avdc.gsfc.nasa.gov/pub/data/satellite/MetOp/GOME_F/v27/MetOp-A/\n",
    "\n",
    "# time = [int(i[0])*10 + int(i[1]) for i in dat.variables['time'][:]]\n",
    "\n",
    "# for i in dat.variables['time'][:]:\n",
    "#     print(i)"
   ]
  },
  {
   "cell_type": "code",
   "execution_count": 23,
   "metadata": {
    "collapsed": false
   },
   "outputs": [],
   "source": [
    "# dat.variables['Latitude_corners']\n",
    "# time = np.array(time)\n",
    "import matplotlib.pyplot as plt\n",
    "%matplotlib inline\n",
    "# plt.hist(time)"
   ]
  },
  {
   "cell_type": "code",
   "execution_count": 27,
   "metadata": {
    "collapsed": false
   },
   "outputs": [
    {
     "data": {
      "text/plain": [
       "array([ 5784.0625,  5784.1875,  5784.3125, ...,  6149.6875,  6149.8125,\n",
       "        6149.9375], dtype=float32)"
      ]
     },
     "execution_count": 27,
     "metadata": {},
     "output_type": "execute_result"
    },
    {
     "data": {
      "image/png": "[encoded data removed]",
      "text/plain": [
       "<matplotlib.figure.Figure at 0x3d7722da20>"
      ]
     },
     "metadata": {},
     "output_type": "display_data"
    }
   ],
   "source": [
    "np.array(data['time'])\n",
    "plt.scatter(np.arange(2928), np.array(data['time']))\n",
    "\n",
    "\n",
    "np.array(data['time'])\n",
    "# plt.xlabel('par observation')\n",
    "# plt.title('PAR time')"
   ]
  },
  {
   "cell_type": "code",
   "execution_count": 36,
   "metadata": {
    "collapsed": false
   },
   "outputs": [
    {
     "data": {
      "text/plain": [
       "Text(0.5,0,'gonme observations')"
      ]
     },
     "execution_count": 36,
     "metadata": {},
     "output_type": "execute_result"
    },
    {
     "data": {
      "image/png": "[encoded data removed]",
      "text/plain": [
       "<matplotlib.figure.Figure at 0x5fd8632cc0>"
      ]
     },
     "metadata": {},
     "output_type": "display_data"
    }
   ],
   "source": [
    "plt.plot(time)\n",
    "plt.title('GONME time')\n",
    "plt.xlabel('gonme observations')"
   ]
  },
  {
   "cell_type": "code",
   "execution_count": 30,
   "metadata": {
    "collapsed": false
   },
   "outputs": [
    {
     "ename": "NameError",
     "evalue": "name 'dat' is not defined",
     "output_type": "error",
     "traceback": [
      "\u001b[0;31m---------------------------------------------------------------------------\u001b[0m",
      "\u001b[0;31mNameError\u001b[0m                                 Traceback (most recent call last)",
      "\u001b[0;32m<ipython-input-30-649a44ba8824>\u001b[0m in \u001b[0;36m<module>\u001b[0;34m()\u001b[0m\n\u001b[1;32m      1\u001b[0m \u001b[1;31m# time = [''.j for i in dat.variables['time'][:]\u001b[0m\u001b[1;33m\u001b[0m\u001b[1;33m\u001b[0m\u001b[0m\n\u001b[1;32m      2\u001b[0m \u001b[1;33m\u001b[0m\u001b[0m\n\u001b[0;32m----> 3\u001b[0;31m \u001b[0mprint\u001b[0m\u001b[1;33m(\u001b[0m\u001b[0mtype\u001b[0m\u001b[1;33m(\u001b[0m\u001b[0mdat\u001b[0m\u001b[1;33m.\u001b[0m\u001b[0mvariables\u001b[0m\u001b[1;33m[\u001b[0m\u001b[1;34m'time'\u001b[0m\u001b[1;33m]\u001b[0m\u001b[1;33m[\u001b[0m\u001b[1;33m:\u001b[0m\u001b[1;33m]\u001b[0m\u001b[1;33m[\u001b[0m\u001b[1;36m0\u001b[0m\u001b[1;33m]\u001b[0m\u001b[1;33m[\u001b[0m\u001b[1;36m0\u001b[0m\u001b[1;33m]\u001b[0m\u001b[1;33m)\u001b[0m\u001b[1;33m)\u001b[0m\u001b[1;33m\u001b[0m\u001b[0m\n\u001b[0m\u001b[1;32m      4\u001b[0m \u001b[1;33m\u001b[0m\u001b[0m\n\u001b[1;32m      5\u001b[0m \u001b[0mprint\u001b[0m\u001b[1;33m(\u001b[0m\u001b[0mdat\u001b[0m\u001b[1;33m.\u001b[0m\u001b[0mvariables\u001b[0m\u001b[1;33m[\u001b[0m\u001b[1;34m'time'\u001b[0m\u001b[1;33m]\u001b[0m\u001b[1;33m[\u001b[0m\u001b[1;33m:\u001b[0m\u001b[1;33m]\u001b[0m\u001b[1;33m)\u001b[0m\u001b[1;33m\u001b[0m\u001b[0m\n",
      "\u001b[0;31mNameError\u001b[0m: name 'dat' is not defined"
     ]
    }
   ],
   "source": [
    "# time = [''.j for i in dat.variables['time'][:]\n",
    "        \n",
    "print(type(dat.variables['time'][:][0][0]))\n",
    "\n",
    "print(dat.variables['time'][:])"
   ]
  },
  {
   "cell_type": "code",
   "execution_count": 38,
   "metadata": {
    "collapsed": false
   },
   "outputs": [
    {
     "data": {
      "text/plain": [
       "<matplotlib.collections.PathCollection at 0x5fd8a69940>"
      ]
     },
     "execution_count": 38,
     "metadata": {},
     "output_type": "execute_result"
    },
    {
     "data": {
      "image/png": "[encoded data removed]",
      "text/plain": [
       "<matplotlib.figure.Figure at 0x5fd8601dd8>"
      ]
     },
     "metadata": {},
     "output_type": "display_data"
    }
   ],
   "source": [
    "plt.scatter(dat.variables['longitude'][:], dat.variables['latitude'])"
   ]
  },
  {
   "cell_type": "code",
   "execution_count": 41,
   "metadata": {
    "collapsed": false
   },
   "outputs": [
    {
     "data": {
      "text/plain": [
       "[<matplotlib.lines.Line2D at 0x5fd8b3d240>]"
      ]
     },
     "execution_count": 41,
     "metadata": {},
     "output_type": "execute_result"
    },
    {
     "data": {
      "image/png": "[encoded data removed]",
      "text/plain": [
       "<matplotlib.figure.Figure at 0x5fd8648518>"
      ]
     },
     "metadata": {},
     "output_type": "display_data"
    }
   ],
   "source": [
    "plt.plot(dat.variables['longitude'][:])"
   ]
  },
  {
   "cell_type": "code",
   "execution_count": 43,
   "metadata": {
    "collapsed": false
   },
   "outputs": [
    {
     "data": {
      "text/plain": [
       "[<matplotlib.lines.Line2D at 0x5fd8bbd4a8>]"
      ]
     },
     "execution_count": 43,
     "metadata": {},
     "output_type": "execute_result"
    },
    {
     "data": {
      "image/png": "[encoded data removed]",
      "text/plain": [
       "<matplotlib.figure.Figure at 0x5fd8b01898>"
      ]
     },
     "metadata": {},
     "output_type": "display_data"
    }
   ],
   "source": [
    "plt.plot(dat.variables['latitude'][:])"
   ]
  },
  {
   "cell_type": "code",
   "execution_count": 6,
   "metadata": {
    "collapsed": true
   },
   "outputs": [],
   "source": [
    "from shapely.geometry import Polygon"
   ]
  },
  {
   "cell_type": "code",
   "execution_count": 9,
   "metadata": {
    "collapsed": true
   },
   "outputs": [],
   "source": [
    "a = Polygon(((0,0), (10,0), (10,10),(0,10)))\n",
    "b = Polygon(((3,0), (11,0), (12, 9), (4,9)))"
   ]
  },
  {
   "cell_type": "code",
   "execution_count": 90,
   "metadata": {
    "collapsed": false
   },
   "outputs": [
    {
     "data": {
      "text/plain": [
       "5784.0625"
      ]
     },
     "execution_count": 90,
     "metadata": {},
     "output_type": "execute_result"
    }
   ],
   "source": [
    "min(data['time'])"
   ]
  },
  {
   "cell_type": "code",
   "execution_count": 117,
   "metadata": {
    "collapsed": false
   },
   "outputs": [
    {
     "name": "stdout",
     "output_type": "stream",
     "text": [
      "2926.0\n"
     ]
    }
   ],
   "source": [
    "base_date = datetime.date(2016, 1, 1)\n",
    "date_value = (cur_date-base_date).days*8 + hour//3\n",
    "\n",
    "print(date_value)"
   ]
  },
  {
   "cell_type": "code",
   "execution_count": 116,
   "metadata": {
    "collapsed": false
   },
   "outputs": [],
   "source": [
    "cur_date = datetime.date(2016,12,31)\n",
    "hour = 20.59"
   ]
  },
  {
   "cell_type": "code",
   "execution_count": 97,
   "metadata": {
    "collapsed": false
   },
   "outputs": [
    {
     "data": {
      "text/plain": [
       "5784"
      ]
     },
     "execution_count": 97,
     "metadata": {},
     "output_type": "execute_result"
    }
   ],
   "source": [
    "(date-base_date).days"
   ]
  },
  {
   "cell_type": "code",
   "execution_count": 47,
   "metadata": {
    "collapsed": false
   },
   "outputs": [
    {
     "data": {
      "text/plain": [
       "array([[1, 2, 3],\n",
       "       [4, 5, 6]])"
      ]
     },
     "execution_count": 47,
     "metadata": {},
     "output_type": "execute_result"
    }
   ],
   "source": [
    "import numpy as np\n",
    "a = np.array([[1,2,3], [2,3,4], [4,5,6]])\n",
    "b = np.array([0,2])\n",
    "a[b]"
   ]
  },
  {
   "cell_type": "code",
   "execution_count": 76,
   "metadata": {
    "collapsed": false
   },
   "outputs": [
    {
     "data": {
      "text/plain": [
       "array([[-166.33377075,   75.60034943],\n",
       "       [-166.48991394,   75.65412903],\n",
       "       [-167.19509888,   75.96609497],\n",
       "       ..., \n",
       "       [-157.5136261 ,   79.37258911],\n",
       "       [-155.22566223,   78.26472473],\n",
       "       [-153.33369446,   77.14334106]], dtype=float32)"
      ]
     },
     "execution_count": 76,
     "metadata": {},
     "output_type": "execute_result"
    }
   ],
   "source": [
    "data_lons = dat.variables['longitude'][:]\n",
    "data_lats = dat.variables['latitude'][:]\n",
    "l = np.concatenate((data_lons.reshape(-1,1), data_lats.reshape(-1,1)), axis = 1)\n",
    "# data_lats.reshape(-1,1).shape\n",
    "np.where(l )"
   ]
  },
  {
   "cell_type": "code",
   "execution_count": 79,
   "metadata": {
    "collapsed": false
   },
   "outputs": [
    {
     "data": {
      "text/plain": [
       "(array([1], dtype=int64),)"
      ]
     },
     "execution_count": 79,
     "metadata": {},
     "output_type": "execute_result"
    }
   ],
   "source": [
    "a  = np.array([1,2,3])\n",
    "np.where((a > 1) & (a < 3))"
   ]
  },
  {
   "cell_type": "code",
   "execution_count": 80,
   "metadata": {
    "collapsed": false
   },
   "outputs": [
    {
     "data": {
      "text/plain": [
       "array([2, 3])"
      ]
     },
     "execution_count": 80,
     "metadata": {},
     "output_type": "execute_result"
    }
   ],
   "source": [
    "b = np.array([2,3,4])\n",
    "np.intersect1d(a,b)"
   ]
  },
  {
   "cell_type": "code",
   "execution_count": 33,
   "metadata": {
    "collapsed": false
   },
   "outputs": [
    {
     "name": "stdout",
     "output_type": "stream",
     "text": [
      "2000\n",
      "2000\n",
      "2000\n",
      "2000\n",
      "2000\n",
      "2000\n",
      "2000\n",
      "2000\n",
      "2000\n",
      "2000\n"
     ]
    }
   ],
   "source": [
    "start_date = datetime.date(2000, 3, 1)\n",
    "day_count = 10\n",
    "for single_date in (start_date + timedelta(n) for n in range(day_count)):\n",
    "    print(single_date.year)"
   ]
  },
  {
   "cell_type": "code",
   "execution_count": 34,
   "metadata": {
    "collapsed": true
   },
   "outputs": [],
   "source": [
    "import math"
   ]
  },
  {
   "cell_type": "code",
   "execution_count": 36,
   "metadata": {
    "collapsed": false
   },
   "outputs": [
    {
     "data": {
      "text/plain": [
       "15"
      ]
     },
     "execution_count": 36,
     "metadata": {},
     "output_type": "execute_result"
    }
   ],
   "source": [
    "a = np.array([[1,0], ])"
   ]
  },
  {
   "cell_type": "code",
   "execution_count": 55,
   "metadata": {
    "collapsed": false
   },
   "outputs": [
    {
     "data": {
      "text/plain": [
       "array([[-87.30250549, -87.12741852, -87.81520081, -87.64704132],\n",
       "       [-87.29138947, -87.11585236, -88.84397888, -88.6882782 ],\n",
       "       [-87.45240784, -87.27909851, -87.96497345, -87.79853821],\n",
       "       [-87.9058609 , -87.73866272, -88.42308807, -88.26241302],\n",
       "       [-88.36627197, -88.20490265, -88.88181305, -88.72653198],\n",
       "       [-88.82702637, -88.67111969, -89.34614563, -89.19594574],\n",
       "       [-89.29315186, -89.14237976, -89.80265808, -89.65707397],\n",
       "       [-88.94192505, -88.78726196, -90.5194397 , -90.38052368],\n",
       "       [-88.05671692, -87.89125061, -88.56905365, -88.40999603],\n",
       "       [-88.51251984, -88.35277557, -89.02545929, -88.87172699],\n",
       "       [-88.97094727, -88.81659698, -89.48948669, -89.34078979],\n",
       "       [-89.43675995, -89.28751373, -89.9415741 , -89.79742432],\n",
       "       [-89.89033508, -89.74568939, -90.40170288, -90.26181793],\n",
       "       [-90.35173035, -90.21139526, -90.86908722, -90.7331543 ],\n",
       "       [-90.82012939, -90.68379974, -91.33207703, -91.19970703],\n",
       "       [-90.60479736, -90.46678925, -92.18165588, -92.05514526],\n",
       "       [-89.08470154, -88.93157959, -90.65422058, -90.51663971],\n",
       "       [-89.1134491 , -88.96063232, -89.63142395, -89.48420715],\n",
       "       [-89.57897949, -89.43121338, -90.07915497, -89.93640137],\n",
       "       [-90.02818298, -89.88493347, -90.54080963, -90.40229797],\n",
       "       [-90.49110413, -90.35214996, -91.0018692 , -90.86721802],\n",
       "       [-90.95316315, -90.81812286, -91.46618652, -91.33507538],\n",
       "       [-91.08496094, -90.95118713, -91.59345245, -91.46353912]], dtype=float32)"
      ]
     },
     "execution_count": 55,
     "metadata": {},
     "output_type": "execute_result"
    }
   ],
   "source": [
    "a.lon_corners"
   ]
  },
  {
   "cell_type": "code",
   "execution_count": 56,
   "metadata": {
    "collapsed": false
   },
   "outputs": [
    {
     "data": {
      "text/plain": [
       "array([[-87.30250549, -87.12741852, -87.64704132, -87.81520081],\n",
       "       [-87.29138947, -87.11585236, -88.6882782 , -88.84397888],\n",
       "       [-87.45240784, -87.27909851, -87.79853821, -87.96497345],\n",
       "       [-87.9058609 , -87.73866272, -88.26241302, -88.42308807],\n",
       "       [-88.36627197, -88.20490265, -88.72653198, -88.88181305],\n",
       "       [-88.82702637, -88.67111969, -89.19594574, -89.34614563],\n",
       "       [-89.29315186, -89.14237976, -89.65707397, -89.80265808],\n",
       "       [-88.94192505, -88.78726196, -90.38052368, -90.5194397 ],\n",
       "       [-88.05671692, -87.89125061, -88.40999603, -88.56905365],\n",
       "       [-88.51251984, -88.35277557, -88.87172699, -89.02545929],\n",
       "       [-88.97094727, -88.81659698, -89.34078979, -89.48948669],\n",
       "       [-89.43675995, -89.28751373, -89.79742432, -89.9415741 ],\n",
       "       [-89.89033508, -89.74568939, -90.26181793, -90.40170288],\n",
       "       [-90.35173035, -90.21139526, -90.7331543 , -90.86908722],\n",
       "       [-90.82012939, -90.68379974, -91.19970703, -91.33207703],\n",
       "       [-90.60479736, -90.46678925, -92.05514526, -92.18165588],\n",
       "       [-89.08470154, -88.93157959, -90.51663971, -90.65422058],\n",
       "       [-89.1134491 , -88.96063232, -89.48420715, -89.63142395],\n",
       "       [-89.57897949, -89.43121338, -89.93640137, -90.07915497],\n",
       "       [-90.02818298, -89.88493347, -90.40229797, -90.54080963],\n",
       "       [-90.49110413, -90.35214996, -90.86721802, -91.0018692 ],\n",
       "       [-90.95316315, -90.81812286, -91.33507538, -91.46618652],\n",
       "       [-91.08496094, -90.95118713, -91.46353912, -91.59345245]])"
      ]
     },
     "execution_count": 56,
     "metadata": {},
     "output_type": "execute_result"
    }
   ],
   "source": [
    "c = np.array([[1,0,0,0],[0,1,0,0],[0,0,0,1],[0,0,1,0]])\n",
    "\n",
    "\n",
    "a.lon_corners@c"
   ]
  },
  {
   "cell_type": "code",
   "execution_count": 70,
   "metadata": {
    "collapsed": false
   },
   "outputs": [
    {
     "data": {
      "text/plain": [
       "array([[ 1, 10, 11,  2],\n",
       "       [ 0,  0, 11, 10]])"
      ]
     },
     "execution_count": 70,
     "metadata": {},
     "output_type": "execute_result"
    }
   ],
   "source": [
    "l = np.array([[1,10,11,2]])\n",
    "lo = np.array([[0,0,11,10]])\n",
    "np.vstack((l, lo))"
   ]
  },
  {
   "cell_type": "code",
   "execution_count": 71,
   "metadata": {
    "collapsed": false
   },
   "outputs": [],
   "source": [
    "a = Polygon(np.vstack((l,lo)).T)"
   ]
  },
  {
   "cell_type": "code",
   "execution_count": 78,
   "metadata": {
    "collapsed": false
   },
   "outputs": [
    {
     "data": {
      "text/plain": [
       "array([[3, 4],\n",
       "       [3, 4]])"
      ]
     },
     "execution_count": 78,
     "metadata": {},
     "output_type": "execute_result"
    }
   ],
   "source": [
    "a = np.array([[1,2],[3,4]])\n",
    "a[[1,1]]"
   ]
  },
  {
   "cell_type": "code",
   "execution_count": 9,
   "metadata": {
    "collapsed": false
   },
   "outputs": [],
   "source": [
    "import Par_util"
   ]
  },
  {
   "cell_type": "code",
   "execution_count": 10,
   "metadata": {
    "collapsed": false
   },
   "outputs": [
    {
     "ename": "NameError",
     "evalue": "name 'Par_utils' is not defined",
     "output_type": "error",
     "traceback": [
      "\u001b[0;31m---------------------------------------------------------------------------\u001b[0m",
      "\u001b[0;31mNameError\u001b[0m                                 Traceback (most recent call last)",
      "\u001b[0;32m<ipython-input-10-157ae4f58cc8>\u001b[0m in \u001b[0;36m<module>\u001b[0;34m()\u001b[0m\n\u001b[0;32m----> 1\u001b[0;31m \u001b[0ma\u001b[0m \u001b[1;33m=\u001b[0m \u001b[0mPar_utils\u001b[0m\u001b[1;33m(\u001b[0m\u001b[1;33m)\u001b[0m\u001b[1;33m\u001b[0m\u001b[0m\n\u001b[0m",
      "\u001b[0;31mNameError\u001b[0m: name 'Par_utils' is not defined"
     ]
    }
   ],
   "source": [
    "a = Par_utils()"
   ]
  },
  {
   "cell_type": "code",
   "execution_count": null,
   "metadata": {
    "collapsed": true
   },
   "outputs": [],
   "source": []
  }
 ],
 "metadata": {
  "kernelspec": {
   "display_name": "Python 3",
   "language": "python",
   "name": "python3"
  },
  "language_info": {
   "codemirror_mode": {
    "name": "ipython",
    "version": 3
   },
   "file_extension": ".py",
   "mimetype": "text/x-python",
   "name": "python",
   "nbconvert_exporter": "python",
   "pygments_lexer": "ipython3",
   "version": "3.6.4"
  }
 },
 "nbformat": 4,
 "nbformat_minor": 2
}
